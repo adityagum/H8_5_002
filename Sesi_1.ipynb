{
 "cells": [
  {
   "cell_type": "markdown",
   "id": "347ba3df",
   "metadata": {},
   "source": [
    "Introduction, Data Types, and Variables"
   ]
  },
  {
   "cell_type": "markdown",
   "id": "d2925f85",
   "metadata": {},
   "source": [
    "# Integer"
   ]
  },
  {
   "cell_type": "code",
   "execution_count": 1,
   "id": "0f665f0f",
   "metadata": {},
   "outputs": [
    {
     "name": "stdout",
     "output_type": "stream",
     "text": [
      "10\n",
      "<class 'int'>\n"
     ]
    }
   ],
   "source": [
    "print(10)\n",
    "print(type(10))"
   ]
  },
  {
   "cell_type": "markdown",
   "id": "0bbe8b7e",
   "metadata": {},
   "source": [
    "# Floating-Point Numbers"
   ]
  },
  {
   "cell_type": "code",
   "execution_count": 4,
   "id": "699fdc52",
   "metadata": {},
   "outputs": [
    {
     "name": "stdout",
     "output_type": "stream",
     "text": [
      "4.2\n",
      "<class 'float'>\n",
      "4.0\n",
      "0.2\n",
      "4000000.0\n",
      "0.00042\n"
     ]
    }
   ],
   "source": [
    "print(4.2)\n",
    "print(type(4.2))\n",
    "\n",
    "print(4.)\n",
    "\n",
    "print(.2)\n",
    "\n",
    "print(.4e7)\n",
    "\n",
    "print(4.2e-4)"
   ]
  },
  {
   "cell_type": "markdown",
   "id": "ba7af3f0",
   "metadata": {},
   "source": [
    "# Strings"
   ]
  },
  {
   "cell_type": "code",
   "execution_count": 5,
   "id": "bf86e154",
   "metadata": {},
   "outputs": [
    {
     "name": "stdout",
     "output_type": "stream",
     "text": [
      "hacktiv8\n",
      "<class 'str'>\n"
     ]
    }
   ],
   "source": [
    "a = 'hacktiv8'\n",
    "print(a)\n",
    "print(type(a))"
   ]
  },
  {
   "cell_type": "code",
   "execution_count": 6,
   "id": "aaf422cb",
   "metadata": {},
   "outputs": [
    {
     "name": "stdout",
     "output_type": "stream",
     "text": [
      "This string contains a single quote (') character.\n",
      "This string contains a double quote (\") character.\n"
     ]
    }
   ],
   "source": [
    "print(\"This string contains a single quote (') character.\")\n",
    "print('This string contains a double quote (\") character.')"
   ]
  },
  {
   "cell_type": "markdown",
   "id": "91950b3e",
   "metadata": {},
   "source": [
    "# Boolean"
   ]
  },
  {
   "cell_type": "code",
   "execution_count": 7,
   "id": "57e87108",
   "metadata": {},
   "outputs": [
    {
     "name": "stdout",
     "output_type": "stream",
     "text": [
      "<class 'bool'>\n",
      "<class 'bool'>\n"
     ]
    }
   ],
   "source": [
    "print(type(True))\n",
    "print(type(False))"
   ]
  },
  {
   "cell_type": "markdown",
   "id": "8196ae20",
   "metadata": {},
   "source": [
    "# Variable Names"
   ]
  },
  {
   "cell_type": "code",
   "execution_count": 8,
   "id": "fa994031",
   "metadata": {},
   "outputs": [
    {
     "name": "stdout",
     "output_type": "stream",
     "text": [
      "23.5\n",
      "<class 'float'>\n",
      "Now I'm a string\n",
      "<class 'str'>\n"
     ]
    }
   ],
   "source": [
    "var = 23.5\n",
    "print(var)\n",
    "print(type(var))\n",
    "\n",
    "var = \"Now I'm a string\"\n",
    "print(var)\n",
    "print(type(var))\n"
   ]
  },
  {
   "cell_type": "code",
   "execution_count": 9,
   "id": "5931d34b",
   "metadata": {},
   "outputs": [
    {
     "name": "stdout",
     "output_type": "stream",
     "text": [
      "ANI\n",
      "ANITA\n"
     ]
    }
   ],
   "source": [
    "name = \"ANI\"\n",
    "NAME = \"ANITA\"\n",
    "\n",
    "print(name)\n",
    "print(NAME)\n"
   ]
  },
  {
   "cell_type": "markdown",
   "id": "223330c1",
   "metadata": {},
   "source": [
    "# Operator and Expressions"
   ]
  },
  {
   "cell_type": "code",
   "execution_count": 10,
   "id": "50eac346",
   "metadata": {},
   "outputs": [
    {
     "data": {
      "text/plain": [
       "30"
      ]
     },
     "execution_count": 10,
     "metadata": {},
     "output_type": "execute_result"
    }
   ],
   "source": [
    "a = 10\n",
    "b = 20\n",
    "a + b"
   ]
  },
  {
   "cell_type": "markdown",
   "id": "c4b49546",
   "metadata": {},
   "source": [
    "## Arithmetic Operators"
   ]
  },
  {
   "cell_type": "code",
   "execution_count": 12,
   "id": "7a28e011",
   "metadata": {},
   "outputs": [
    {
     "name": "stdout",
     "output_type": "stream",
     "text": [
      "15\n",
      "5\n",
      "50\n",
      "2.0\n",
      "2\n",
      "0\n",
      "100000\n"
     ]
    }
   ],
   "source": [
    "a = 10\n",
    "b = 5\n",
    "\n",
    "print(a + b)\n",
    "print(a - b) \n",
    "print(a * b) \n",
    "print(a / b)  #division\n",
    "print(a // b) #integer division \n",
    "print(a % b)  #Mod\n",
    "print(a ** b) #Pangkat\n"
   ]
  },
  {
   "cell_type": "markdown",
   "id": "04bd8922",
   "metadata": {},
   "source": [
    "## Comparison Operators"
   ]
  },
  {
   "cell_type": "code",
   "execution_count": 16,
   "id": "eadf3bc7",
   "metadata": {},
   "outputs": [
    {
     "name": "stdout",
     "output_type": "stream",
     "text": [
      "False\n",
      "True\n",
      "True\n",
      "False\n"
     ]
    }
   ],
   "source": [
    "a = 10\n",
    "b = 20\n",
    "\n",
    "print(a == b)\n",
    "print(a != b)\n",
    "print(a <= b)\n",
    "print(a >= b)"
   ]
  },
  {
   "cell_type": "markdown",
   "id": "43f442a0",
   "metadata": {},
   "source": [
    "# String Manipulation"
   ]
  },
  {
   "cell_type": "code",
   "execution_count": 23,
   "id": "c3f9b426",
   "metadata": {},
   "outputs": [
    {
     "name": "stdout",
     "output_type": "stream",
     "text": [
      "foobar\n",
      "foobarbaz\n",
      "foobarbaz\n",
      "Hacktiv8foo\n",
      "Hacktiv8Hacktiv8\n"
     ]
    }
   ],
   "source": [
    "s = 'foo'\n",
    "t = 'bar'\n",
    "u = 'baz'\n",
    "\n",
    "print(s + t) #foobar\n",
    "print(s + t + u) #foobarbaz\n",
    "print(s + t + u)\n",
    "\n",
    "con_str = 'Hacktiv8' + s\n",
    "print(con_str)\n",
    "\n",
    "hck = 'Hacktiv8'\n",
    "print (2 * hck)"
   ]
  },
  {
   "cell_type": "markdown",
   "id": "f28397a4",
   "metadata": {},
   "source": [
    "## In Operators"
   ]
  },
  {
   "cell_type": "code",
   "execution_count": 24,
   "id": "f4a771ff",
   "metadata": {},
   "outputs": [
    {
     "name": "stdout",
     "output_type": "stream",
     "text": [
      "True\n",
      "False\n"
     ]
    }
   ],
   "source": [
    "s = 'foo'\n",
    "print(s in 'That food for us')\n",
    "s = 'fos'\n",
    "print(s in 'That good for us')\n"
   ]
  },
  {
   "cell_type": "markdown",
   "id": "e4ba4dd3",
   "metadata": {},
   "source": [
    "## Case Conversion"
   ]
  },
  {
   "cell_type": "code",
   "execution_count": 28,
   "id": "72d0167d",
   "metadata": {},
   "outputs": [
    {
     "name": "stdout",
     "output_type": "stream",
     "text": [
      "Hacktiv8\n",
      "hacktiv8\n",
      "hACktIV8\n",
      "Hacktiv8\n",
      "HACKTIV8\n"
     ]
    }
   ],
   "source": [
    "s = 'HacKTiv8'\n",
    "\n",
    "# Capitalize\n",
    "print(s.capitalize())\n",
    "\n",
    "# Lower\n",
    "print(s.lower())\n",
    "\n",
    "# SwapCase\n",
    "print(s.swapcase())\n",
    "\n",
    "# Title\n",
    "print(s.title())\n",
    "\n",
    "# Uppercase\n",
    "print(s.upper())"
   ]
  },
  {
   "cell_type": "markdown",
   "id": "4983cd26",
   "metadata": {},
   "source": [
    "# List Python"
   ]
  },
  {
   "cell_type": "code",
   "execution_count": 30,
   "id": "34490b7a",
   "metadata": {},
   "outputs": [
    {
     "name": "stdout",
     "output_type": "stream",
     "text": [
      "['foo', 'bar', 'baz', 'qux']\n",
      "False\n"
     ]
    }
   ],
   "source": [
    "a = ['foo', 'bar', 'baz', 'qux']\n",
    "print(a)\n",
    "\n",
    "b = ['fod', 'bad', 'baw', 'qux']\n",
    "print(a==b)"
   ]
  },
  {
   "cell_type": "code",
   "execution_count": 35,
   "id": "3b385f2d",
   "metadata": {},
   "outputs": [
    {
     "name": "stdout",
     "output_type": "stream",
     "text": [
      "[21.43, 'footbar', 3, 4, 'bark', True]\n",
      "21.43\n",
      "4\n",
      "True\n",
      "[3, 4]\n",
      "[21.43, 'footbar', 3, 4, 'bark', True, 'Add', 'yow']\n",
      "[21.43, 'footbar', 3, 4, 'bark', True, 21.43, 'footbar', 3, 4, 'bark', True]\n"
     ]
    }
   ],
   "source": [
    "a = [21.43, 'footbar', 3, 4, 'bark', True]\n",
    "print(a)\n",
    "print(a[0])\n",
    "print(a[3])\n",
    "print(a[-1])\n",
    "print(a[2:4])\n",
    "print(a + ['Add', 'yow'])\n",
    "print(a * 2)"
   ]
  },
  {
   "cell_type": "markdown",
   "id": "e9ca0773",
   "metadata": {},
   "source": [
    "## Modifying List"
   ]
  },
  {
   "cell_type": "code",
   "execution_count": 37,
   "id": "5d1345e9",
   "metadata": {},
   "outputs": [
    {
     "name": "stdout",
     "output_type": "stream",
     "text": [
      "[21.43, 'footbar', 3, 4, 'bark', True]\n",
      "['New', 3, 1000, 'bark', True]\n"
     ]
    }
   ],
   "source": [
    "a = [21.43, 'footbar', 3, 4, 'bark', True]\n",
    "print(a)\n",
    "\n",
    "a[1] = 'New'\n",
    "a[-3] = 1000\n",
    "del a[0]\n",
    "\n",
    "print(a)"
   ]
  },
  {
   "cell_type": "code",
   "execution_count": 39,
   "id": "55a1d2b0",
   "metadata": {},
   "outputs": [
    {
     "name": "stdout",
     "output_type": "stream",
     "text": [
      "['faa', 'fii']\n",
      "['foo', 1, 2, 'Hoee', 'Hae', 'Gud']\n"
     ]
    }
   ],
   "source": [
    "# Multiple List\n",
    "\n",
    "a = ['foo', 'faa', 'fii', 'Hoee', 'Hae', 'Gud']\n",
    "print(a[1:3])\n",
    "\n",
    "a[1:3] = [1, 2]\n",
    "print(a)"
   ]
  },
  {
   "cell_type": "markdown",
   "id": "ce1b4433",
   "metadata": {},
   "source": [
    "# Tuples"
   ]
  },
  {
   "cell_type": "code",
   "execution_count": 40,
   "id": "20b52fa4",
   "metadata": {},
   "outputs": [
    {
     "name": "stdout",
     "output_type": "stream",
     "text": [
      "('foo', 'bar', 'baz', 'qux', 'quux', 'corge')\n"
     ]
    }
   ],
   "source": [
    "t = ('foo', 'bar', 'baz', 'qux', 'quux', 'corge')\n",
    "print(t)\n"
   ]
  },
  {
   "cell_type": "code",
   "execution_count": 41,
   "id": "539a1725",
   "metadata": {},
   "outputs": [
    {
     "name": "stdout",
     "output_type": "stream",
     "text": [
      "foo\n",
      "qux\n",
      "corge\n"
     ]
    }
   ],
   "source": [
    "print(t[0])\n",
    "print(t[3])\n",
    "print(t[-1])"
   ]
  },
  {
   "cell_type": "code",
   "execution_count": 43,
   "id": "d787090d",
   "metadata": {},
   "outputs": [
    {
     "name": "stdout",
     "output_type": "stream",
     "text": [
      "(2, 4, 6, 8)\n",
      "<class 'tuple'>\n",
      "10\n",
      "<class 'int'>\n",
      "(10,)\n",
      "<class 'tuple'>\n"
     ]
    }
   ],
   "source": [
    "t = (2, 4, 6, 8)\n",
    "print(t)\n",
    "print(type(t))\n",
    "\n",
    "single_t = (10)\n",
    "print(single_t)\n",
    "print(type(single_t))\n",
    "\n",
    "\n",
    "#Single Tuple declaration\n",
    "single_t = (10,)\n",
    "print(single_t)\n",
    "print(type(single_t))\n"
   ]
  },
  {
   "cell_type": "markdown",
   "id": "68a62e2b",
   "metadata": {},
   "source": [
    "# Dictionary"
   ]
  },
  {
   "cell_type": "code",
   "execution_count": 46,
   "id": "ca37a47b",
   "metadata": {},
   "outputs": [
    {
     "name": "stdout",
     "output_type": "stream",
     "text": [
      "Red Sox\n",
      "White Sox\n",
      "{'Colorado': 'Rockies', 'Boston': 'White Sox', 'Minnesota': 'Twins', 'Milwaukee': 'Brewers'}\n"
     ]
    }
   ],
   "source": [
    "MLB_team = {\n",
    "   'Colorado': 'Rockies',\n",
    "   'Boston': 'Red Sox',\n",
    "   'Minnesota': 'Twins',\n",
    "   'Milwaukee': 'Brewers',\n",
    "   'Seattle': 'Mariners'\n",
    "}\n",
    "\n",
    "print(MLB_team['Boston'])\n",
    "MLB_team['Boston'] = \"White Sox\"\n",
    "print(MLB_team['Boston'])\n",
    "\n",
    "del MLB_team['Seattle']\n",
    "print(MLB_team)"
   ]
  },
  {
   "cell_type": "code",
   "execution_count": 54,
   "id": "0fd2ac5f",
   "metadata": {},
   "outputs": [
    {
     "name": "stdout",
     "output_type": "stream",
     "text": [
      "<class 'dict'>\n"
     ]
    },
    {
     "data": {
      "text/plain": [
       "{'fname': 'Hack',\n",
       " 'lname': 'Inalum',\n",
       " 'age': 51,\n",
       " 'spouse': 'Edna',\n",
       " 'children': ['Ralph', 'Betty', 'Joey'],\n",
       " 'pets': {'dog': 'Fido', 'cat': 'Sox'}}"
      ]
     },
     "execution_count": 54,
     "metadata": {},
     "output_type": "execute_result"
    }
   ],
   "source": [
    "person = {}\n",
    "print(type(person))\n",
    "\n",
    "person['fname'] = 'Hack'\n",
    "person['lname'] = 'Inalum'\n",
    "person['age'] = 51\n",
    "person['spouse'] = 'Edna'\n",
    "person['children'] = ['Ralph', 'Betty', 'Joey']\n",
    "person['pets'] = {'dog': 'Fido', 'cat': 'Sox'}\n",
    "person"
   ]
  },
  {
   "cell_type": "code",
   "execution_count": 56,
   "id": "da4ba9d6",
   "metadata": {},
   "outputs": [
    {
     "name": "stdout",
     "output_type": "stream",
     "text": [
      "['Betty']\n"
     ]
    }
   ],
   "source": [
    "print(person['children'][1:2])"
   ]
  },
  {
   "cell_type": "code",
   "execution_count": 3,
   "id": "2202a378",
   "metadata": {},
   "outputs": [
    {
     "name": "stdout",
     "output_type": "stream",
     "text": [
      "dict_items([('a', 10), ('b', 20), ('c', 30)])\n",
      "dict_keys(['a', 'b', 'c'])\n",
      "dict_values([10, 20, 30])\n"
     ]
    }
   ],
   "source": [
    "d = {'a' : 10, 'b' : 20, 'c' : 30}\n",
    "\n",
    "print(d.items())\n",
    "print(d.keys())\n",
    "print(d.values())"
   ]
  },
  {
   "cell_type": "code",
   "execution_count": 7,
   "id": "6f94ff17",
   "metadata": {},
   "outputs": [
    {
     "data": {
      "text/plain": [
       "True"
      ]
     },
     "execution_count": 7,
     "metadata": {},
     "output_type": "execute_result"
    }
   ],
   "source": [
    "p1_age = 42\n",
    "p2_age = 16\n",
    "p3_age = 71\n",
    "\n",
    "someone = (\n",
    "    (p1_age >= 18 and p1_age <= 65) \n",
    "    or (p2_age >= 18 and p2_age <= 65) \n",
    "    or (p3_age >= 18 and p3_age <= 65)\n",
    ")\n",
    "someone"
   ]
  },
  {
   "cell_type": "code",
   "execution_count": null,
   "id": "520cc978",
   "metadata": {},
   "outputs": [],
   "source": []
  }
 ],
 "metadata": {
  "kernelspec": {
   "display_name": "Python 3 (ipykernel)",
   "language": "python",
   "name": "python3"
  },
  "language_info": {
   "codemirror_mode": {
    "name": "ipython",
    "version": 3
   },
   "file_extension": ".py",
   "mimetype": "text/x-python",
   "name": "python",
   "nbconvert_exporter": "python",
   "pygments_lexer": "ipython3",
   "version": "3.9.7"
  },
  "toc": {
   "base_numbering": 1,
   "nav_menu": {},
   "number_sections": true,
   "sideBar": true,
   "skip_h1_title": false,
   "title_cell": "Table of Contents",
   "title_sidebar": "Contents",
   "toc_cell": false,
   "toc_position": {},
   "toc_section_display": true,
   "toc_window_display": false
  }
 },
 "nbformat": 4,
 "nbformat_minor": 5
}
