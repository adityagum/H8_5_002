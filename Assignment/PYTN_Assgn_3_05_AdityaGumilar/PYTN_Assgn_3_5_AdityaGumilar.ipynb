{
 "cells": [
  {
   "cell_type": "markdown",
   "id": "15936f8a",
   "metadata": {},
   "source": [
    "<img src = \"https://rec-data.kalibrr.com/www.kalibrr.ph/logos/SSYTB3EN2CEV9HZDWPPE4JHP8X2T7CNC6SDZST8Y-5d0b4f4b.png\" width = 800>"
   ]
  },
  {
   "cell_type": "markdown",
   "id": "437bc8f0",
   "metadata": {},
   "source": [
    "**Aditya Gumilar** <p>\n",
    "**PYTN-KS05-002**"
   ]
  },
  {
   "cell_type": "code",
   "execution_count": 1,
   "id": "bd885c6e",
   "metadata": {},
   "outputs": [],
   "source": [
    "# Import library yang dibutuhkan\n",
    "\n",
    "import numpy as np\n",
    "import pandas as pd\n",
    "import matplotlib.pyplot as plt\n",
    "import seaborn as sns\n",
    "\n",
    "from sklearn.linear_model import LogisticRegression\n",
    "from sklearn.neighbors import KNeighborsClassifier\n",
    "from sklearn import svm\n",
    "from sklearn.svm import SVC\n",
    "from sklearn.svm import LinearSVC\n",
    "from sklearn.tree import DecisionTreeClassifier\n",
    "from sklearn.ensemble import RandomForestClassifier\n",
    "from sklearn.naive_bayes import GaussianNB\n",
    "from sklearn.metrics import classification_report, confusion_matrix,plot_confusion_matrix\n",
    "from sklearn import metrics\n",
    "from sklearn.model_selection import train_test_split\n",
    "from sklearn.preprocessing import StandardScaler\n",
    "\n",
    "from time import time\n",
    "from six import StringIO\n",
    "from sklearn import tree\n",
    "from IPython.display import Image\n",
    "\n",
    "plt.style.use(\"ggplot\")"
   ]
  },
  {
   "cell_type": "markdown",
   "id": "fba5b796",
   "metadata": {},
   "source": [
    "# Exploratory Dataset"
   ]
  },
  {
   "cell_type": "code",
   "execution_count": 2,
   "id": "c633531f",
   "metadata": {},
   "outputs": [
    {
     "data": {
      "text/html": [
       "<div>\n",
       "<style scoped>\n",
       "    .dataframe tbody tr th:only-of-type {\n",
       "        vertical-align: middle;\n",
       "    }\n",
       "\n",
       "    .dataframe tbody tr th {\n",
       "        vertical-align: top;\n",
       "    }\n",
       "\n",
       "    .dataframe thead th {\n",
       "        text-align: right;\n",
       "    }\n",
       "</style>\n",
       "<table border=\"1\" class=\"dataframe\">\n",
       "  <thead>\n",
       "    <tr style=\"text-align: right;\">\n",
       "      <th></th>\n",
       "      <th>age</th>\n",
       "      <th>job</th>\n",
       "      <th>marital</th>\n",
       "      <th>education</th>\n",
       "      <th>default</th>\n",
       "      <th>housing</th>\n",
       "      <th>loan</th>\n",
       "      <th>contact</th>\n",
       "      <th>month</th>\n",
       "      <th>day_of_week</th>\n",
       "      <th>...</th>\n",
       "      <th>campaign</th>\n",
       "      <th>pdays</th>\n",
       "      <th>previous</th>\n",
       "      <th>poutcome</th>\n",
       "      <th>emp.var.rate</th>\n",
       "      <th>cons.price.idx</th>\n",
       "      <th>cons.conf.idx</th>\n",
       "      <th>euribor3m</th>\n",
       "      <th>nr.employed</th>\n",
       "      <th>y</th>\n",
       "    </tr>\n",
       "  </thead>\n",
       "  <tbody>\n",
       "    <tr>\n",
       "      <th>0</th>\n",
       "      <td>56</td>\n",
       "      <td>housemaid</td>\n",
       "      <td>married</td>\n",
       "      <td>basic.4y</td>\n",
       "      <td>no</td>\n",
       "      <td>no</td>\n",
       "      <td>no</td>\n",
       "      <td>telephone</td>\n",
       "      <td>may</td>\n",
       "      <td>mon</td>\n",
       "      <td>...</td>\n",
       "      <td>1</td>\n",
       "      <td>999</td>\n",
       "      <td>0</td>\n",
       "      <td>nonexistent</td>\n",
       "      <td>1.1</td>\n",
       "      <td>93.994</td>\n",
       "      <td>-36.4</td>\n",
       "      <td>4.857</td>\n",
       "      <td>5191.0</td>\n",
       "      <td>no</td>\n",
       "    </tr>\n",
       "    <tr>\n",
       "      <th>1</th>\n",
       "      <td>57</td>\n",
       "      <td>services</td>\n",
       "      <td>married</td>\n",
       "      <td>high.school</td>\n",
       "      <td>unknown</td>\n",
       "      <td>no</td>\n",
       "      <td>no</td>\n",
       "      <td>telephone</td>\n",
       "      <td>may</td>\n",
       "      <td>mon</td>\n",
       "      <td>...</td>\n",
       "      <td>1</td>\n",
       "      <td>999</td>\n",
       "      <td>0</td>\n",
       "      <td>nonexistent</td>\n",
       "      <td>1.1</td>\n",
       "      <td>93.994</td>\n",
       "      <td>-36.4</td>\n",
       "      <td>4.857</td>\n",
       "      <td>5191.0</td>\n",
       "      <td>no</td>\n",
       "    </tr>\n",
       "    <tr>\n",
       "      <th>2</th>\n",
       "      <td>37</td>\n",
       "      <td>services</td>\n",
       "      <td>married</td>\n",
       "      <td>high.school</td>\n",
       "      <td>no</td>\n",
       "      <td>yes</td>\n",
       "      <td>no</td>\n",
       "      <td>telephone</td>\n",
       "      <td>may</td>\n",
       "      <td>mon</td>\n",
       "      <td>...</td>\n",
       "      <td>1</td>\n",
       "      <td>999</td>\n",
       "      <td>0</td>\n",
       "      <td>nonexistent</td>\n",
       "      <td>1.1</td>\n",
       "      <td>93.994</td>\n",
       "      <td>-36.4</td>\n",
       "      <td>4.857</td>\n",
       "      <td>5191.0</td>\n",
       "      <td>no</td>\n",
       "    </tr>\n",
       "    <tr>\n",
       "      <th>3</th>\n",
       "      <td>40</td>\n",
       "      <td>admin.</td>\n",
       "      <td>married</td>\n",
       "      <td>basic.6y</td>\n",
       "      <td>no</td>\n",
       "      <td>no</td>\n",
       "      <td>no</td>\n",
       "      <td>telephone</td>\n",
       "      <td>may</td>\n",
       "      <td>mon</td>\n",
       "      <td>...</td>\n",
       "      <td>1</td>\n",
       "      <td>999</td>\n",
       "      <td>0</td>\n",
       "      <td>nonexistent</td>\n",
       "      <td>1.1</td>\n",
       "      <td>93.994</td>\n",
       "      <td>-36.4</td>\n",
       "      <td>4.857</td>\n",
       "      <td>5191.0</td>\n",
       "      <td>no</td>\n",
       "    </tr>\n",
       "    <tr>\n",
       "      <th>4</th>\n",
       "      <td>56</td>\n",
       "      <td>services</td>\n",
       "      <td>married</td>\n",
       "      <td>high.school</td>\n",
       "      <td>no</td>\n",
       "      <td>no</td>\n",
       "      <td>yes</td>\n",
       "      <td>telephone</td>\n",
       "      <td>may</td>\n",
       "      <td>mon</td>\n",
       "      <td>...</td>\n",
       "      <td>1</td>\n",
       "      <td>999</td>\n",
       "      <td>0</td>\n",
       "      <td>nonexistent</td>\n",
       "      <td>1.1</td>\n",
       "      <td>93.994</td>\n",
       "      <td>-36.4</td>\n",
       "      <td>4.857</td>\n",
       "      <td>5191.0</td>\n",
       "      <td>no</td>\n",
       "    </tr>\n",
       "  </tbody>\n",
       "</table>\n",
       "<p>5 rows × 21 columns</p>\n",
       "</div>"
      ],
      "text/plain": [
       "   age        job  marital    education  default housing loan    contact  \\\n",
       "0   56  housemaid  married     basic.4y       no      no   no  telephone   \n",
       "1   57   services  married  high.school  unknown      no   no  telephone   \n",
       "2   37   services  married  high.school       no     yes   no  telephone   \n",
       "3   40     admin.  married     basic.6y       no      no   no  telephone   \n",
       "4   56   services  married  high.school       no      no  yes  telephone   \n",
       "\n",
       "  month day_of_week  ...  campaign  pdays  previous     poutcome emp.var.rate  \\\n",
       "0   may         mon  ...         1    999         0  nonexistent          1.1   \n",
       "1   may         mon  ...         1    999         0  nonexistent          1.1   \n",
       "2   may         mon  ...         1    999         0  nonexistent          1.1   \n",
       "3   may         mon  ...         1    999         0  nonexistent          1.1   \n",
       "4   may         mon  ...         1    999         0  nonexistent          1.1   \n",
       "\n",
       "   cons.price.idx  cons.conf.idx  euribor3m  nr.employed   y  \n",
       "0          93.994          -36.4      4.857       5191.0  no  \n",
       "1          93.994          -36.4      4.857       5191.0  no  \n",
       "2          93.994          -36.4      4.857       5191.0  no  \n",
       "3          93.994          -36.4      4.857       5191.0  no  \n",
       "4          93.994          -36.4      4.857       5191.0  no  \n",
       "\n",
       "[5 rows x 21 columns]"
      ]
     },
     "execution_count": 2,
     "metadata": {},
     "output_type": "execute_result"
    }
   ],
   "source": [
    "# Load Dataset\n",
    "df_baf = pd.read_csv('bank-additional-full.csv', sep=';')\n",
    "df_baf.head()"
   ]
  },
  {
   "cell_type": "code",
   "execution_count": 3,
   "id": "519b79f8",
   "metadata": {},
   "outputs": [
    {
     "name": "stdout",
     "output_type": "stream",
     "text": [
      "<class 'pandas.core.frame.DataFrame'>\n",
      "RangeIndex: 41188 entries, 0 to 41187\n",
      "Data columns (total 21 columns):\n",
      " #   Column          Non-Null Count  Dtype  \n",
      "---  ------          --------------  -----  \n",
      " 0   age             41188 non-null  int64  \n",
      " 1   job             41188 non-null  object \n",
      " 2   marital         41188 non-null  object \n",
      " 3   education       41188 non-null  object \n",
      " 4   default         41188 non-null  object \n",
      " 5   housing         41188 non-null  object \n",
      " 6   loan            41188 non-null  object \n",
      " 7   contact         41188 non-null  object \n",
      " 8   month           41188 non-null  object \n",
      " 9   day_of_week     41188 non-null  object \n",
      " 10  duration        41188 non-null  int64  \n",
      " 11  campaign        41188 non-null  int64  \n",
      " 12  pdays           41188 non-null  int64  \n",
      " 13  previous        41188 non-null  int64  \n",
      " 14  poutcome        41188 non-null  object \n",
      " 15  emp.var.rate    41188 non-null  float64\n",
      " 16  cons.price.idx  41188 non-null  float64\n",
      " 17  cons.conf.idx   41188 non-null  float64\n",
      " 18  euribor3m       41188 non-null  float64\n",
      " 19  nr.employed     41188 non-null  float64\n",
      " 20  y               41188 non-null  object \n",
      "dtypes: float64(5), int64(5), object(11)\n",
      "memory usage: 6.6+ MB\n"
     ]
    }
   ],
   "source": [
    "df_baf.info()"
   ]
  },
  {
   "cell_type": "code",
   "execution_count": 4,
   "id": "00976581",
   "metadata": {},
   "outputs": [
    {
     "data": {
      "text/plain": [
       "age               0\n",
       "job               0\n",
       "marital           0\n",
       "education         0\n",
       "default           0\n",
       "housing           0\n",
       "loan              0\n",
       "contact           0\n",
       "month             0\n",
       "day_of_week       0\n",
       "duration          0\n",
       "campaign          0\n",
       "pdays             0\n",
       "previous          0\n",
       "poutcome          0\n",
       "emp.var.rate      0\n",
       "cons.price.idx    0\n",
       "cons.conf.idx     0\n",
       "euribor3m         0\n",
       "nr.employed       0\n",
       "y                 0\n",
       "dtype: int64"
      ]
     },
     "execution_count": 4,
     "metadata": {},
     "output_type": "execute_result"
    }
   ],
   "source": [
    "# Mengecek missing values\n",
    "df_baf.isnull().sum()"
   ]
  },
  {
   "cell_type": "code",
   "execution_count": 5,
   "id": "37d881ea",
   "metadata": {},
   "outputs": [
    {
     "data": {
      "text/html": [
       "<div>\n",
       "<style scoped>\n",
       "    .dataframe tbody tr th:only-of-type {\n",
       "        vertical-align: middle;\n",
       "    }\n",
       "\n",
       "    .dataframe tbody tr th {\n",
       "        vertical-align: top;\n",
       "    }\n",
       "\n",
       "    .dataframe thead th {\n",
       "        text-align: right;\n",
       "    }\n",
       "</style>\n",
       "<table border=\"1\" class=\"dataframe\">\n",
       "  <thead>\n",
       "    <tr style=\"text-align: right;\">\n",
       "      <th></th>\n",
       "      <th>count</th>\n",
       "      <th>mean</th>\n",
       "      <th>std</th>\n",
       "      <th>min</th>\n",
       "      <th>25%</th>\n",
       "      <th>50%</th>\n",
       "      <th>75%</th>\n",
       "      <th>max</th>\n",
       "    </tr>\n",
       "  </thead>\n",
       "  <tbody>\n",
       "    <tr>\n",
       "      <th>age</th>\n",
       "      <td>41188.0</td>\n",
       "      <td>40.024060</td>\n",
       "      <td>10.421250</td>\n",
       "      <td>17.000</td>\n",
       "      <td>32.000</td>\n",
       "      <td>38.000</td>\n",
       "      <td>47.000</td>\n",
       "      <td>98.000</td>\n",
       "    </tr>\n",
       "    <tr>\n",
       "      <th>duration</th>\n",
       "      <td>41188.0</td>\n",
       "      <td>258.285010</td>\n",
       "      <td>259.279249</td>\n",
       "      <td>0.000</td>\n",
       "      <td>102.000</td>\n",
       "      <td>180.000</td>\n",
       "      <td>319.000</td>\n",
       "      <td>4918.000</td>\n",
       "    </tr>\n",
       "    <tr>\n",
       "      <th>campaign</th>\n",
       "      <td>41188.0</td>\n",
       "      <td>2.567593</td>\n",
       "      <td>2.770014</td>\n",
       "      <td>1.000</td>\n",
       "      <td>1.000</td>\n",
       "      <td>2.000</td>\n",
       "      <td>3.000</td>\n",
       "      <td>56.000</td>\n",
       "    </tr>\n",
       "    <tr>\n",
       "      <th>pdays</th>\n",
       "      <td>41188.0</td>\n",
       "      <td>962.475454</td>\n",
       "      <td>186.910907</td>\n",
       "      <td>0.000</td>\n",
       "      <td>999.000</td>\n",
       "      <td>999.000</td>\n",
       "      <td>999.000</td>\n",
       "      <td>999.000</td>\n",
       "    </tr>\n",
       "    <tr>\n",
       "      <th>previous</th>\n",
       "      <td>41188.0</td>\n",
       "      <td>0.172963</td>\n",
       "      <td>0.494901</td>\n",
       "      <td>0.000</td>\n",
       "      <td>0.000</td>\n",
       "      <td>0.000</td>\n",
       "      <td>0.000</td>\n",
       "      <td>7.000</td>\n",
       "    </tr>\n",
       "    <tr>\n",
       "      <th>emp.var.rate</th>\n",
       "      <td>41188.0</td>\n",
       "      <td>0.081886</td>\n",
       "      <td>1.570960</td>\n",
       "      <td>-3.400</td>\n",
       "      <td>-1.800</td>\n",
       "      <td>1.100</td>\n",
       "      <td>1.400</td>\n",
       "      <td>1.400</td>\n",
       "    </tr>\n",
       "    <tr>\n",
       "      <th>cons.price.idx</th>\n",
       "      <td>41188.0</td>\n",
       "      <td>93.575664</td>\n",
       "      <td>0.578840</td>\n",
       "      <td>92.201</td>\n",
       "      <td>93.075</td>\n",
       "      <td>93.749</td>\n",
       "      <td>93.994</td>\n",
       "      <td>94.767</td>\n",
       "    </tr>\n",
       "    <tr>\n",
       "      <th>cons.conf.idx</th>\n",
       "      <td>41188.0</td>\n",
       "      <td>-40.502600</td>\n",
       "      <td>4.628198</td>\n",
       "      <td>-50.800</td>\n",
       "      <td>-42.700</td>\n",
       "      <td>-41.800</td>\n",
       "      <td>-36.400</td>\n",
       "      <td>-26.900</td>\n",
       "    </tr>\n",
       "    <tr>\n",
       "      <th>euribor3m</th>\n",
       "      <td>41188.0</td>\n",
       "      <td>3.621291</td>\n",
       "      <td>1.734447</td>\n",
       "      <td>0.634</td>\n",
       "      <td>1.344</td>\n",
       "      <td>4.857</td>\n",
       "      <td>4.961</td>\n",
       "      <td>5.045</td>\n",
       "    </tr>\n",
       "    <tr>\n",
       "      <th>nr.employed</th>\n",
       "      <td>41188.0</td>\n",
       "      <td>5167.035911</td>\n",
       "      <td>72.251528</td>\n",
       "      <td>4963.600</td>\n",
       "      <td>5099.100</td>\n",
       "      <td>5191.000</td>\n",
       "      <td>5228.100</td>\n",
       "      <td>5228.100</td>\n",
       "    </tr>\n",
       "  </tbody>\n",
       "</table>\n",
       "</div>"
      ],
      "text/plain": [
       "                  count         mean         std       min       25%  \\\n",
       "age             41188.0    40.024060   10.421250    17.000    32.000   \n",
       "duration        41188.0   258.285010  259.279249     0.000   102.000   \n",
       "campaign        41188.0     2.567593    2.770014     1.000     1.000   \n",
       "pdays           41188.0   962.475454  186.910907     0.000   999.000   \n",
       "previous        41188.0     0.172963    0.494901     0.000     0.000   \n",
       "emp.var.rate    41188.0     0.081886    1.570960    -3.400    -1.800   \n",
       "cons.price.idx  41188.0    93.575664    0.578840    92.201    93.075   \n",
       "cons.conf.idx   41188.0   -40.502600    4.628198   -50.800   -42.700   \n",
       "euribor3m       41188.0     3.621291    1.734447     0.634     1.344   \n",
       "nr.employed     41188.0  5167.035911   72.251528  4963.600  5099.100   \n",
       "\n",
       "                     50%       75%       max  \n",
       "age               38.000    47.000    98.000  \n",
       "duration         180.000   319.000  4918.000  \n",
       "campaign           2.000     3.000    56.000  \n",
       "pdays            999.000   999.000   999.000  \n",
       "previous           0.000     0.000     7.000  \n",
       "emp.var.rate       1.100     1.400     1.400  \n",
       "cons.price.idx    93.749    93.994    94.767  \n",
       "cons.conf.idx    -41.800   -36.400   -26.900  \n",
       "euribor3m          4.857     4.961     5.045  \n",
       "nr.employed     5191.000  5228.100  5228.100  "
      ]
     },
     "execution_count": 5,
     "metadata": {},
     "output_type": "execute_result"
    }
   ],
   "source": [
    "df_baf.describe(exclude='number') #Describe category\n",
    "df_baf.describe().T #Describe numeric"
   ]
  },
  {
   "cell_type": "markdown",
   "id": "0289a886",
   "metadata": {},
   "source": [
    "## Melihat profil dari jumlah client yang berlangganan deposito"
   ]
  },
  {
   "cell_type": "code",
   "execution_count": 6,
   "id": "c7762061",
   "metadata": {},
   "outputs": [
    {
     "data": {
      "image/png": "[encoded data removed]",
      "text/plain": [
       "<Figure size 720x360 with 1 Axes>"
      ]
     },
     "metadata": {},
     "output_type": "display_data"
    }
   ],
   "source": [
    "# Barchart\n",
    "df_baf[\"y\"].value_counts().plot(kind=\"bar\", figsize=(10,5))\n",
    "plt.xticks(rotation=0)\n",
    "plt.title(\"Jumlah Langganan Deposito Berjangka\")\n",
    "plt.ylabel(\"Jumlah Client\") \n",
    "plt.xlabel(\"Berlangganan Deposito Berjangka\")\n",
    "plt.show()"
   ]
  },
  {
   "cell_type": "markdown",
   "id": "26a5253c",
   "metadata": {},
   "source": [
    "Berdasarkan visualisasi pada gambar diatas, sebagian besar client tidak berlangganan deposito berjangka"
   ]
  },
  {
   "cell_type": "markdown",
   "id": "028238f0",
   "metadata": {},
   "source": [
    "## Menampilkan profil berdasarkan pekerjaan klien yang memiliki deposito berjangka atau tidak."
   ]
  },
  {
   "cell_type": "code",
   "execution_count": 7,
   "id": "9f58947a",
   "metadata": {},
   "outputs": [
    {
     "data": {
      "text/plain": [
       "<seaborn.axisgrid.FacetGrid at 0x22b042d7fd0>"
      ]
     },
     "execution_count": 7,
     "metadata": {},
     "output_type": "execute_result"
    },
    {
     "data": {
      "image/png": "[encoded data removed]",
      "text/plain": [
       "<Figure size 1133.25x360 with 1 Axes>"
      ]
     },
     "metadata": {},
     "output_type": "display_data"
    }
   ],
   "source": [
    "sns.catplot(x='job',hue='y',kind='count',data=df_baf, aspect=3, height=5)\n"
   ]
  },
  {
   "cell_type": "markdown",
   "id": "a0366d2a",
   "metadata": {},
   "source": [
    "Klien yang memiliki term deposit paling banyak adalah mereka yang bekerja sebagai admin diikuti oleh teknisi."
   ]
  },
  {
   "cell_type": "markdown",
   "id": "2005c0e5",
   "metadata": {},
   "source": [
    "# Data Modeling"
   ]
  },
  {
   "cell_type": "markdown",
   "id": "0b8aeb75",
   "metadata": {},
   "source": [
    "Karena semua parameter sudah memiliki tipe data dan tidak ada missing value, sekarang mari kita lihat kolom-kolom yang tidak berpotensi menjadi atribut model. **Contact, month, day_of_week, poutcome and duration** tidak akan digunakan dalam pembuatan model agar memiliki model yang prediktif dan realistis."
   ]
  },
  {
   "cell_type": "code",
   "execution_count": 8,
   "id": "e9999ff4",
   "metadata": {},
   "outputs": [
    {
     "data": {
      "text/html": [
       "<div>\n",
       "<style scoped>\n",
       "    .dataframe tbody tr th:only-of-type {\n",
       "        vertical-align: middle;\n",
       "    }\n",
       "\n",
       "    .dataframe tbody tr th {\n",
       "        vertical-align: top;\n",
       "    }\n",
       "\n",
       "    .dataframe thead th {\n",
       "        text-align: right;\n",
       "    }\n",
       "</style>\n",
       "<table border=\"1\" class=\"dataframe\">\n",
       "  <thead>\n",
       "    <tr style=\"text-align: right;\">\n",
       "      <th></th>\n",
       "      <th>age</th>\n",
       "      <th>job</th>\n",
       "      <th>marital</th>\n",
       "      <th>education</th>\n",
       "      <th>default</th>\n",
       "      <th>housing</th>\n",
       "      <th>loan</th>\n",
       "      <th>campaign</th>\n",
       "      <th>pdays</th>\n",
       "      <th>previous</th>\n",
       "      <th>emp.var.rate</th>\n",
       "      <th>cons.price.idx</th>\n",
       "      <th>cons.conf.idx</th>\n",
       "      <th>euribor3m</th>\n",
       "      <th>nr.employed</th>\n",
       "      <th>y</th>\n",
       "    </tr>\n",
       "  </thead>\n",
       "  <tbody>\n",
       "    <tr>\n",
       "      <th>0</th>\n",
       "      <td>56</td>\n",
       "      <td>housemaid</td>\n",
       "      <td>married</td>\n",
       "      <td>basic.4y</td>\n",
       "      <td>no</td>\n",
       "      <td>no</td>\n",
       "      <td>no</td>\n",
       "      <td>1</td>\n",
       "      <td>999</td>\n",
       "      <td>0</td>\n",
       "      <td>1.1</td>\n",
       "      <td>93.994</td>\n",
       "      <td>-36.4</td>\n",
       "      <td>4.857</td>\n",
       "      <td>5191.0</td>\n",
       "      <td>no</td>\n",
       "    </tr>\n",
       "    <tr>\n",
       "      <th>1</th>\n",
       "      <td>57</td>\n",
       "      <td>services</td>\n",
       "      <td>married</td>\n",
       "      <td>high.school</td>\n",
       "      <td>unknown</td>\n",
       "      <td>no</td>\n",
       "      <td>no</td>\n",
       "      <td>1</td>\n",
       "      <td>999</td>\n",
       "      <td>0</td>\n",
       "      <td>1.1</td>\n",
       "      <td>93.994</td>\n",
       "      <td>-36.4</td>\n",
       "      <td>4.857</td>\n",
       "      <td>5191.0</td>\n",
       "      <td>no</td>\n",
       "    </tr>\n",
       "    <tr>\n",
       "      <th>2</th>\n",
       "      <td>37</td>\n",
       "      <td>services</td>\n",
       "      <td>married</td>\n",
       "      <td>high.school</td>\n",
       "      <td>no</td>\n",
       "      <td>yes</td>\n",
       "      <td>no</td>\n",
       "      <td>1</td>\n",
       "      <td>999</td>\n",
       "      <td>0</td>\n",
       "      <td>1.1</td>\n",
       "      <td>93.994</td>\n",
       "      <td>-36.4</td>\n",
       "      <td>4.857</td>\n",
       "      <td>5191.0</td>\n",
       "      <td>no</td>\n",
       "    </tr>\n",
       "    <tr>\n",
       "      <th>3</th>\n",
       "      <td>40</td>\n",
       "      <td>admin.</td>\n",
       "      <td>married</td>\n",
       "      <td>basic.6y</td>\n",
       "      <td>no</td>\n",
       "      <td>no</td>\n",
       "      <td>no</td>\n",
       "      <td>1</td>\n",
       "      <td>999</td>\n",
       "      <td>0</td>\n",
       "      <td>1.1</td>\n",
       "      <td>93.994</td>\n",
       "      <td>-36.4</td>\n",
       "      <td>4.857</td>\n",
       "      <td>5191.0</td>\n",
       "      <td>no</td>\n",
       "    </tr>\n",
       "    <tr>\n",
       "      <th>4</th>\n",
       "      <td>56</td>\n",
       "      <td>services</td>\n",
       "      <td>married</td>\n",
       "      <td>high.school</td>\n",
       "      <td>no</td>\n",
       "      <td>no</td>\n",
       "      <td>yes</td>\n",
       "      <td>1</td>\n",
       "      <td>999</td>\n",
       "      <td>0</td>\n",
       "      <td>1.1</td>\n",
       "      <td>93.994</td>\n",
       "      <td>-36.4</td>\n",
       "      <td>4.857</td>\n",
       "      <td>5191.0</td>\n",
       "      <td>no</td>\n",
       "    </tr>\n",
       "  </tbody>\n",
       "</table>\n",
       "</div>"
      ],
      "text/plain": [
       "   age        job  marital    education  default housing loan  campaign  \\\n",
       "0   56  housemaid  married     basic.4y       no      no   no         1   \n",
       "1   57   services  married  high.school  unknown      no   no         1   \n",
       "2   37   services  married  high.school       no     yes   no         1   \n",
       "3   40     admin.  married     basic.6y       no      no   no         1   \n",
       "4   56   services  married  high.school       no      no  yes         1   \n",
       "\n",
       "   pdays  previous  emp.var.rate  cons.price.idx  cons.conf.idx  euribor3m  \\\n",
       "0    999         0           1.1          93.994          -36.4      4.857   \n",
       "1    999         0           1.1          93.994          -36.4      4.857   \n",
       "2    999         0           1.1          93.994          -36.4      4.857   \n",
       "3    999         0           1.1          93.994          -36.4      4.857   \n",
       "4    999         0           1.1          93.994          -36.4      4.857   \n",
       "\n",
       "   nr.employed   y  \n",
       "0       5191.0  no  \n",
       "1       5191.0  no  \n",
       "2       5191.0  no  \n",
       "3       5191.0  no  \n",
       "4       5191.0  no  "
      ]
     },
     "execution_count": 8,
     "metadata": {},
     "output_type": "execute_result"
    }
   ],
   "source": [
    "df_baf=df_baf.drop(columns=['day_of_week', 'month', 'contact','duration','poutcome'])\n",
    "df_baf.head()"
   ]
  },
  {
   "cell_type": "code",
   "execution_count": 10,
   "id": "6057c5fd",
   "metadata": {},
   "outputs": [
    {
     "data": {
      "text/html": [
       "<div>\n",
       "<style scoped>\n",
       "    .dataframe tbody tr th:only-of-type {\n",
       "        vertical-align: middle;\n",
       "    }\n",
       "\n",
       "    .dataframe tbody tr th {\n",
       "        vertical-align: top;\n",
       "    }\n",
       "\n",
       "    .dataframe thead th {\n",
       "        text-align: right;\n",
       "    }\n",
       "</style>\n",
       "<table border=\"1\" class=\"dataframe\">\n",
       "  <thead>\n",
       "    <tr style=\"text-align: right;\">\n",
       "      <th></th>\n",
       "      <th>age</th>\n",
       "      <th>campaign</th>\n",
       "      <th>pdays</th>\n",
       "      <th>previous</th>\n",
       "      <th>emp.var.rate</th>\n",
       "      <th>cons.price.idx</th>\n",
       "      <th>cons.conf.idx</th>\n",
       "      <th>euribor3m</th>\n",
       "      <th>nr.employed</th>\n",
       "      <th>y</th>\n",
       "    </tr>\n",
       "  </thead>\n",
       "  <tbody>\n",
       "    <tr>\n",
       "      <th>0</th>\n",
       "      <td>56</td>\n",
       "      <td>1</td>\n",
       "      <td>999</td>\n",
       "      <td>0</td>\n",
       "      <td>1.1</td>\n",
       "      <td>93.994</td>\n",
       "      <td>-36.4</td>\n",
       "      <td>4.857</td>\n",
       "      <td>5191.0</td>\n",
       "      <td>no</td>\n",
       "    </tr>\n",
       "    <tr>\n",
       "      <th>1</th>\n",
       "      <td>57</td>\n",
       "      <td>1</td>\n",
       "      <td>999</td>\n",
       "      <td>0</td>\n",
       "      <td>1.1</td>\n",
       "      <td>93.994</td>\n",
       "      <td>-36.4</td>\n",
       "      <td>4.857</td>\n",
       "      <td>5191.0</td>\n",
       "      <td>no</td>\n",
       "    </tr>\n",
       "    <tr>\n",
       "      <th>2</th>\n",
       "      <td>37</td>\n",
       "      <td>1</td>\n",
       "      <td>999</td>\n",
       "      <td>0</td>\n",
       "      <td>1.1</td>\n",
       "      <td>93.994</td>\n",
       "      <td>-36.4</td>\n",
       "      <td>4.857</td>\n",
       "      <td>5191.0</td>\n",
       "      <td>no</td>\n",
       "    </tr>\n",
       "    <tr>\n",
       "      <th>3</th>\n",
       "      <td>40</td>\n",
       "      <td>1</td>\n",
       "      <td>999</td>\n",
       "      <td>0</td>\n",
       "      <td>1.1</td>\n",
       "      <td>93.994</td>\n",
       "      <td>-36.4</td>\n",
       "      <td>4.857</td>\n",
       "      <td>5191.0</td>\n",
       "      <td>no</td>\n",
       "    </tr>\n",
       "    <tr>\n",
       "      <th>4</th>\n",
       "      <td>56</td>\n",
       "      <td>1</td>\n",
       "      <td>999</td>\n",
       "      <td>0</td>\n",
       "      <td>1.1</td>\n",
       "      <td>93.994</td>\n",
       "      <td>-36.4</td>\n",
       "      <td>4.857</td>\n",
       "      <td>5191.0</td>\n",
       "      <td>no</td>\n",
       "    </tr>\n",
       "  </tbody>\n",
       "</table>\n",
       "</div>"
      ],
      "text/plain": [
       "   age  campaign  pdays  previous  emp.var.rate  cons.price.idx  \\\n",
       "0   56         1    999         0           1.1          93.994   \n",
       "1   57         1    999         0           1.1          93.994   \n",
       "2   37         1    999         0           1.1          93.994   \n",
       "3   40         1    999         0           1.1          93.994   \n",
       "4   56         1    999         0           1.1          93.994   \n",
       "\n",
       "   cons.conf.idx  euribor3m  nr.employed   y  \n",
       "0          -36.4      4.857       5191.0  no  \n",
       "1          -36.4      4.857       5191.0  no  \n",
       "2          -36.4      4.857       5191.0  no  \n",
       "3          -36.4      4.857       5191.0  no  \n",
       "4          -36.4      4.857       5191.0  no  "
      ]
     },
     "execution_count": 10,
     "metadata": {},
     "output_type": "execute_result"
    }
   ],
   "source": [
    "df_baf = df_baf.drop([\"job\", \"marital\", \"education\", \"default\", \"housing\", \"loan\"], axis=1)\n",
    "df_baf.head()"
   ]
  },
  {
   "cell_type": "markdown",
   "id": "8d3979fa",
   "metadata": {},
   "source": [
    "# Training Model"
   ]
  },
  {
   "cell_type": "code",
   "execution_count": 11,
   "id": "b9e65640",
   "metadata": {},
   "outputs": [],
   "source": [
    "# Siapkan fitur data (X) dan target (y)\n",
    "X = df_baf.drop([\"y\"], axis=1)\n",
    "y = df_baf[\"y\"]"
   ]
  },
  {
   "cell_type": "code",
   "execution_count": 12,
   "id": "f89b746b",
   "metadata": {},
   "outputs": [],
   "source": [
    "# Menggunakan beberapa fungsi metode machine learning, selanjutnya mengatur fungsi tsbt dalam running nya\n",
    "def train_model(X, y, model, test_size=0.3):\n",
    "    X_train, X_test, y_train, y_test = train_test_split(\n",
    "        X, y, test_size=test_size, random_state=109\n",
    "    )\n",
    "    # Menampilkan data training dan data testing\n",
    "    print(f\"Training with {X_train.shape[0]} data.. Validating with {X_test.shape[0]}..\")\n",
    "    \n",
    "    # Melakukan standarisasi data dengan library standard scaller\n",
    "    print(\"Standardizing data.....\")\n",
    "    scaler = StandardScaler()\n",
    "    scaled_X_train = scaler.fit_transform(X_train)\n",
    "    scaled_X_test = scaler.transform(X_test)\n",
    "    \n",
    "    # Menampilkan runtime waktu dalam proses eksekusi\n",
    "    start = time()\n",
    "    model.fit(scaled_X_train, y_train)\n",
    "    end = time()\n",
    "    print(f\"Done, training {model.__class__.__name__} in {end-start:.3f}s\")\n",
    "    \n",
    "    train_prediction = model.predict(scaled_X_train)\n",
    "    test_prediction = model.predict(scaled_X_test)\n",
    "    \n",
    "    print('')\n",
    "    print('--------------------------------------------------------------')\n",
    "    print(\"Training performance:\")\n",
    "    print(classification_report(y_train, train_prediction))\n",
    "    print('--------------------------------------------------------------')\n",
    "    \n",
    "    print(\"Testing performance:\")\n",
    "    print(classification_report(y_test, test_prediction))\n",
    "    print('--------------------------------------------------------------')\n",
    "    \n",
    "    print(\"Testing Data Confusion Matrix Visualitation\")\n",
    "    plot_confusion_matrix(model, X_test, y_test)"
   ]
  },
  {
   "cell_type": "markdown",
   "id": "a56a2fd5",
   "metadata": {},
   "source": [
    "## Metode Logistic Regression"
   ]
  },
  {
   "cell_type": "code",
   "execution_count": 13,
   "id": "6952963d",
   "metadata": {},
   "outputs": [
    {
     "name": "stdout",
     "output_type": "stream",
     "text": [
      "Training with 28831 data.. Validating with 12357..\n",
      "Standardizing data.....\n",
      "Done, training LogisticRegression in 0.086s\n",
      "\n",
      "--------------------------------------------------------------\n",
      "Training performance:\n",
      "              precision    recall  f1-score   support\n",
      "\n",
      "          no       0.91      0.99      0.95     25557\n",
      "         yes       0.71      0.19      0.30      3274\n",
      "\n",
      "    accuracy                           0.90     28831\n",
      "   macro avg       0.81      0.59      0.62     28831\n",
      "weighted avg       0.88      0.90      0.87     28831\n",
      "\n",
      "--------------------------------------------------------------\n",
      "Testing performance:\n",
      "              precision    recall  f1-score   support\n",
      "\n",
      "          no       0.91      0.99      0.95     10991\n",
      "         yes       0.69      0.18      0.28      1366\n",
      "\n",
      "    accuracy                           0.90     12357\n",
      "   macro avg       0.80      0.58      0.61     12357\n",
      "weighted avg       0.88      0.90      0.87     12357\n",
      "\n",
      "--------------------------------------------------------------\n",
      "Testing Data Confusion Matrix Visualitation\n"
     ]
    },
    {
     "data": {
      "image/png": "[encoded data removed]",
      "text/plain": [
       "<Figure size 432x288 with 2 Axes>"
      ]
     },
     "metadata": {},
     "output_type": "display_data"
    }
   ],
   "source": [
    "# Logistic Regression\n",
    "train_model(X,y,LogisticRegression())"
   ]
  },
  {
   "cell_type": "markdown",
   "id": "20eae1d1",
   "metadata": {},
   "source": [
    "## Metode K-Nearest Neighbors"
   ]
  },
  {
   "cell_type": "code",
   "execution_count": 14,
   "id": "cc78497e",
   "metadata": {},
   "outputs": [],
   "source": [
    "# KNN\n",
    "X_train, X_test, y_train, y_test = train_test_split(\n",
    "    X, y, test_size=0.3, random_state=0\n",
    ")"
   ]
  },
  {
   "cell_type": "code",
   "execution_count": 15,
   "id": "7ceb487a",
   "metadata": {},
   "outputs": [
    {
     "name": "stdout",
     "output_type": "stream",
     "text": [
      "[0.1443716112324998, 0.10949259529011895, 0.11467184591729385, 0.10601278627498584, 0.10892611475277171, 0.10520352836448976, 0.10633648943918426, 0.10496075099134095, 0.10641741523023387, 0.10398964149874565, 0.1046370478271425, 0.10407056728979526, 0.10487982520029134, 0.103504086752448, 0.10382778991664643, 0.10220927409565428, 0.10439427045399369, 0.10309945779719996, 0.1046370478271425, 0.10358501254349761, 0.10431334466294408, 0.10358501254349761, 0.1044751962450433, 0.10269482884195193, 0.10382778991664643, 0.10358501254349761, 0.10423241887189447, 0.10261390305090232, 0.10366593833454722, 0.10253297725985272, 0.10293760621510076, 0.101238164603059, 0.10220927409565428, 0.10229019988670389, 0.10269482884195193, 0.10196649672250546, 0.10188557093145585, 0.10220927409565428, 0.10220927409565428]\n"
     ]
    }
   ],
   "source": [
    "# Mencari nilai optimal untuk K\n",
    "error = []\n",
    "\n",
    "for k in range(1, 40):\n",
    "    knn = KNeighborsClassifier(n_neighbors=k)\n",
    "    knn.fit(X_train, y_train)\n",
    "    prediction = knn.predict(X_test)\n",
    "    error.append(np.mean(prediction != y_test))\n",
    "\n",
    "print(error)"
   ]
  },
  {
   "cell_type": "code",
   "execution_count": 16,
   "id": "a2f87da0",
   "metadata": {},
   "outputs": [
    {
     "data": {
      "image/png": "[encoded data removed]",
      "text/plain": [
       "<Figure size 1152x432 with 1 Axes>"
      ]
     },
     "metadata": {},
     "output_type": "display_data"
    }
   ],
   "source": [
    "# Plot nilai error untuk setiap K\n",
    "plt.figure(figsize=(16, 6))\n",
    "plt.plot(range(1, 40), error, color=\"r\", linestyle=\"dashed\", marker=\"o\", markersize=10)\n",
    "plt.title(\"Error Rate for each K\")\n",
    "plt.xlabel(\"K\")\n",
    "plt.xticks(range(1, 40))\n",
    "plt.ylabel(\"Mean of Error\")\n",
    "plt.show()"
   ]
  },
  {
   "cell_type": "code",
   "execution_count": 17,
   "id": "947ea0e5",
   "metadata": {},
   "outputs": [
    {
     "name": "stdout",
     "output_type": "stream",
     "text": [
      "Training with 28831 data.. Validating with 12357..\n",
      "Standardizing data.....\n",
      "Done, training KNeighborsClassifier in 0.357s\n",
      "\n",
      "--------------------------------------------------------------\n",
      "Training performance:\n",
      "              precision    recall  f1-score   support\n",
      "\n",
      "          no       0.91      0.98      0.95     25557\n",
      "         yes       0.68      0.25      0.36      3274\n",
      "\n",
      "    accuracy                           0.90     28831\n",
      "   macro avg       0.79      0.62      0.65     28831\n",
      "weighted avg       0.88      0.90      0.88     28831\n",
      "\n",
      "--------------------------------------------------------------\n",
      "Testing performance:\n",
      "              precision    recall  f1-score   support\n",
      "\n",
      "          no       0.91      0.98      0.95     10991\n",
      "         yes       0.64      0.22      0.33      1366\n",
      "\n",
      "    accuracy                           0.90     12357\n",
      "   macro avg       0.78      0.60      0.64     12357\n",
      "weighted avg       0.88      0.90      0.88     12357\n",
      "\n",
      "--------------------------------------------------------------\n",
      "Testing Data Confusion Matrix Visualitation\n"
     ]
    },
    {
     "data": {
      "image/png": "[encoded data removed]",
      "text/plain": [
       "<Figure size 432x288 with 2 Axes>"
      ]
     },
     "metadata": {},
     "output_type": "display_data"
    }
   ],
   "source": [
    "# Karena kesalahan terendah ada pada K=32, maka kita akan mengatur n_neighbors = 32\n",
    "train_model(X,y,KNeighborsClassifier(n_neighbors=32))"
   ]
  },
  {
   "cell_type": "markdown",
   "id": "4b3d6918",
   "metadata": {},
   "source": [
    "## Support Vector Machine"
   ]
  },
  {
   "cell_type": "code",
   "execution_count": 18,
   "id": "02a0e520",
   "metadata": {},
   "outputs": [
    {
     "name": "stdout",
     "output_type": "stream",
     "text": [
      "Training with 28831 data.. Validating with 12357..\n",
      "Standardizing data.....\n",
      "Done, training SVC in 120.620s\n",
      "\n",
      "--------------------------------------------------------------\n",
      "Training performance:\n",
      "              precision    recall  f1-score   support\n",
      "\n",
      "          no       0.91      0.98      0.94     25557\n",
      "         yes       0.64      0.21      0.32      3274\n",
      "\n",
      "    accuracy                           0.90     28831\n",
      "   macro avg       0.77      0.60      0.63     28831\n",
      "weighted avg       0.88      0.90      0.87     28831\n",
      "\n",
      "--------------------------------------------------------------\n",
      "Testing performance:\n",
      "              precision    recall  f1-score   support\n",
      "\n",
      "          no       0.91      0.99      0.95     10991\n",
      "         yes       0.63      0.20      0.30      1366\n",
      "\n",
      "    accuracy                           0.90     12357\n",
      "   macro avg       0.77      0.59      0.62     12357\n",
      "weighted avg       0.88      0.90      0.87     12357\n",
      "\n",
      "--------------------------------------------------------------\n",
      "Testing Data Confusion Matrix Visualitation\n"
     ]
    },
    {
     "data": {
      "image/png": "[encoded data removed]",
      "text/plain": [
       "<Figure size 432x288 with 2 Axes>"
      ]
     },
     "metadata": {},
     "output_type": "display_data"
    }
   ],
   "source": [
    "# SVM\n",
    "train_model(X,y,SVC(kernel=\"linear\"))"
   ]
  },
  {
   "cell_type": "markdown",
   "id": "fc450c4d",
   "metadata": {},
   "source": [
    "## Metode Decision Tree"
   ]
  },
  {
   "cell_type": "code",
   "execution_count": 19,
   "id": "7b53a6d8",
   "metadata": {},
   "outputs": [
    {
     "name": "stdout",
     "output_type": "stream",
     "text": [
      "Training with 28831 data.. Validating with 12357..\n",
      "Standardizing data.....\n",
      "Done, training DecisionTreeClassifier in 0.054s\n",
      "\n",
      "--------------------------------------------------------------\n",
      "Training performance:\n",
      "              precision    recall  f1-score   support\n",
      "\n",
      "          no       0.91      0.99      0.95     25557\n",
      "         yes       0.69      0.24      0.35      3274\n",
      "\n",
      "    accuracy                           0.90     28831\n",
      "   macro avg       0.80      0.61      0.65     28831\n",
      "weighted avg       0.89      0.90      0.88     28831\n",
      "\n",
      "--------------------------------------------------------------\n",
      "Testing performance:\n",
      "              precision    recall  f1-score   support\n",
      "\n",
      "          no       0.91      0.98      0.95     10991\n",
      "         yes       0.64      0.22      0.32      1366\n",
      "\n",
      "    accuracy                           0.90     12357\n",
      "   macro avg       0.78      0.60      0.64     12357\n",
      "weighted avg       0.88      0.90      0.88     12357\n",
      "\n",
      "--------------------------------------------------------------\n",
      "Testing Data Confusion Matrix Visualitation\n"
     ]
    },
    {
     "data": {
      "image/png": "[encoded data removed]",
      "text/plain": [
       "<Figure size 432x288 with 2 Axes>"
      ]
     },
     "metadata": {},
     "output_type": "display_data"
    }
   ],
   "source": [
    "# DT\n",
    "# mengatur max_depth = 5 agar iterasinya tidak terlalu lama\n",
    "train_model(X,y,DecisionTreeClassifier(criterion=\"entropy\", max_depth=5))"
   ]
  },
  {
   "cell_type": "markdown",
   "id": "9ee0c7df",
   "metadata": {},
   "source": [
    "## Metode Random Forest "
   ]
  },
  {
   "cell_type": "code",
   "execution_count": 20,
   "id": "ccc9dd2a",
   "metadata": {},
   "outputs": [
    {
     "name": "stdout",
     "output_type": "stream",
     "text": [
      "Training with 28831 data.. Validating with 12357..\n",
      "Standardizing data.....\n",
      "Done, training RandomForestClassifier in 1.738s\n",
      "\n",
      "--------------------------------------------------------------\n",
      "Training performance:\n",
      "              precision    recall  f1-score   support\n",
      "\n",
      "          no       0.96      0.99      0.98     25557\n",
      "         yes       0.94      0.66      0.78      3274\n",
      "\n",
      "    accuracy                           0.96     28831\n",
      "   macro avg       0.95      0.83      0.88     28831\n",
      "weighted avg       0.96      0.96      0.95     28831\n",
      "\n",
      "--------------------------------------------------------------\n",
      "Testing performance:\n",
      "              precision    recall  f1-score   support\n",
      "\n",
      "          no       0.92      0.95      0.94     10991\n",
      "         yes       0.46      0.31      0.37      1366\n",
      "\n",
      "    accuracy                           0.88     12357\n",
      "   macro avg       0.69      0.63      0.65     12357\n",
      "weighted avg       0.87      0.88      0.87     12357\n",
      "\n",
      "--------------------------------------------------------------\n",
      "Testing Data Confusion Matrix Visualitation\n"
     ]
    },
    {
     "data": {
      "image/png": "[encoded data removed]",
      "text/plain": [
       "<Figure size 432x288 with 2 Axes>"
      ]
     },
     "metadata": {},
     "output_type": "display_data"
    }
   ],
   "source": [
    "# RF\n",
    "train_model(X,y,RandomForestClassifier())"
   ]
  },
  {
   "cell_type": "markdown",
   "id": "93eae3f3",
   "metadata": {},
   "source": [
    "## Metode Naive Bayes"
   ]
  },
  {
   "cell_type": "code",
   "execution_count": 21,
   "id": "b7d5f1af",
   "metadata": {},
   "outputs": [
    {
     "name": "stdout",
     "output_type": "stream",
     "text": [
      "Training with 28831 data.. Validating with 12357..\n",
      "Standardizing data.....\n",
      "Done, training GaussianNB in 0.035s\n",
      "\n",
      "--------------------------------------------------------------\n",
      "Training performance:\n",
      "              precision    recall  f1-score   support\n",
      "\n",
      "          no       0.93      0.88      0.90     25557\n",
      "         yes       0.34      0.51      0.41      3274\n",
      "\n",
      "    accuracy                           0.83     28831\n",
      "   macro avg       0.64      0.69      0.66     28831\n",
      "weighted avg       0.87      0.83      0.85     28831\n",
      "\n",
      "--------------------------------------------------------------\n",
      "Testing performance:\n",
      "              precision    recall  f1-score   support\n",
      "\n",
      "          no       0.93      0.87      0.90     10991\n",
      "         yes       0.32      0.50      0.39      1366\n",
      "\n",
      "    accuracy                           0.83     12357\n",
      "   macro avg       0.63      0.68      0.64     12357\n",
      "weighted avg       0.87      0.83      0.84     12357\n",
      "\n",
      "--------------------------------------------------------------\n",
      "Testing Data Confusion Matrix Visualitation\n"
     ]
    },
    {
     "data": {
      "image/png": "[encoded data removed]",
      "text/plain": [
       "<Figure size 432x288 with 2 Axes>"
      ]
     },
     "metadata": {},
     "output_type": "display_data"
    }
   ],
   "source": [
    "# NB\n",
    "train_model(X,y,GaussianNB())"
   ]
  },
  {
   "cell_type": "markdown",
   "id": "9151fa07",
   "metadata": {},
   "source": [
    "# Membandingkan setiap Metode yang digunakan"
   ]
  },
  {
   "cell_type": "markdown",
   "id": "e8e523de",
   "metadata": {},
   "source": [
    "## Membuat tabel perbandingan nilai accuracy"
   ]
  },
  {
   "cell_type": "code",
   "execution_count": 28,
   "id": "3ca9ef8e",
   "metadata": {},
   "outputs": [
    {
     "data": {
      "text/html": [
       "<div>\n",
       "<style scoped>\n",
       "    .dataframe tbody tr th:only-of-type {\n",
       "        vertical-align: middle;\n",
       "    }\n",
       "\n",
       "    .dataframe tbody tr th {\n",
       "        vertical-align: top;\n",
       "    }\n",
       "\n",
       "    .dataframe thead th {\n",
       "        text-align: right;\n",
       "    }\n",
       "</style>\n",
       "<table border=\"1\" class=\"dataframe\">\n",
       "  <thead>\n",
       "    <tr style=\"text-align: right;\">\n",
       "      <th></th>\n",
       "      <th>Model</th>\n",
       "      <th>Training Accuracy</th>\n",
       "      <th>Testing Accuracy</th>\n",
       "      <th>Duration in Sec</th>\n",
       "    </tr>\n",
       "  </thead>\n",
       "  <tbody>\n",
       "    <tr>\n",
       "      <th>0</th>\n",
       "      <td>Logistic Regression</td>\n",
       "      <td>0.90</td>\n",
       "      <td>0.90</td>\n",
       "      <td>0.086</td>\n",
       "    </tr>\n",
       "    <tr>\n",
       "      <th>1</th>\n",
       "      <td>KNN</td>\n",
       "      <td>0.90</td>\n",
       "      <td>0.90</td>\n",
       "      <td>0.357</td>\n",
       "    </tr>\n",
       "    <tr>\n",
       "      <th>2</th>\n",
       "      <td>SVC</td>\n",
       "      <td>0.90</td>\n",
       "      <td>0.90</td>\n",
       "      <td>120.620</td>\n",
       "    </tr>\n",
       "    <tr>\n",
       "      <th>3</th>\n",
       "      <td>Decision Tree</td>\n",
       "      <td>0.90</td>\n",
       "      <td>0.90</td>\n",
       "      <td>0.054</td>\n",
       "    </tr>\n",
       "    <tr>\n",
       "      <th>4</th>\n",
       "      <td>Random Forest</td>\n",
       "      <td>0.96</td>\n",
       "      <td>0.88</td>\n",
       "      <td>1.738</td>\n",
       "    </tr>\n",
       "    <tr>\n",
       "      <th>5</th>\n",
       "      <td>Naive Bayes</td>\n",
       "      <td>0.83</td>\n",
       "      <td>0.83</td>\n",
       "      <td>0.035</td>\n",
       "    </tr>\n",
       "  </tbody>\n",
       "</table>\n",
       "</div>"
      ],
      "text/plain": [
       "                 Model  Training Accuracy  Testing Accuracy  Duration in Sec\n",
       "0  Logistic Regression               0.90              0.90            0.086\n",
       "1                  KNN               0.90              0.90            0.357\n",
       "2                  SVC               0.90              0.90          120.620\n",
       "3        Decision Tree               0.90              0.90            0.054\n",
       "4        Random Forest               0.96              0.88            1.738\n",
       "5          Naive Bayes               0.83              0.83            0.035"
      ]
     },
     "execution_count": 28,
     "metadata": {},
     "output_type": "execute_result"
    }
   ],
   "source": [
    "comparison = {\"Model\": ['Logistic Regression', \"KNN\", \"SVC\", \"Decision Tree\", \"Random Forest\", \"Naive Bayes\"],\n",
    "              \"Training Accuracy\": [0.90, 0.90, 0.90, 0.90, 0.96, 0.83],\n",
    "              \"Testing Accuracy\": [0.90, 0.90, 0.90, 0.90, 0.88, 0.83],\n",
    "              \"Duration in Sec\": [0.086, 0.357, 120.620, 0.054, 1.738, 0.035],\n",
    "              }\n",
    "\n",
    "table_comp = pd.DataFrame(comparison)\n",
    "table_comp"
   ]
  },
  {
   "cell_type": "markdown",
   "id": "59cb884f",
   "metadata": {},
   "source": [
    "## Hasil Analysis masing-masing metode "
   ]
  },
  {
   "cell_type": "markdown",
   "id": "696ff0d4",
   "metadata": {},
   "source": [
    "1. **Logistic Regression:** Untuk akurasi pada training dan testing model memiliki nilai yang sama yaitu sebesar 0.90 dengan waktu eksekusi selama 0.086 detik. \n",
    "\n",
    "2. **K-Nearest Neighbors:** Untuk akurasi pada training dan testing model memiliki nilai yang sama yaitu sebesar 0.90 dengan waktu eksekusi selama 0.357 detik. Metode KNN memiliki nilai akurasi cukup baik, sama seperti logistic regression hanya saja waktu eksekusinya yang sedikit lebih lama\n",
    "\n",
    "3. **Support Vector Machine:** Untuk akurasi pada training dan testing model memiliki nilai yang sama yaitu sebesar 0.90 dengan waktu eksekusi selama 120.620 detik. Metode SVM memiliki nilai akurasi cukup baik, sama seperti logistic regression dan KNN hanya saja waktu eksekusinya yang sedikit lebih lama dari keduanya.\n",
    "\n",
    "4. **Decision Tree:** Untuk akurasi pada training dan testing model memiliki nilai yang sama yaitu sebesar 0.90 dengan waktu eksekusi selama 0.054 detik. Dapat dikatakan bahwa Decision Tree memiliki nilai akurasi yang cukup baik, sama seperti ketiga metode sebelumnya dan waktu eksekusi yang lebih cepat.\n",
    "\n",
    "5. **Random Forest:** Random Forest memiliki waktu eksekusi selama 1.738 detik dan memiliki kinerja training model paling tinggi diantara metode lainnya, namun nilai accuracy pada metode ini turun menjadi 0.88. Sehingga dapat dikatakan bahwa performa dari metode ini kurang stabil dengan waktu eksekusi yang lumayan cukup lama\n",
    "\n",
    "5. **Naive Bayes:** Tercatat bahwa metode Naive Bayes memiliki waktu eksekusi paling cepat, yaitu 0.035 detik. Sayangnya, kedua nilai accuracy pada training dan testing model cukup buruk jika dibandingkan dengan kelima metode lainnya, yaitu sebesar 0.83. Sehingga dapat dikatakan bahwa metode Naive bayes memiliki kinerja yang kurang baik."
   ]
  },
  {
   "cell_type": "markdown",
   "id": "76b99376",
   "metadata": {},
   "source": [
    "# Overal Analysis"
   ]
  },
  {
   "cell_type": "markdown",
   "id": "14b8276e",
   "metadata": {},
   "source": [
    "Dapat ditarik kesimpulan bahwa metode Decision Tree sangat cocok dalam menentukan jenis nilai dari (True Positif (TP), False Positif (FP), False Negative (FN), True Negative (TN)) untuk dataset Bank yang digunakan pada kasus ini. Meotde Decision Tree memiliki kinerja lebih baik jika dibandingkan dengan kelima metode lainnya karena mnemiliki masing-masing nilai akurasi pada training dan testing model sebesar 0.90, dengan waktu eksekusi selama 0.054 detik."
   ]
  }
 ],
 "metadata": {
  "kernelspec": {
   "display_name": "Python 3 (ipykernel)",
   "language": "python",
   "name": "python3"
  },
  "language_info": {
   "codemirror_mode": {
    "name": "ipython",
    "version": 3
   },
   "file_extension": ".py",
   "mimetype": "text/x-python",
   "name": "python",
   "nbconvert_exporter": "python",
   "pygments_lexer": "ipython3",
   "version": "3.9.7"
  },
  "toc": {
   "base_numbering": 1,
   "nav_menu": {},
   "number_sections": true,
   "sideBar": true,
   "skip_h1_title": false,
   "title_cell": "Table of Contents",
   "title_sidebar": "Contents",
   "toc_cell": false,
   "toc_position": {},
   "toc_section_display": true,
   "toc_window_display": false
  }
 },
 "nbformat": 4,
 "nbformat_minor": 5
}
