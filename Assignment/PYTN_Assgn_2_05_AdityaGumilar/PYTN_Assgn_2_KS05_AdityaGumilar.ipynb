{
 "cells": [
  {
   "cell_type": "markdown",
   "id": "9b3e537d",
   "metadata": {},
   "source": [
    "<img src = \"https://rec-data.kalibrr.com/www.kalibrr.ph/logos/SSYTB3EN2CEV9HZDWPPE4JHP8X2T7CNC6SDZST8Y-5d0b4f4b.png\" width = 800>"
   ]
  },
  {
   "cell_type": "markdown",
   "id": "735a094e",
   "metadata": {},
   "source": [
    "**Aditya Gumilar** <p>\n",
    "**PYTN-KS05-002**"
   ]
  },
  {
   "cell_type": "markdown",
   "id": "1a166508",
   "metadata": {},
   "source": [
    "```\n",
    "Kalau kita buat listnya/summary dari perintah di module kode id :\n",
    "\n",
    "A. Measure of Central Tendency: Mean     (P/N/S)\n",
    "B. Measure of Central Tendency: Median   (P/N/S)\n",
    "C. Measure of Central Tendency: Modus    (P/N/S)\n",
    "D. Measure of Spread: Range              (P/N/S)\n",
    "E. Measure of Spread: Variance           (P/N/S)\n",
    "F. Measure of Spread: Standard Deviation (P/N/S)\n",
    "G. Probability Distribution              (+C)\n",
    "H. Confidence Intervals\n",
    "I. Hypothesis Testing                    (+C)\n",
    "\n",
    "*for each (A - I):\n",
    "- Question/what data we want to look up\n",
    "- Pre-processing if needed\n",
    "\n",
    "===\n",
    "Keterangan:\n",
    "(P/N/S) : Pandas / NumPy / Scipy\n",
    "(+C)    : +Conclusion (menarik informasi/kesimpulan)\n",
    "\n",
    "===\n",
    "(*)Untuk:\n",
    "- contoh question,  ada di page/halamannya Assignment 2 \"Examples of questions can be ...\"\n",
    "- more detail tentang dekripsi kolom pada dataset & special note tentang dataset, juga ada di halaman yang sama\n",
    "```"
   ]
  },
  {
   "cell_type": "markdown",
   "id": "dfa5dabd",
   "metadata": {},
   "source": [
    "# Exploratory Dataset"
   ]
  },
  {
   "cell_type": "code",
   "execution_count": 1,
   "id": "22d42519",
   "metadata": {},
   "outputs": [],
   "source": [
    "#import library\n",
    "import pandas as pd \n",
    "import numpy as np\n",
    "import statistics\n",
    "import matplotlib.pyplot as plt\n",
    "import seaborn as sns\n",
    "import statsmodels.api as sm\n",
    "\n",
    "plt.style.use('ggplot')\n"
   ]
  },
  {
   "cell_type": "code",
   "execution_count": 2,
   "id": "6959536c",
   "metadata": {},
   "outputs": [
    {
     "data": {
      "text/html": [
       "<div>\n",
       "<style scoped>\n",
       "    .dataframe tbody tr th:only-of-type {\n",
       "        vertical-align: middle;\n",
       "    }\n",
       "\n",
       "    .dataframe tbody tr th {\n",
       "        vertical-align: top;\n",
       "    }\n",
       "\n",
       "    .dataframe thead th {\n",
       "        text-align: right;\n",
       "    }\n",
       "</style>\n",
       "<table border=\"1\" class=\"dataframe\">\n",
       "  <thead>\n",
       "    <tr style=\"text-align: right;\">\n",
       "      <th></th>\n",
       "      <th>Unnamed: 0</th>\n",
       "      <th>BOROUGH</th>\n",
       "      <th>NEIGHBORHOOD</th>\n",
       "      <th>BUILDING CLASS CATEGORY</th>\n",
       "      <th>TAX CLASS AT PRESENT</th>\n",
       "      <th>BLOCK</th>\n",
       "      <th>LOT</th>\n",
       "      <th>EASE-MENT</th>\n",
       "      <th>BUILDING CLASS AT PRESENT</th>\n",
       "      <th>ADDRESS</th>\n",
       "      <th>...</th>\n",
       "      <th>RESIDENTIAL UNITS</th>\n",
       "      <th>COMMERCIAL UNITS</th>\n",
       "      <th>TOTAL UNITS</th>\n",
       "      <th>LAND SQUARE FEET</th>\n",
       "      <th>GROSS SQUARE FEET</th>\n",
       "      <th>YEAR BUILT</th>\n",
       "      <th>TAX CLASS AT TIME OF SALE</th>\n",
       "      <th>BUILDING CLASS AT TIME OF SALE</th>\n",
       "      <th>SALE PRICE</th>\n",
       "      <th>SALE DATE</th>\n",
       "    </tr>\n",
       "  </thead>\n",
       "  <tbody>\n",
       "    <tr>\n",
       "      <th>0</th>\n",
       "      <td>4</td>\n",
       "      <td>1</td>\n",
       "      <td>ALPHABET CITY</td>\n",
       "      <td>07 RENTALS - WALKUP APARTMENTS</td>\n",
       "      <td>2A</td>\n",
       "      <td>392</td>\n",
       "      <td>6</td>\n",
       "      <td></td>\n",
       "      <td>C2</td>\n",
       "      <td>153 AVENUE B</td>\n",
       "      <td>...</td>\n",
       "      <td>5</td>\n",
       "      <td>0</td>\n",
       "      <td>5</td>\n",
       "      <td>1633</td>\n",
       "      <td>6440</td>\n",
       "      <td>1900</td>\n",
       "      <td>2</td>\n",
       "      <td>C2</td>\n",
       "      <td>6625000</td>\n",
       "      <td>2017-07-19 00:00:00</td>\n",
       "    </tr>\n",
       "    <tr>\n",
       "      <th>1</th>\n",
       "      <td>5</td>\n",
       "      <td>1</td>\n",
       "      <td>ALPHABET CITY</td>\n",
       "      <td>07 RENTALS - WALKUP APARTMENTS</td>\n",
       "      <td>2</td>\n",
       "      <td>399</td>\n",
       "      <td>26</td>\n",
       "      <td></td>\n",
       "      <td>C7</td>\n",
       "      <td>234 EAST 4TH   STREET</td>\n",
       "      <td>...</td>\n",
       "      <td>28</td>\n",
       "      <td>3</td>\n",
       "      <td>31</td>\n",
       "      <td>4616</td>\n",
       "      <td>18690</td>\n",
       "      <td>1900</td>\n",
       "      <td>2</td>\n",
       "      <td>C7</td>\n",
       "      <td>-</td>\n",
       "      <td>2016-12-14 00:00:00</td>\n",
       "    </tr>\n",
       "    <tr>\n",
       "      <th>2</th>\n",
       "      <td>6</td>\n",
       "      <td>1</td>\n",
       "      <td>ALPHABET CITY</td>\n",
       "      <td>07 RENTALS - WALKUP APARTMENTS</td>\n",
       "      <td>2</td>\n",
       "      <td>399</td>\n",
       "      <td>39</td>\n",
       "      <td></td>\n",
       "      <td>C7</td>\n",
       "      <td>197 EAST 3RD   STREET</td>\n",
       "      <td>...</td>\n",
       "      <td>16</td>\n",
       "      <td>1</td>\n",
       "      <td>17</td>\n",
       "      <td>2212</td>\n",
       "      <td>7803</td>\n",
       "      <td>1900</td>\n",
       "      <td>2</td>\n",
       "      <td>C7</td>\n",
       "      <td>-</td>\n",
       "      <td>2016-12-09 00:00:00</td>\n",
       "    </tr>\n",
       "    <tr>\n",
       "      <th>3</th>\n",
       "      <td>7</td>\n",
       "      <td>1</td>\n",
       "      <td>ALPHABET CITY</td>\n",
       "      <td>07 RENTALS - WALKUP APARTMENTS</td>\n",
       "      <td>2B</td>\n",
       "      <td>402</td>\n",
       "      <td>21</td>\n",
       "      <td></td>\n",
       "      <td>C4</td>\n",
       "      <td>154 EAST 7TH STREET</td>\n",
       "      <td>...</td>\n",
       "      <td>10</td>\n",
       "      <td>0</td>\n",
       "      <td>10</td>\n",
       "      <td>2272</td>\n",
       "      <td>6794</td>\n",
       "      <td>1913</td>\n",
       "      <td>2</td>\n",
       "      <td>C4</td>\n",
       "      <td>3936272</td>\n",
       "      <td>2016-09-23 00:00:00</td>\n",
       "    </tr>\n",
       "    <tr>\n",
       "      <th>4</th>\n",
       "      <td>8</td>\n",
       "      <td>1</td>\n",
       "      <td>ALPHABET CITY</td>\n",
       "      <td>07 RENTALS - WALKUP APARTMENTS</td>\n",
       "      <td>2A</td>\n",
       "      <td>404</td>\n",
       "      <td>55</td>\n",
       "      <td></td>\n",
       "      <td>C2</td>\n",
       "      <td>301 EAST 10TH   STREET</td>\n",
       "      <td>...</td>\n",
       "      <td>6</td>\n",
       "      <td>0</td>\n",
       "      <td>6</td>\n",
       "      <td>2369</td>\n",
       "      <td>4615</td>\n",
       "      <td>1900</td>\n",
       "      <td>2</td>\n",
       "      <td>C2</td>\n",
       "      <td>8000000</td>\n",
       "      <td>2016-11-17 00:00:00</td>\n",
       "    </tr>\n",
       "    <tr>\n",
       "      <th>...</th>\n",
       "      <td>...</td>\n",
       "      <td>...</td>\n",
       "      <td>...</td>\n",
       "      <td>...</td>\n",
       "      <td>...</td>\n",
       "      <td>...</td>\n",
       "      <td>...</td>\n",
       "      <td>...</td>\n",
       "      <td>...</td>\n",
       "      <td>...</td>\n",
       "      <td>...</td>\n",
       "      <td>...</td>\n",
       "      <td>...</td>\n",
       "      <td>...</td>\n",
       "      <td>...</td>\n",
       "      <td>...</td>\n",
       "      <td>...</td>\n",
       "      <td>...</td>\n",
       "      <td>...</td>\n",
       "      <td>...</td>\n",
       "      <td>...</td>\n",
       "    </tr>\n",
       "    <tr>\n",
       "      <th>84543</th>\n",
       "      <td>8409</td>\n",
       "      <td>5</td>\n",
       "      <td>WOODROW</td>\n",
       "      <td>02 TWO FAMILY DWELLINGS</td>\n",
       "      <td>1</td>\n",
       "      <td>7349</td>\n",
       "      <td>34</td>\n",
       "      <td></td>\n",
       "      <td>B9</td>\n",
       "      <td>37 QUAIL LANE</td>\n",
       "      <td>...</td>\n",
       "      <td>2</td>\n",
       "      <td>0</td>\n",
       "      <td>2</td>\n",
       "      <td>2400</td>\n",
       "      <td>2575</td>\n",
       "      <td>1998</td>\n",
       "      <td>1</td>\n",
       "      <td>B9</td>\n",
       "      <td>450000</td>\n",
       "      <td>2016-11-28 00:00:00</td>\n",
       "    </tr>\n",
       "    <tr>\n",
       "      <th>84544</th>\n",
       "      <td>8410</td>\n",
       "      <td>5</td>\n",
       "      <td>WOODROW</td>\n",
       "      <td>02 TWO FAMILY DWELLINGS</td>\n",
       "      <td>1</td>\n",
       "      <td>7349</td>\n",
       "      <td>78</td>\n",
       "      <td></td>\n",
       "      <td>B9</td>\n",
       "      <td>32 PHEASANT LANE</td>\n",
       "      <td>...</td>\n",
       "      <td>2</td>\n",
       "      <td>0</td>\n",
       "      <td>2</td>\n",
       "      <td>2498</td>\n",
       "      <td>2377</td>\n",
       "      <td>1998</td>\n",
       "      <td>1</td>\n",
       "      <td>B9</td>\n",
       "      <td>550000</td>\n",
       "      <td>2017-04-21 00:00:00</td>\n",
       "    </tr>\n",
       "    <tr>\n",
       "      <th>84545</th>\n",
       "      <td>8411</td>\n",
       "      <td>5</td>\n",
       "      <td>WOODROW</td>\n",
       "      <td>02 TWO FAMILY DWELLINGS</td>\n",
       "      <td>1</td>\n",
       "      <td>7351</td>\n",
       "      <td>60</td>\n",
       "      <td></td>\n",
       "      <td>B2</td>\n",
       "      <td>49 PITNEY AVENUE</td>\n",
       "      <td>...</td>\n",
       "      <td>2</td>\n",
       "      <td>0</td>\n",
       "      <td>2</td>\n",
       "      <td>4000</td>\n",
       "      <td>1496</td>\n",
       "      <td>1925</td>\n",
       "      <td>1</td>\n",
       "      <td>B2</td>\n",
       "      <td>460000</td>\n",
       "      <td>2017-07-05 00:00:00</td>\n",
       "    </tr>\n",
       "    <tr>\n",
       "      <th>84546</th>\n",
       "      <td>8412</td>\n",
       "      <td>5</td>\n",
       "      <td>WOODROW</td>\n",
       "      <td>22 STORE BUILDINGS</td>\n",
       "      <td>4</td>\n",
       "      <td>7100</td>\n",
       "      <td>28</td>\n",
       "      <td></td>\n",
       "      <td>K6</td>\n",
       "      <td>2730 ARTHUR KILL ROAD</td>\n",
       "      <td>...</td>\n",
       "      <td>0</td>\n",
       "      <td>7</td>\n",
       "      <td>7</td>\n",
       "      <td>208033</td>\n",
       "      <td>64117</td>\n",
       "      <td>2001</td>\n",
       "      <td>4</td>\n",
       "      <td>K6</td>\n",
       "      <td>11693337</td>\n",
       "      <td>2016-12-21 00:00:00</td>\n",
       "    </tr>\n",
       "    <tr>\n",
       "      <th>84547</th>\n",
       "      <td>8413</td>\n",
       "      <td>5</td>\n",
       "      <td>WOODROW</td>\n",
       "      <td>35 INDOOR PUBLIC AND CULTURAL FACILITIES</td>\n",
       "      <td>4</td>\n",
       "      <td>7105</td>\n",
       "      <td>679</td>\n",
       "      <td></td>\n",
       "      <td>P9</td>\n",
       "      <td>155 CLAY PIT ROAD</td>\n",
       "      <td>...</td>\n",
       "      <td>0</td>\n",
       "      <td>1</td>\n",
       "      <td>1</td>\n",
       "      <td>10796</td>\n",
       "      <td>2400</td>\n",
       "      <td>2006</td>\n",
       "      <td>4</td>\n",
       "      <td>P9</td>\n",
       "      <td>69300</td>\n",
       "      <td>2016-10-27 00:00:00</td>\n",
       "    </tr>\n",
       "  </tbody>\n",
       "</table>\n",
       "<p>84548 rows × 22 columns</p>\n",
       "</div>"
      ],
      "text/plain": [
       "       Unnamed: 0  BOROUGH   NEIGHBORHOOD  \\\n",
       "0               4        1  ALPHABET CITY   \n",
       "1               5        1  ALPHABET CITY   \n",
       "2               6        1  ALPHABET CITY   \n",
       "3               7        1  ALPHABET CITY   \n",
       "4               8        1  ALPHABET CITY   \n",
       "...           ...      ...            ...   \n",
       "84543        8409        5        WOODROW   \n",
       "84544        8410        5        WOODROW   \n",
       "84545        8411        5        WOODROW   \n",
       "84546        8412        5        WOODROW   \n",
       "84547        8413        5        WOODROW   \n",
       "\n",
       "                           BUILDING CLASS CATEGORY TAX CLASS AT PRESENT  \\\n",
       "0      07 RENTALS - WALKUP APARTMENTS                                2A   \n",
       "1      07 RENTALS - WALKUP APARTMENTS                                 2   \n",
       "2      07 RENTALS - WALKUP APARTMENTS                                 2   \n",
       "3      07 RENTALS - WALKUP APARTMENTS                                2B   \n",
       "4      07 RENTALS - WALKUP APARTMENTS                                2A   \n",
       "...                                            ...                  ...   \n",
       "84543  02 TWO FAMILY DWELLINGS                                        1   \n",
       "84544  02 TWO FAMILY DWELLINGS                                        1   \n",
       "84545  02 TWO FAMILY DWELLINGS                                        1   \n",
       "84546  22 STORE BUILDINGS                                             4   \n",
       "84547  35 INDOOR PUBLIC AND CULTURAL FACILITIES                       4   \n",
       "\n",
       "       BLOCK  LOT EASE-MENT BUILDING CLASS AT PRESENT                 ADDRESS  \\\n",
       "0        392    6                                  C2            153 AVENUE B   \n",
       "1        399   26                                  C7   234 EAST 4TH   STREET   \n",
       "2        399   39                                  C7   197 EAST 3RD   STREET   \n",
       "3        402   21                                  C4     154 EAST 7TH STREET   \n",
       "4        404   55                                  C2  301 EAST 10TH   STREET   \n",
       "...      ...  ...       ...                       ...                     ...   \n",
       "84543   7349   34                                  B9           37 QUAIL LANE   \n",
       "84544   7349   78                                  B9        32 PHEASANT LANE   \n",
       "84545   7351   60                                  B2        49 PITNEY AVENUE   \n",
       "84546   7100   28                                  K6   2730 ARTHUR KILL ROAD   \n",
       "84547   7105  679                                  P9       155 CLAY PIT ROAD   \n",
       "\n",
       "       ... RESIDENTIAL UNITS  COMMERCIAL UNITS  TOTAL UNITS  LAND SQUARE FEET  \\\n",
       "0      ...                 5                 0            5              1633   \n",
       "1      ...                28                 3           31              4616   \n",
       "2      ...                16                 1           17              2212   \n",
       "3      ...                10                 0           10              2272   \n",
       "4      ...                 6                 0            6              2369   \n",
       "...    ...               ...               ...          ...               ...   \n",
       "84543  ...                 2                 0            2              2400   \n",
       "84544  ...                 2                 0            2              2498   \n",
       "84545  ...                 2                 0            2              4000   \n",
       "84546  ...                 0                 7            7            208033   \n",
       "84547  ...                 0                 1            1             10796   \n",
       "\n",
       "       GROSS SQUARE FEET YEAR BUILT TAX CLASS AT TIME OF SALE  \\\n",
       "0                   6440       1900                         2   \n",
       "1                  18690       1900                         2   \n",
       "2                   7803       1900                         2   \n",
       "3                   6794       1913                         2   \n",
       "4                   4615       1900                         2   \n",
       "...                  ...        ...                       ...   \n",
       "84543               2575       1998                         1   \n",
       "84544               2377       1998                         1   \n",
       "84545               1496       1925                         1   \n",
       "84546              64117       2001                         4   \n",
       "84547               2400       2006                         4   \n",
       "\n",
       "       BUILDING CLASS AT TIME OF SALE  SALE PRICE            SALE DATE  \n",
       "0                                  C2     6625000  2017-07-19 00:00:00  \n",
       "1                                  C7         -    2016-12-14 00:00:00  \n",
       "2                                  C7         -    2016-12-09 00:00:00  \n",
       "3                                  C4     3936272  2016-09-23 00:00:00  \n",
       "4                                  C2     8000000  2016-11-17 00:00:00  \n",
       "...                               ...         ...                  ...  \n",
       "84543                              B9      450000  2016-11-28 00:00:00  \n",
       "84544                              B9      550000  2017-04-21 00:00:00  \n",
       "84545                              B2      460000  2017-07-05 00:00:00  \n",
       "84546                              K6    11693337  2016-12-21 00:00:00  \n",
       "84547                              P9       69300  2016-10-27 00:00:00  \n",
       "\n",
       "[84548 rows x 22 columns]"
      ]
     },
     "execution_count": 2,
     "metadata": {},
     "output_type": "execute_result"
    }
   ],
   "source": [
    "# Data sebelum dilakukan update\n",
    "df_nyc = pd.read_csv('nyc-rolling-sales.csv')\n",
    "df_nyc"
   ]
  },
  {
   "cell_type": "code",
   "execution_count": 3,
   "id": "199da4cc",
   "metadata": {},
   "outputs": [
    {
     "data": {
      "text/html": [
       "<div>\n",
       "<style scoped>\n",
       "    .dataframe tbody tr th:only-of-type {\n",
       "        vertical-align: middle;\n",
       "    }\n",
       "\n",
       "    .dataframe tbody tr th {\n",
       "        vertical-align: top;\n",
       "    }\n",
       "\n",
       "    .dataframe thead th {\n",
       "        text-align: right;\n",
       "    }\n",
       "</style>\n",
       "<table border=\"1\" class=\"dataframe\">\n",
       "  <thead>\n",
       "    <tr style=\"text-align: right;\">\n",
       "      <th></th>\n",
       "      <th>Unnamed: 0</th>\n",
       "      <th>BOROUGH</th>\n",
       "      <th>NEIGHBORHOOD</th>\n",
       "      <th>BUILDING CLASS CATEGORY</th>\n",
       "      <th>TAX CLASS AT PRESENT</th>\n",
       "      <th>BLOCK</th>\n",
       "      <th>LOT</th>\n",
       "      <th>EASE-MENT</th>\n",
       "      <th>BUILDING CLASS AT PRESENT</th>\n",
       "      <th>ADDRESS</th>\n",
       "      <th>...</th>\n",
       "      <th>RESIDENTIAL UNITS</th>\n",
       "      <th>COMMERCIAL UNITS</th>\n",
       "      <th>TOTAL UNITS</th>\n",
       "      <th>LAND SQUARE FEET</th>\n",
       "      <th>GROSS SQUARE FEET</th>\n",
       "      <th>YEAR BUILT</th>\n",
       "      <th>TAX CLASS AT TIME OF SALE</th>\n",
       "      <th>BUILDING CLASS AT TIME OF SALE</th>\n",
       "      <th>SALE PRICE</th>\n",
       "      <th>SALE DATE</th>\n",
       "    </tr>\n",
       "  </thead>\n",
       "  <tbody>\n",
       "    <tr>\n",
       "      <th>0</th>\n",
       "      <td>4</td>\n",
       "      <td>Manhattan</td>\n",
       "      <td>ALPHABET CITY</td>\n",
       "      <td>07 RENTALS - WALKUP APARTMENTS</td>\n",
       "      <td>2A</td>\n",
       "      <td>392</td>\n",
       "      <td>6</td>\n",
       "      <td>NaN</td>\n",
       "      <td>C2</td>\n",
       "      <td>153 AVENUE B</td>\n",
       "      <td>...</td>\n",
       "      <td>5</td>\n",
       "      <td>0</td>\n",
       "      <td>5</td>\n",
       "      <td>1633.0</td>\n",
       "      <td>6440.0</td>\n",
       "      <td>1900</td>\n",
       "      <td>2</td>\n",
       "      <td>C2</td>\n",
       "      <td>6625000.0</td>\n",
       "      <td>2017-07-19 00:00:00</td>\n",
       "    </tr>\n",
       "    <tr>\n",
       "      <th>1</th>\n",
       "      <td>5</td>\n",
       "      <td>Manhattan</td>\n",
       "      <td>ALPHABET CITY</td>\n",
       "      <td>07 RENTALS - WALKUP APARTMENTS</td>\n",
       "      <td>2</td>\n",
       "      <td>399</td>\n",
       "      <td>26</td>\n",
       "      <td>NaN</td>\n",
       "      <td>C7</td>\n",
       "      <td>234 EAST 4TH   STREET</td>\n",
       "      <td>...</td>\n",
       "      <td>28</td>\n",
       "      <td>3</td>\n",
       "      <td>31</td>\n",
       "      <td>4616.0</td>\n",
       "      <td>18690.0</td>\n",
       "      <td>1900</td>\n",
       "      <td>2</td>\n",
       "      <td>C7</td>\n",
       "      <td>NaN</td>\n",
       "      <td>2016-12-14 00:00:00</td>\n",
       "    </tr>\n",
       "    <tr>\n",
       "      <th>2</th>\n",
       "      <td>6</td>\n",
       "      <td>Manhattan</td>\n",
       "      <td>ALPHABET CITY</td>\n",
       "      <td>07 RENTALS - WALKUP APARTMENTS</td>\n",
       "      <td>2</td>\n",
       "      <td>399</td>\n",
       "      <td>39</td>\n",
       "      <td>NaN</td>\n",
       "      <td>C7</td>\n",
       "      <td>197 EAST 3RD   STREET</td>\n",
       "      <td>...</td>\n",
       "      <td>16</td>\n",
       "      <td>1</td>\n",
       "      <td>17</td>\n",
       "      <td>2212.0</td>\n",
       "      <td>7803.0</td>\n",
       "      <td>1900</td>\n",
       "      <td>2</td>\n",
       "      <td>C7</td>\n",
       "      <td>NaN</td>\n",
       "      <td>2016-12-09 00:00:00</td>\n",
       "    </tr>\n",
       "    <tr>\n",
       "      <th>3</th>\n",
       "      <td>7</td>\n",
       "      <td>Manhattan</td>\n",
       "      <td>ALPHABET CITY</td>\n",
       "      <td>07 RENTALS - WALKUP APARTMENTS</td>\n",
       "      <td>2B</td>\n",
       "      <td>402</td>\n",
       "      <td>21</td>\n",
       "      <td>NaN</td>\n",
       "      <td>C4</td>\n",
       "      <td>154 EAST 7TH STREET</td>\n",
       "      <td>...</td>\n",
       "      <td>10</td>\n",
       "      <td>0</td>\n",
       "      <td>10</td>\n",
       "      <td>2272.0</td>\n",
       "      <td>6794.0</td>\n",
       "      <td>1913</td>\n",
       "      <td>2</td>\n",
       "      <td>C4</td>\n",
       "      <td>3936272.0</td>\n",
       "      <td>2016-09-23 00:00:00</td>\n",
       "    </tr>\n",
       "    <tr>\n",
       "      <th>4</th>\n",
       "      <td>8</td>\n",
       "      <td>Manhattan</td>\n",
       "      <td>ALPHABET CITY</td>\n",
       "      <td>07 RENTALS - WALKUP APARTMENTS</td>\n",
       "      <td>2A</td>\n",
       "      <td>404</td>\n",
       "      <td>55</td>\n",
       "      <td>NaN</td>\n",
       "      <td>C2</td>\n",
       "      <td>301 EAST 10TH   STREET</td>\n",
       "      <td>...</td>\n",
       "      <td>6</td>\n",
       "      <td>0</td>\n",
       "      <td>6</td>\n",
       "      <td>2369.0</td>\n",
       "      <td>4615.0</td>\n",
       "      <td>1900</td>\n",
       "      <td>2</td>\n",
       "      <td>C2</td>\n",
       "      <td>8000000.0</td>\n",
       "      <td>2016-11-17 00:00:00</td>\n",
       "    </tr>\n",
       "    <tr>\n",
       "      <th>...</th>\n",
       "      <td>...</td>\n",
       "      <td>...</td>\n",
       "      <td>...</td>\n",
       "      <td>...</td>\n",
       "      <td>...</td>\n",
       "      <td>...</td>\n",
       "      <td>...</td>\n",
       "      <td>...</td>\n",
       "      <td>...</td>\n",
       "      <td>...</td>\n",
       "      <td>...</td>\n",
       "      <td>...</td>\n",
       "      <td>...</td>\n",
       "      <td>...</td>\n",
       "      <td>...</td>\n",
       "      <td>...</td>\n",
       "      <td>...</td>\n",
       "      <td>...</td>\n",
       "      <td>...</td>\n",
       "      <td>...</td>\n",
       "      <td>...</td>\n",
       "    </tr>\n",
       "    <tr>\n",
       "      <th>84543</th>\n",
       "      <td>8409</td>\n",
       "      <td>Staten Island</td>\n",
       "      <td>WOODROW</td>\n",
       "      <td>02 TWO FAMILY DWELLINGS</td>\n",
       "      <td>1</td>\n",
       "      <td>7349</td>\n",
       "      <td>34</td>\n",
       "      <td>NaN</td>\n",
       "      <td>B9</td>\n",
       "      <td>37 QUAIL LANE</td>\n",
       "      <td>...</td>\n",
       "      <td>2</td>\n",
       "      <td>0</td>\n",
       "      <td>2</td>\n",
       "      <td>2400.0</td>\n",
       "      <td>2575.0</td>\n",
       "      <td>1998</td>\n",
       "      <td>1</td>\n",
       "      <td>B9</td>\n",
       "      <td>450000.0</td>\n",
       "      <td>2016-11-28 00:00:00</td>\n",
       "    </tr>\n",
       "    <tr>\n",
       "      <th>84544</th>\n",
       "      <td>8410</td>\n",
       "      <td>Staten Island</td>\n",
       "      <td>WOODROW</td>\n",
       "      <td>02 TWO FAMILY DWELLINGS</td>\n",
       "      <td>1</td>\n",
       "      <td>7349</td>\n",
       "      <td>78</td>\n",
       "      <td>NaN</td>\n",
       "      <td>B9</td>\n",
       "      <td>32 PHEASANT LANE</td>\n",
       "      <td>...</td>\n",
       "      <td>2</td>\n",
       "      <td>0</td>\n",
       "      <td>2</td>\n",
       "      <td>2498.0</td>\n",
       "      <td>2377.0</td>\n",
       "      <td>1998</td>\n",
       "      <td>1</td>\n",
       "      <td>B9</td>\n",
       "      <td>550000.0</td>\n",
       "      <td>2017-04-21 00:00:00</td>\n",
       "    </tr>\n",
       "    <tr>\n",
       "      <th>84545</th>\n",
       "      <td>8411</td>\n",
       "      <td>Staten Island</td>\n",
       "      <td>WOODROW</td>\n",
       "      <td>02 TWO FAMILY DWELLINGS</td>\n",
       "      <td>1</td>\n",
       "      <td>7351</td>\n",
       "      <td>60</td>\n",
       "      <td>NaN</td>\n",
       "      <td>B2</td>\n",
       "      <td>49 PITNEY AVENUE</td>\n",
       "      <td>...</td>\n",
       "      <td>2</td>\n",
       "      <td>0</td>\n",
       "      <td>2</td>\n",
       "      <td>4000.0</td>\n",
       "      <td>1496.0</td>\n",
       "      <td>1925</td>\n",
       "      <td>1</td>\n",
       "      <td>B2</td>\n",
       "      <td>460000.0</td>\n",
       "      <td>2017-07-05 00:00:00</td>\n",
       "    </tr>\n",
       "    <tr>\n",
       "      <th>84546</th>\n",
       "      <td>8412</td>\n",
       "      <td>Staten Island</td>\n",
       "      <td>WOODROW</td>\n",
       "      <td>22 STORE BUILDINGS</td>\n",
       "      <td>4</td>\n",
       "      <td>7100</td>\n",
       "      <td>28</td>\n",
       "      <td>NaN</td>\n",
       "      <td>K6</td>\n",
       "      <td>2730 ARTHUR KILL ROAD</td>\n",
       "      <td>...</td>\n",
       "      <td>0</td>\n",
       "      <td>7</td>\n",
       "      <td>7</td>\n",
       "      <td>208033.0</td>\n",
       "      <td>64117.0</td>\n",
       "      <td>2001</td>\n",
       "      <td>4</td>\n",
       "      <td>K6</td>\n",
       "      <td>11693337.0</td>\n",
       "      <td>2016-12-21 00:00:00</td>\n",
       "    </tr>\n",
       "    <tr>\n",
       "      <th>84547</th>\n",
       "      <td>8413</td>\n",
       "      <td>Staten Island</td>\n",
       "      <td>WOODROW</td>\n",
       "      <td>35 INDOOR PUBLIC AND CULTURAL FACILITIES</td>\n",
       "      <td>4</td>\n",
       "      <td>7105</td>\n",
       "      <td>679</td>\n",
       "      <td>NaN</td>\n",
       "      <td>P9</td>\n",
       "      <td>155 CLAY PIT ROAD</td>\n",
       "      <td>...</td>\n",
       "      <td>0</td>\n",
       "      <td>1</td>\n",
       "      <td>1</td>\n",
       "      <td>10796.0</td>\n",
       "      <td>2400.0</td>\n",
       "      <td>2006</td>\n",
       "      <td>4</td>\n",
       "      <td>P9</td>\n",
       "      <td>69300.0</td>\n",
       "      <td>2016-10-27 00:00:00</td>\n",
       "    </tr>\n",
       "  </tbody>\n",
       "</table>\n",
       "<p>84548 rows × 22 columns</p>\n",
       "</div>"
      ],
      "text/plain": [
       "       Unnamed: 0        BOROUGH   NEIGHBORHOOD  \\\n",
       "0               4      Manhattan  ALPHABET CITY   \n",
       "1               5      Manhattan  ALPHABET CITY   \n",
       "2               6      Manhattan  ALPHABET CITY   \n",
       "3               7      Manhattan  ALPHABET CITY   \n",
       "4               8      Manhattan  ALPHABET CITY   \n",
       "...           ...            ...            ...   \n",
       "84543        8409  Staten Island        WOODROW   \n",
       "84544        8410  Staten Island        WOODROW   \n",
       "84545        8411  Staten Island        WOODROW   \n",
       "84546        8412  Staten Island        WOODROW   \n",
       "84547        8413  Staten Island        WOODROW   \n",
       "\n",
       "                           BUILDING CLASS CATEGORY TAX CLASS AT PRESENT  \\\n",
       "0      07 RENTALS - WALKUP APARTMENTS                                2A   \n",
       "1      07 RENTALS - WALKUP APARTMENTS                                 2   \n",
       "2      07 RENTALS - WALKUP APARTMENTS                                 2   \n",
       "3      07 RENTALS - WALKUP APARTMENTS                                2B   \n",
       "4      07 RENTALS - WALKUP APARTMENTS                                2A   \n",
       "...                                            ...                  ...   \n",
       "84543  02 TWO FAMILY DWELLINGS                                        1   \n",
       "84544  02 TWO FAMILY DWELLINGS                                        1   \n",
       "84545  02 TWO FAMILY DWELLINGS                                        1   \n",
       "84546  22 STORE BUILDINGS                                             4   \n",
       "84547  35 INDOOR PUBLIC AND CULTURAL FACILITIES                       4   \n",
       "\n",
       "       BLOCK  LOT  EASE-MENT BUILDING CLASS AT PRESENT  \\\n",
       "0        392    6        NaN                        C2   \n",
       "1        399   26        NaN                        C7   \n",
       "2        399   39        NaN                        C7   \n",
       "3        402   21        NaN                        C4   \n",
       "4        404   55        NaN                        C2   \n",
       "...      ...  ...        ...                       ...   \n",
       "84543   7349   34        NaN                        B9   \n",
       "84544   7349   78        NaN                        B9   \n",
       "84545   7351   60        NaN                        B2   \n",
       "84546   7100   28        NaN                        K6   \n",
       "84547   7105  679        NaN                        P9   \n",
       "\n",
       "                      ADDRESS  ... RESIDENTIAL UNITS  COMMERCIAL UNITS  \\\n",
       "0                153 AVENUE B  ...                 5                 0   \n",
       "1       234 EAST 4TH   STREET  ...                28                 3   \n",
       "2       197 EAST 3RD   STREET  ...                16                 1   \n",
       "3         154 EAST 7TH STREET  ...                10                 0   \n",
       "4      301 EAST 10TH   STREET  ...                 6                 0   \n",
       "...                       ...  ...               ...               ...   \n",
       "84543           37 QUAIL LANE  ...                 2                 0   \n",
       "84544        32 PHEASANT LANE  ...                 2                 0   \n",
       "84545        49 PITNEY AVENUE  ...                 2                 0   \n",
       "84546   2730 ARTHUR KILL ROAD  ...                 0                 7   \n",
       "84547       155 CLAY PIT ROAD  ...                 0                 1   \n",
       "\n",
       "       TOTAL UNITS  LAND SQUARE FEET  GROSS SQUARE FEET  YEAR BUILT  \\\n",
       "0                5            1633.0             6440.0        1900   \n",
       "1               31            4616.0            18690.0        1900   \n",
       "2               17            2212.0             7803.0        1900   \n",
       "3               10            2272.0             6794.0        1913   \n",
       "4                6            2369.0             4615.0        1900   \n",
       "...            ...               ...                ...         ...   \n",
       "84543            2            2400.0             2575.0        1998   \n",
       "84544            2            2498.0             2377.0        1998   \n",
       "84545            2            4000.0             1496.0        1925   \n",
       "84546            7          208033.0            64117.0        2001   \n",
       "84547            1           10796.0             2400.0        2006   \n",
       "\n",
       "       TAX CLASS AT TIME OF SALE  BUILDING CLASS AT TIME OF SALE  SALE PRICE  \\\n",
       "0                              2                              C2   6625000.0   \n",
       "1                              2                              C7         NaN   \n",
       "2                              2                              C7         NaN   \n",
       "3                              2                              C4   3936272.0   \n",
       "4                              2                              C2   8000000.0   \n",
       "...                          ...                             ...         ...   \n",
       "84543                          1                              B9    450000.0   \n",
       "84544                          1                              B9    550000.0   \n",
       "84545                          1                              B2    460000.0   \n",
       "84546                          4                              K6  11693337.0   \n",
       "84547                          4                              P9     69300.0   \n",
       "\n",
       "                 SALE DATE  \n",
       "0      2017-07-19 00:00:00  \n",
       "1      2016-12-14 00:00:00  \n",
       "2      2016-12-09 00:00:00  \n",
       "3      2016-09-23 00:00:00  \n",
       "4      2016-11-17 00:00:00  \n",
       "...                    ...  \n",
       "84543  2016-11-28 00:00:00  \n",
       "84544  2017-04-21 00:00:00  \n",
       "84545  2017-07-05 00:00:00  \n",
       "84546  2016-12-21 00:00:00  \n",
       "84547  2016-10-27 00:00:00  \n",
       "\n",
       "[84548 rows x 22 columns]"
      ]
     },
     "execution_count": 3,
     "metadata": {},
     "output_type": "execute_result"
    }
   ],
   "source": [
    "# Data setelah dilakukan update\n",
    "# Memasukan karakter atau nilai missing values untuk mengisi kolom yang memiliki baris kosong\n",
    "mv = ['n/a', 'na', \"--\", \"?\", \"NA\", 'n-a', 'NaN', ' ', '-', ' -  ']\n",
    "df_nyc = pd.read_csv('nyc-rolling-sales.csv', na_values=mv)\n",
    "df_nyc['BOROUGH']= df_nyc['BOROUGH'].map({1:'Manhattan', \n",
    "                                          2:'Bronx', \n",
    "                                          3:'Brooklyn', \n",
    "                                          4:'Queens', \n",
    "                                          5:'Staten Island'})\n",
    "df_nyc"
   ]
  },
  {
   "cell_type": "markdown",
   "id": "d700bd46",
   "metadata": {},
   "source": [
    "Perbedaan dari kedua data diatas adalah data yang sebelum diupdate masih memiliki kolom dengan baris yang kosong. Setelah dilakukan update, baris yang kosong akan di isi dengan nilai Nan atau Nul."
   ]
  },
  {
   "cell_type": "code",
   "execution_count": 4,
   "id": "57737eb5",
   "metadata": {},
   "outputs": [
    {
     "data": {
      "text/plain": [
       "(84548, 22)"
      ]
     },
     "execution_count": 4,
     "metadata": {},
     "output_type": "execute_result"
    }
   ],
   "source": [
    "# Melihat jumlah baris dan kolom\n",
    "df_nyc.shape"
   ]
  },
  {
   "cell_type": "code",
   "execution_count": 5,
   "id": "0c005c84",
   "metadata": {},
   "outputs": [
    {
     "data": {
      "text/plain": [
       "Unnamed: 0                            0\n",
       "BOROUGH                               0\n",
       "NEIGHBORHOOD                          0\n",
       "BUILDING CLASS CATEGORY               0\n",
       "TAX CLASS AT PRESENT                738\n",
       "BLOCK                                 0\n",
       "LOT                                   0\n",
       "EASE-MENT                         84548\n",
       "BUILDING CLASS AT PRESENT           738\n",
       "ADDRESS                               0\n",
       "APARTMENT NUMBER                  65496\n",
       "ZIP CODE                              0\n",
       "RESIDENTIAL UNITS                     0\n",
       "COMMERCIAL UNITS                      0\n",
       "TOTAL UNITS                           0\n",
       "LAND SQUARE FEET                  26252\n",
       "GROSS SQUARE FEET                 27612\n",
       "YEAR BUILT                            0\n",
       "TAX CLASS AT TIME OF SALE             0\n",
       "BUILDING CLASS AT TIME OF SALE        0\n",
       "SALE PRICE                        14561\n",
       "SALE DATE                             0\n",
       "dtype: int64"
      ]
     },
     "execution_count": 5,
     "metadata": {},
     "output_type": "execute_result"
    }
   ],
   "source": [
    "# Mengecek missing values pada setiap baris\n",
    "df_nyc.isnull().sum()"
   ]
  },
  {
   "cell_type": "code",
   "execution_count": 6,
   "id": "c7f5b3fa",
   "metadata": {},
   "outputs": [],
   "source": [
    "# Mendrop kolom unnamed:0 dan kolom dengan jumlah missing value paling banyak \n",
    "df_nyc = df_nyc.drop(['Unnamed: 0', 'EASE-MENT', 'APARTMENT NUMBER'], axis=1)"
   ]
  },
  {
   "cell_type": "code",
   "execution_count": 7,
   "id": "b27f09b0",
   "metadata": {},
   "outputs": [
    {
     "data": {
      "text/plain": [
       "BOROUGH                           0\n",
       "NEIGHBORHOOD                      0\n",
       "BUILDING CLASS CATEGORY           0\n",
       "TAX CLASS AT PRESENT              0\n",
       "BLOCK                             0\n",
       "LOT                               0\n",
       "BUILDING CLASS AT PRESENT         0\n",
       "ADDRESS                           0\n",
       "ZIP CODE                          0\n",
       "RESIDENTIAL UNITS                 0\n",
       "COMMERCIAL UNITS                  0\n",
       "TOTAL UNITS                       0\n",
       "LAND SQUARE FEET                  0\n",
       "GROSS SQUARE FEET                 0\n",
       "YEAR BUILT                        0\n",
       "TAX CLASS AT TIME OF SALE         0\n",
       "BUILDING CLASS AT TIME OF SALE    0\n",
       "SALE PRICE                        0\n",
       "SALE DATE                         0\n",
       "dtype: int64"
      ]
     },
     "execution_count": 7,
     "metadata": {},
     "output_type": "execute_result"
    }
   ],
   "source": [
    "# Mendrop baris yang memiliki missing values\n",
    "df_nyc = df_nyc.dropna()\n",
    "df_nyc.isnull().sum()"
   ]
  },
  {
   "cell_type": "code",
   "execution_count": 8,
   "id": "6dd0df33",
   "metadata": {},
   "outputs": [
    {
     "data": {
      "text/plain": [
       "(47892, 19)"
      ]
     },
     "execution_count": 8,
     "metadata": {},
     "output_type": "execute_result"
    }
   ],
   "source": [
    "# Jumlah baris dan kolom setelah dilakukan drop missing values dan drop kolom yang tidak digunakan\n",
    "df_nyc.shape"
   ]
  },
  {
   "cell_type": "code",
   "execution_count": 9,
   "id": "d37b926d",
   "metadata": {},
   "outputs": [
    {
     "name": "stdout",
     "output_type": "stream",
     "text": [
      "<class 'pandas.core.frame.DataFrame'>\n",
      "Int64Index: 47892 entries, 0 to 84547\n",
      "Data columns (total 19 columns):\n",
      " #   Column                          Non-Null Count  Dtype  \n",
      "---  ------                          --------------  -----  \n",
      " 0   BOROUGH                         47892 non-null  object \n",
      " 1   NEIGHBORHOOD                    47892 non-null  object \n",
      " 2   BUILDING CLASS CATEGORY         47892 non-null  object \n",
      " 3   TAX CLASS AT PRESENT            47892 non-null  object \n",
      " 4   BLOCK                           47892 non-null  int64  \n",
      " 5   LOT                             47892 non-null  int64  \n",
      " 6   BUILDING CLASS AT PRESENT       47892 non-null  object \n",
      " 7   ADDRESS                         47892 non-null  object \n",
      " 8   ZIP CODE                        47892 non-null  int64  \n",
      " 9   RESIDENTIAL UNITS               47892 non-null  int64  \n",
      " 10  COMMERCIAL UNITS                47892 non-null  int64  \n",
      " 11  TOTAL UNITS                     47892 non-null  int64  \n",
      " 12  LAND SQUARE FEET                47892 non-null  float64\n",
      " 13  GROSS SQUARE FEET               47892 non-null  float64\n",
      " 14  YEAR BUILT                      47892 non-null  int64  \n",
      " 15  TAX CLASS AT TIME OF SALE       47892 non-null  int64  \n",
      " 16  BUILDING CLASS AT TIME OF SALE  47892 non-null  object \n",
      " 17  SALE PRICE                      47892 non-null  float64\n",
      " 18  SALE DATE                       47892 non-null  object \n",
      "dtypes: float64(3), int64(8), object(8)\n",
      "memory usage: 7.3+ MB\n"
     ]
    }
   ],
   "source": [
    "# Melihat info dari dataset yang digunakan\n",
    "df_nyc.info()"
   ]
  },
  {
   "cell_type": "code",
   "execution_count": 10,
   "id": "0960ac63",
   "metadata": {},
   "outputs": [
    {
     "data": {
      "text/html": [
       "<div>\n",
       "<style scoped>\n",
       "    .dataframe tbody tr th:only-of-type {\n",
       "        vertical-align: middle;\n",
       "    }\n",
       "\n",
       "    .dataframe tbody tr th {\n",
       "        vertical-align: top;\n",
       "    }\n",
       "\n",
       "    .dataframe thead th {\n",
       "        text-align: right;\n",
       "    }\n",
       "</style>\n",
       "<table border=\"1\" class=\"dataframe\">\n",
       "  <thead>\n",
       "    <tr style=\"text-align: right;\">\n",
       "      <th></th>\n",
       "      <th>BOROUGH</th>\n",
       "      <th>NEIGHBORHOOD</th>\n",
       "      <th>BUILDING CLASS CATEGORY</th>\n",
       "      <th>TAX CLASS AT PRESENT</th>\n",
       "      <th>BLOCK</th>\n",
       "      <th>LOT</th>\n",
       "      <th>BUILDING CLASS AT PRESENT</th>\n",
       "      <th>ADDRESS</th>\n",
       "      <th>ZIP CODE</th>\n",
       "      <th>RESIDENTIAL UNITS</th>\n",
       "      <th>COMMERCIAL UNITS</th>\n",
       "      <th>TOTAL UNITS</th>\n",
       "      <th>LAND SQUARE FEET</th>\n",
       "      <th>GROSS SQUARE FEET</th>\n",
       "      <th>YEAR BUILT</th>\n",
       "      <th>TAX CLASS AT TIME OF SALE</th>\n",
       "      <th>BUILDING CLASS AT TIME OF SALE</th>\n",
       "      <th>SALE PRICE</th>\n",
       "      <th>SALE DATE</th>\n",
       "    </tr>\n",
       "  </thead>\n",
       "  <tbody>\n",
       "    <tr>\n",
       "      <th>0</th>\n",
       "      <td>Manhattan</td>\n",
       "      <td>ALPHABET CITY</td>\n",
       "      <td>07 RENTALS - WALKUP APARTMENTS</td>\n",
       "      <td>2A</td>\n",
       "      <td>392</td>\n",
       "      <td>6</td>\n",
       "      <td>C2</td>\n",
       "      <td>153 AVENUE B</td>\n",
       "      <td>10009</td>\n",
       "      <td>5</td>\n",
       "      <td>0</td>\n",
       "      <td>5</td>\n",
       "      <td>1633.0</td>\n",
       "      <td>6440.0</td>\n",
       "      <td>1900</td>\n",
       "      <td>2</td>\n",
       "      <td>C2</td>\n",
       "      <td>6625000.0</td>\n",
       "      <td>2017-07-19 00:00:00</td>\n",
       "    </tr>\n",
       "    <tr>\n",
       "      <th>3</th>\n",
       "      <td>Manhattan</td>\n",
       "      <td>ALPHABET CITY</td>\n",
       "      <td>07 RENTALS - WALKUP APARTMENTS</td>\n",
       "      <td>2B</td>\n",
       "      <td>402</td>\n",
       "      <td>21</td>\n",
       "      <td>C4</td>\n",
       "      <td>154 EAST 7TH STREET</td>\n",
       "      <td>10009</td>\n",
       "      <td>10</td>\n",
       "      <td>0</td>\n",
       "      <td>10</td>\n",
       "      <td>2272.0</td>\n",
       "      <td>6794.0</td>\n",
       "      <td>1913</td>\n",
       "      <td>2</td>\n",
       "      <td>C4</td>\n",
       "      <td>3936272.0</td>\n",
       "      <td>2016-09-23 00:00:00</td>\n",
       "    </tr>\n",
       "    <tr>\n",
       "      <th>4</th>\n",
       "      <td>Manhattan</td>\n",
       "      <td>ALPHABET CITY</td>\n",
       "      <td>07 RENTALS - WALKUP APARTMENTS</td>\n",
       "      <td>2A</td>\n",
       "      <td>404</td>\n",
       "      <td>55</td>\n",
       "      <td>C2</td>\n",
       "      <td>301 EAST 10TH   STREET</td>\n",
       "      <td>10009</td>\n",
       "      <td>6</td>\n",
       "      <td>0</td>\n",
       "      <td>6</td>\n",
       "      <td>2369.0</td>\n",
       "      <td>4615.0</td>\n",
       "      <td>1900</td>\n",
       "      <td>2</td>\n",
       "      <td>C2</td>\n",
       "      <td>8000000.0</td>\n",
       "      <td>2016-11-17 00:00:00</td>\n",
       "    </tr>\n",
       "    <tr>\n",
       "      <th>6</th>\n",
       "      <td>Manhattan</td>\n",
       "      <td>ALPHABET CITY</td>\n",
       "      <td>07 RENTALS - WALKUP APARTMENTS</td>\n",
       "      <td>2B</td>\n",
       "      <td>406</td>\n",
       "      <td>32</td>\n",
       "      <td>C4</td>\n",
       "      <td>210 AVENUE B</td>\n",
       "      <td>10009</td>\n",
       "      <td>8</td>\n",
       "      <td>0</td>\n",
       "      <td>8</td>\n",
       "      <td>1750.0</td>\n",
       "      <td>4226.0</td>\n",
       "      <td>1920</td>\n",
       "      <td>2</td>\n",
       "      <td>C4</td>\n",
       "      <td>3192840.0</td>\n",
       "      <td>2016-09-23 00:00:00</td>\n",
       "    </tr>\n",
       "    <tr>\n",
       "      <th>9</th>\n",
       "      <td>Manhattan</td>\n",
       "      <td>ALPHABET CITY</td>\n",
       "      <td>08 RENTALS - ELEVATOR APARTMENTS</td>\n",
       "      <td>2</td>\n",
       "      <td>387</td>\n",
       "      <td>153</td>\n",
       "      <td>D9</td>\n",
       "      <td>629 EAST 5TH STREET</td>\n",
       "      <td>10009</td>\n",
       "      <td>24</td>\n",
       "      <td>0</td>\n",
       "      <td>24</td>\n",
       "      <td>4489.0</td>\n",
       "      <td>18523.0</td>\n",
       "      <td>1920</td>\n",
       "      <td>2</td>\n",
       "      <td>D9</td>\n",
       "      <td>16232000.0</td>\n",
       "      <td>2016-11-07 00:00:00</td>\n",
       "    </tr>\n",
       "    <tr>\n",
       "      <th>...</th>\n",
       "      <td>...</td>\n",
       "      <td>...</td>\n",
       "      <td>...</td>\n",
       "      <td>...</td>\n",
       "      <td>...</td>\n",
       "      <td>...</td>\n",
       "      <td>...</td>\n",
       "      <td>...</td>\n",
       "      <td>...</td>\n",
       "      <td>...</td>\n",
       "      <td>...</td>\n",
       "      <td>...</td>\n",
       "      <td>...</td>\n",
       "      <td>...</td>\n",
       "      <td>...</td>\n",
       "      <td>...</td>\n",
       "      <td>...</td>\n",
       "      <td>...</td>\n",
       "      <td>...</td>\n",
       "    </tr>\n",
       "    <tr>\n",
       "      <th>84543</th>\n",
       "      <td>Staten Island</td>\n",
       "      <td>WOODROW</td>\n",
       "      <td>02 TWO FAMILY DWELLINGS</td>\n",
       "      <td>1</td>\n",
       "      <td>7349</td>\n",
       "      <td>34</td>\n",
       "      <td>B9</td>\n",
       "      <td>37 QUAIL LANE</td>\n",
       "      <td>10309</td>\n",
       "      <td>2</td>\n",
       "      <td>0</td>\n",
       "      <td>2</td>\n",
       "      <td>2400.0</td>\n",
       "      <td>2575.0</td>\n",
       "      <td>1998</td>\n",
       "      <td>1</td>\n",
       "      <td>B9</td>\n",
       "      <td>450000.0</td>\n",
       "      <td>2016-11-28 00:00:00</td>\n",
       "    </tr>\n",
       "    <tr>\n",
       "      <th>84544</th>\n",
       "      <td>Staten Island</td>\n",
       "      <td>WOODROW</td>\n",
       "      <td>02 TWO FAMILY DWELLINGS</td>\n",
       "      <td>1</td>\n",
       "      <td>7349</td>\n",
       "      <td>78</td>\n",
       "      <td>B9</td>\n",
       "      <td>32 PHEASANT LANE</td>\n",
       "      <td>10309</td>\n",
       "      <td>2</td>\n",
       "      <td>0</td>\n",
       "      <td>2</td>\n",
       "      <td>2498.0</td>\n",
       "      <td>2377.0</td>\n",
       "      <td>1998</td>\n",
       "      <td>1</td>\n",
       "      <td>B9</td>\n",
       "      <td>550000.0</td>\n",
       "      <td>2017-04-21 00:00:00</td>\n",
       "    </tr>\n",
       "    <tr>\n",
       "      <th>84545</th>\n",
       "      <td>Staten Island</td>\n",
       "      <td>WOODROW</td>\n",
       "      <td>02 TWO FAMILY DWELLINGS</td>\n",
       "      <td>1</td>\n",
       "      <td>7351</td>\n",
       "      <td>60</td>\n",
       "      <td>B2</td>\n",
       "      <td>49 PITNEY AVENUE</td>\n",
       "      <td>10309</td>\n",
       "      <td>2</td>\n",
       "      <td>0</td>\n",
       "      <td>2</td>\n",
       "      <td>4000.0</td>\n",
       "      <td>1496.0</td>\n",
       "      <td>1925</td>\n",
       "      <td>1</td>\n",
       "      <td>B2</td>\n",
       "      <td>460000.0</td>\n",
       "      <td>2017-07-05 00:00:00</td>\n",
       "    </tr>\n",
       "    <tr>\n",
       "      <th>84546</th>\n",
       "      <td>Staten Island</td>\n",
       "      <td>WOODROW</td>\n",
       "      <td>22 STORE BUILDINGS</td>\n",
       "      <td>4</td>\n",
       "      <td>7100</td>\n",
       "      <td>28</td>\n",
       "      <td>K6</td>\n",
       "      <td>2730 ARTHUR KILL ROAD</td>\n",
       "      <td>10309</td>\n",
       "      <td>0</td>\n",
       "      <td>7</td>\n",
       "      <td>7</td>\n",
       "      <td>208033.0</td>\n",
       "      <td>64117.0</td>\n",
       "      <td>2001</td>\n",
       "      <td>4</td>\n",
       "      <td>K6</td>\n",
       "      <td>11693337.0</td>\n",
       "      <td>2016-12-21 00:00:00</td>\n",
       "    </tr>\n",
       "    <tr>\n",
       "      <th>84547</th>\n",
       "      <td>Staten Island</td>\n",
       "      <td>WOODROW</td>\n",
       "      <td>35 INDOOR PUBLIC AND CULTURAL FACILITIES</td>\n",
       "      <td>4</td>\n",
       "      <td>7105</td>\n",
       "      <td>679</td>\n",
       "      <td>P9</td>\n",
       "      <td>155 CLAY PIT ROAD</td>\n",
       "      <td>10309</td>\n",
       "      <td>0</td>\n",
       "      <td>1</td>\n",
       "      <td>1</td>\n",
       "      <td>10796.0</td>\n",
       "      <td>2400.0</td>\n",
       "      <td>2006</td>\n",
       "      <td>4</td>\n",
       "      <td>P9</td>\n",
       "      <td>69300.0</td>\n",
       "      <td>2016-10-27 00:00:00</td>\n",
       "    </tr>\n",
       "  </tbody>\n",
       "</table>\n",
       "<p>47892 rows × 19 columns</p>\n",
       "</div>"
      ],
      "text/plain": [
       "             BOROUGH   NEIGHBORHOOD  \\\n",
       "0          Manhattan  ALPHABET CITY   \n",
       "3          Manhattan  ALPHABET CITY   \n",
       "4          Manhattan  ALPHABET CITY   \n",
       "6          Manhattan  ALPHABET CITY   \n",
       "9          Manhattan  ALPHABET CITY   \n",
       "...              ...            ...   \n",
       "84543  Staten Island        WOODROW   \n",
       "84544  Staten Island        WOODROW   \n",
       "84545  Staten Island        WOODROW   \n",
       "84546  Staten Island        WOODROW   \n",
       "84547  Staten Island        WOODROW   \n",
       "\n",
       "                           BUILDING CLASS CATEGORY TAX CLASS AT PRESENT  \\\n",
       "0      07 RENTALS - WALKUP APARTMENTS                                2A   \n",
       "3      07 RENTALS - WALKUP APARTMENTS                                2B   \n",
       "4      07 RENTALS - WALKUP APARTMENTS                                2A   \n",
       "6      07 RENTALS - WALKUP APARTMENTS                                2B   \n",
       "9      08 RENTALS - ELEVATOR APARTMENTS                               2   \n",
       "...                                            ...                  ...   \n",
       "84543  02 TWO FAMILY DWELLINGS                                        1   \n",
       "84544  02 TWO FAMILY DWELLINGS                                        1   \n",
       "84545  02 TWO FAMILY DWELLINGS                                        1   \n",
       "84546  22 STORE BUILDINGS                                             4   \n",
       "84547  35 INDOOR PUBLIC AND CULTURAL FACILITIES                       4   \n",
       "\n",
       "       BLOCK  LOT BUILDING CLASS AT PRESENT                 ADDRESS  ZIP CODE  \\\n",
       "0        392    6                        C2            153 AVENUE B     10009   \n",
       "3        402   21                        C4     154 EAST 7TH STREET     10009   \n",
       "4        404   55                        C2  301 EAST 10TH   STREET     10009   \n",
       "6        406   32                        C4            210 AVENUE B     10009   \n",
       "9        387  153                        D9     629 EAST 5TH STREET     10009   \n",
       "...      ...  ...                       ...                     ...       ...   \n",
       "84543   7349   34                        B9           37 QUAIL LANE     10309   \n",
       "84544   7349   78                        B9        32 PHEASANT LANE     10309   \n",
       "84545   7351   60                        B2        49 PITNEY AVENUE     10309   \n",
       "84546   7100   28                        K6   2730 ARTHUR KILL ROAD     10309   \n",
       "84547   7105  679                        P9       155 CLAY PIT ROAD     10309   \n",
       "\n",
       "       RESIDENTIAL UNITS  COMMERCIAL UNITS  TOTAL UNITS  LAND SQUARE FEET  \\\n",
       "0                      5                 0            5            1633.0   \n",
       "3                     10                 0           10            2272.0   \n",
       "4                      6                 0            6            2369.0   \n",
       "6                      8                 0            8            1750.0   \n",
       "9                     24                 0           24            4489.0   \n",
       "...                  ...               ...          ...               ...   \n",
       "84543                  2                 0            2            2400.0   \n",
       "84544                  2                 0            2            2498.0   \n",
       "84545                  2                 0            2            4000.0   \n",
       "84546                  0                 7            7          208033.0   \n",
       "84547                  0                 1            1           10796.0   \n",
       "\n",
       "       GROSS SQUARE FEET  YEAR BUILT  TAX CLASS AT TIME OF SALE  \\\n",
       "0                 6440.0        1900                          2   \n",
       "3                 6794.0        1913                          2   \n",
       "4                 4615.0        1900                          2   \n",
       "6                 4226.0        1920                          2   \n",
       "9                18523.0        1920                          2   \n",
       "...                  ...         ...                        ...   \n",
       "84543             2575.0        1998                          1   \n",
       "84544             2377.0        1998                          1   \n",
       "84545             1496.0        1925                          1   \n",
       "84546            64117.0        2001                          4   \n",
       "84547             2400.0        2006                          4   \n",
       "\n",
       "      BUILDING CLASS AT TIME OF SALE  SALE PRICE            SALE DATE  \n",
       "0                                 C2   6625000.0  2017-07-19 00:00:00  \n",
       "3                                 C4   3936272.0  2016-09-23 00:00:00  \n",
       "4                                 C2   8000000.0  2016-11-17 00:00:00  \n",
       "6                                 C4   3192840.0  2016-09-23 00:00:00  \n",
       "9                                 D9  16232000.0  2016-11-07 00:00:00  \n",
       "...                              ...         ...                  ...  \n",
       "84543                             B9    450000.0  2016-11-28 00:00:00  \n",
       "84544                             B9    550000.0  2017-04-21 00:00:00  \n",
       "84545                             B2    460000.0  2017-07-05 00:00:00  \n",
       "84546                             K6  11693337.0  2016-12-21 00:00:00  \n",
       "84547                             P9     69300.0  2016-10-27 00:00:00  \n",
       "\n",
       "[47892 rows x 19 columns]"
      ]
     },
     "execution_count": 10,
     "metadata": {},
     "output_type": "execute_result"
    }
   ],
   "source": [
    "df_nyc"
   ]
  },
  {
   "cell_type": "code",
   "execution_count": 11,
   "id": "8d34185a",
   "metadata": {},
   "outputs": [],
   "source": [
    "# Mengubah beberapa tipe data pada kolom agar memudahkan dalam perhitungan statistik\n",
    "# 1. Mengubah beberapa tipe data dari yang tadinya int dan object menjadi category\n",
    "# category adalah tipe data pandas yang sesuai dengan variabel kategoris dalam statistik\n",
    "# tipe data category hanya memakan sedikit memory, berbeda dengan tipe data object\n",
    "category = [\"BOROUGH\", \n",
    "            \"NEIGHBORHOOD\", \n",
    "            \"BUILDING CLASS CATEGORY\", \n",
    "            \"TAX CLASS AT PRESENT\", \n",
    "            \"BUILDING CLASS AT PRESENT\", \n",
    "            \"ZIP CODE\", \n",
    "            \"YEAR BUILT\", \n",
    "            \"TAX CLASS AT TIME OF SALE\", \n",
    "            \"BUILDING CLASS AT TIME OF SALE\"]\n",
    "\n",
    "for col in category: \n",
    "    df_nyc[col] = df_nyc[col].astype(\"category\")\n",
    "    \n",
    "# 2. Mengubah beberapa tipe data dari yang tadinya object menjadi numerik agar dapat dilakukan perhitungan statistik\n",
    "numeric = [\"RESIDENTIAL UNITS\", \n",
    "           \"COMMERCIAL UNITS\", \n",
    "           \"TOTAL UNITS\", \n",
    "           \"LAND SQUARE FEET\", \n",
    "           \"GROSS SQUARE FEET\", \n",
    "           \"SALE PRICE\" ]\n",
    "\n",
    "for col in numeric: \n",
    "    df_nyc[col] = pd.to_numeric(df_nyc[col], errors='coerce') # errors cource untuk menggantikan semua nilai non-numerik dengan NaN"
   ]
  },
  {
   "cell_type": "code",
   "execution_count": 12,
   "id": "7e46980c",
   "metadata": {},
   "outputs": [
    {
     "name": "stdout",
     "output_type": "stream",
     "text": [
      "<class 'pandas.core.frame.DataFrame'>\n",
      "Int64Index: 47892 entries, 0 to 84547\n",
      "Data columns (total 19 columns):\n",
      " #   Column                          Non-Null Count  Dtype   \n",
      "---  ------                          --------------  -----   \n",
      " 0   BOROUGH                         47892 non-null  category\n",
      " 1   NEIGHBORHOOD                    47892 non-null  category\n",
      " 2   BUILDING CLASS CATEGORY         47892 non-null  category\n",
      " 3   TAX CLASS AT PRESENT            47892 non-null  category\n",
      " 4   BLOCK                           47892 non-null  int64   \n",
      " 5   LOT                             47892 non-null  int64   \n",
      " 6   BUILDING CLASS AT PRESENT       47892 non-null  category\n",
      " 7   ADDRESS                         47892 non-null  object  \n",
      " 8   ZIP CODE                        47892 non-null  category\n",
      " 9   RESIDENTIAL UNITS               47892 non-null  int64   \n",
      " 10  COMMERCIAL UNITS                47892 non-null  int64   \n",
      " 11  TOTAL UNITS                     47892 non-null  int64   \n",
      " 12  LAND SQUARE FEET                47892 non-null  float64 \n",
      " 13  GROSS SQUARE FEET               47892 non-null  float64 \n",
      " 14  YEAR BUILT                      47892 non-null  category\n",
      " 15  TAX CLASS AT TIME OF SALE       47892 non-null  category\n",
      " 16  BUILDING CLASS AT TIME OF SALE  47892 non-null  category\n",
      " 17  SALE PRICE                      47892 non-null  float64 \n",
      " 18  SALE DATE                       47892 non-null  object  \n",
      "dtypes: category(9), float64(3), int64(5), object(2)\n",
      "memory usage: 4.7+ MB\n"
     ]
    }
   ],
   "source": [
    "df_nyc.info()"
   ]
  },
  {
   "cell_type": "code",
   "execution_count": 13,
   "id": "3501c77a",
   "metadata": {},
   "outputs": [
    {
     "name": "stdout",
     "output_type": "stream",
     "text": [
      "Data duplikat (Sebelum diremove):  348\n",
      "Data duplikat (Setelah diremove):  0\n"
     ]
    }
   ],
   "source": [
    "# Mengecek data duplikat\n",
    "print('Data duplikat (Sebelum diremove): ', df_nyc.duplicated().sum())\n",
    "df_nyc.drop_duplicates(inplace=True)\n",
    "print('Data duplikat (Setelah diremove): ', df_nyc.duplicated().sum())"
   ]
  },
  {
   "cell_type": "code",
   "execution_count": 14,
   "id": "8c627abd",
   "metadata": {},
   "outputs": [
    {
     "data": {
      "text/plain": [
       "(47544, 19)"
      ]
     },
     "execution_count": 14,
     "metadata": {},
     "output_type": "execute_result"
    }
   ],
   "source": [
    "# Jumlah baris dan kolom pada dataset yang akan kita gunakan (FINAL)\n",
    "df_nyc.shape"
   ]
  },
  {
   "cell_type": "markdown",
   "id": "7dfd9562",
   "metadata": {},
   "source": [
    "---\n",
    "# A. Measure of Central Tendency : Mean (P)"
   ]
  },
  {
   "cell_type": "markdown",
   "id": "8df186fc",
   "metadata": {},
   "source": [
    "**Question:**\n",
    "1. Menghitung nilai Mean pada Sale Price\n",
    "2. Mencari nilai Mean dari setiap Borough berdasarkan Sale Price\n",
    "3. Menampilkan seluruh nilai Mean di masing-masing Borough"
   ]
  },
  {
   "cell_type": "markdown",
   "id": "dbc535b3",
   "metadata": {},
   "source": [
    "**Pre-processing**"
   ]
  },
  {
   "cell_type": "code",
   "execution_count": 15,
   "id": "ceb78fdb",
   "metadata": {},
   "outputs": [],
   "source": [
    "# Untuk menampung sale price berdasarkan borough\n",
    "Manhattan = df_nyc[df_nyc.BOROUGH == 'Manhattan']['SALE PRICE']\n",
    "Bronx = df_nyc[df_nyc.BOROUGH == 'Bronx']['SALE PRICE']\n",
    "Brooklyn = df_nyc[df_nyc.BOROUGH == 'Brooklyn']['SALE PRICE']\n",
    "Queens = df_nyc[df_nyc.BOROUGH == 'Queens']['SALE PRICE']\n",
    "StateIs = df_nyc[df_nyc.BOROUGH == 'Staten Island']['SALE PRICE']"
   ]
  },
  {
   "cell_type": "markdown",
   "id": "7f60908c",
   "metadata": {},
   "source": [
    "**Implement statistical method**"
   ]
  },
  {
   "cell_type": "code",
   "execution_count": 16,
   "id": "9d09cb07",
   "metadata": {},
   "outputs": [
    {
     "name": "stdout",
     "output_type": "stream",
     "text": [
      "1. Nilai Mean pada Sale Price:  1160689.618753155\n",
      "=================================================\n",
      "2. Nilai mean pada setiap Borough\n",
      "Manhattan     :  19207407.25181347\n",
      "Bronx         :  594677.118387189\n",
      "Brooklyn      :  841146.1972244689\n",
      "Queens        :  910707.1553424409\n",
      "Staten Island :  528485.6105931363\n"
     ]
    }
   ],
   "source": [
    "# SOLUSI NO 1\n",
    "mean_sp = df_nyc['SALE PRICE'].mean()\n",
    "print('1. Nilai Mean pada Sale Price: ', mean_sp)\n",
    "print('=================================================')\n",
    "\n",
    "# SOLUSI NO 2\n",
    "print('2. Nilai mean pada setiap Borough')\n",
    "print('Manhattan     : ', Manhattan.mean())\n",
    "print('Bronx         : ', Bronx.mean())\n",
    "print('Brooklyn      : ', Brooklyn.mean())\n",
    "print('Queens        : ', Queens.mean())\n",
    "print('Staten Island : ', StateIs.mean())"
   ]
  },
  {
   "cell_type": "code",
   "execution_count": 17,
   "id": "537b9323",
   "metadata": {},
   "outputs": [
    {
     "name": "stdout",
     "output_type": "stream",
     "text": [
      "\n",
      "3. Nilai Mean setiap Borough\n"
     ]
    },
    {
     "data": {
      "text/html": [
       "<div>\n",
       "<style scoped>\n",
       "    .dataframe tbody tr th:only-of-type {\n",
       "        vertical-align: middle;\n",
       "    }\n",
       "\n",
       "    .dataframe tbody tr th {\n",
       "        vertical-align: top;\n",
       "    }\n",
       "\n",
       "    .dataframe thead th {\n",
       "        text-align: right;\n",
       "    }\n",
       "</style>\n",
       "<table border=\"1\" class=\"dataframe\">\n",
       "  <thead>\n",
       "    <tr style=\"text-align: right;\">\n",
       "      <th></th>\n",
       "      <th>BLOCK</th>\n",
       "      <th>LOT</th>\n",
       "      <th>RESIDENTIAL UNITS</th>\n",
       "      <th>COMMERCIAL UNITS</th>\n",
       "      <th>TOTAL UNITS</th>\n",
       "      <th>LAND SQUARE FEET</th>\n",
       "      <th>GROSS SQUARE FEET</th>\n",
       "      <th>SALE PRICE</th>\n",
       "    </tr>\n",
       "    <tr>\n",
       "      <th>BOROUGH</th>\n",
       "      <th></th>\n",
       "      <th></th>\n",
       "      <th></th>\n",
       "      <th></th>\n",
       "      <th></th>\n",
       "      <th></th>\n",
       "      <th></th>\n",
       "      <th></th>\n",
       "    </tr>\n",
       "  </thead>\n",
       "  <tbody>\n",
       "    <tr>\n",
       "      <th>Bronx</th>\n",
       "      <td>4202.934372</td>\n",
       "      <td>298.625679</td>\n",
       "      <td>3.343580</td>\n",
       "      <td>0.160280</td>\n",
       "      <td>3.510152</td>\n",
       "      <td>3909.012725</td>\n",
       "      <td>4489.147412</td>\n",
       "      <td>5.946771e+05</td>\n",
       "    </tr>\n",
       "    <tr>\n",
       "      <th>Brooklyn</th>\n",
       "      <td>4305.969989</td>\n",
       "      <td>327.076923</td>\n",
       "      <td>2.041761</td>\n",
       "      <td>0.147631</td>\n",
       "      <td>2.227108</td>\n",
       "      <td>2046.266868</td>\n",
       "      <td>2518.944149</td>\n",
       "      <td>8.411462e+05</td>\n",
       "    </tr>\n",
       "    <tr>\n",
       "      <th>Manhattan</th>\n",
       "      <td>1328.195855</td>\n",
       "      <td>51.363731</td>\n",
       "      <td>19.906736</td>\n",
       "      <td>2.236269</td>\n",
       "      <td>22.134715</td>\n",
       "      <td>5690.573057</td>\n",
       "      <td>35261.449741</td>\n",
       "      <td>1.920741e+07</td>\n",
       "    </tr>\n",
       "    <tr>\n",
       "      <th>Queens</th>\n",
       "      <td>8018.174070</td>\n",
       "      <td>54.113091</td>\n",
       "      <td>2.172804</td>\n",
       "      <td>0.373564</td>\n",
       "      <td>2.545644</td>\n",
       "      <td>3962.854248</td>\n",
       "      <td>2926.781960</td>\n",
       "      <td>9.107072e+05</td>\n",
       "    </tr>\n",
       "    <tr>\n",
       "      <th>Staten Island</th>\n",
       "      <td>3366.640746</td>\n",
       "      <td>81.992263</td>\n",
       "      <td>1.356279</td>\n",
       "      <td>0.098790</td>\n",
       "      <td>1.453878</td>\n",
       "      <td>6340.386035</td>\n",
       "      <td>2366.328705</td>\n",
       "      <td>5.284856e+05</td>\n",
       "    </tr>\n",
       "  </tbody>\n",
       "</table>\n",
       "</div>"
      ],
      "text/plain": [
       "                     BLOCK         LOT  RESIDENTIAL UNITS  COMMERCIAL UNITS  \\\n",
       "BOROUGH                                                                       \n",
       "Bronx          4202.934372  298.625679           3.343580          0.160280   \n",
       "Brooklyn       4305.969989  327.076923           2.041761          0.147631   \n",
       "Manhattan      1328.195855   51.363731          19.906736          2.236269   \n",
       "Queens         8018.174070   54.113091           2.172804          0.373564   \n",
       "Staten Island  3366.640746   81.992263           1.356279          0.098790   \n",
       "\n",
       "               TOTAL UNITS  LAND SQUARE FEET  GROSS SQUARE FEET    SALE PRICE  \n",
       "BOROUGH                                                                        \n",
       "Bronx             3.510152       3909.012725        4489.147412  5.946771e+05  \n",
       "Brooklyn          2.227108       2046.266868        2518.944149  8.411462e+05  \n",
       "Manhattan        22.134715       5690.573057       35261.449741  1.920741e+07  \n",
       "Queens            2.545644       3962.854248        2926.781960  9.107072e+05  \n",
       "Staten Island     1.453878       6340.386035        2366.328705  5.284856e+05  "
      ]
     },
     "execution_count": 17,
     "metadata": {},
     "output_type": "execute_result"
    }
   ],
   "source": [
    "# SOLUSI NO 3\n",
    "print('')\n",
    "print('3. Nilai Mean setiap Borough')\n",
    "mean_b = df_nyc.groupby('BOROUGH').mean()\n",
    "mean_b"
   ]
  },
  {
   "cell_type": "code",
   "execution_count": 18,
   "id": "c11f597d",
   "metadata": {},
   "outputs": [],
   "source": [
    "bl_mean = mean_b.groupby('BOROUGH')['BLOCK'].max().sort_values(ascending=False)\n",
    "lot_mean = mean_b.groupby('BOROUGH')['LOT'].max().sort_values(ascending=False)\n",
    "ru_mean = mean_b.groupby('BOROUGH')['RESIDENTIAL UNITS'].max().sort_values(ascending=False)\n",
    "cu_mean = mean_b.groupby('BOROUGH')['COMMERCIAL UNITS'].max().sort_values(ascending=False)\n",
    "tu_mean = mean_b.groupby('BOROUGH')['TOTAL UNITS'].max().sort_values(ascending=False)\n",
    "lsf_mean = mean_b.groupby('BOROUGH')['LAND SQUARE FEET'].max().sort_values(ascending=False)\n",
    "gsf_mean = mean_b.groupby('BOROUGH')['GROSS SQUARE FEET'].max().sort_values(ascending=False)\n",
    "sp_mean = mean_b.groupby('BOROUGH')['SALE PRICE'].max().sort_values(ascending=False)"
   ]
  },
  {
   "cell_type": "code",
   "execution_count": 19,
   "id": "17a8b0cc",
   "metadata": {},
   "outputs": [
    {
     "name": "stdout",
     "output_type": "stream",
     "text": [
      "MEAN_HIGH_BLOCK:\n",
      " BOROUGH\n",
      "Queens    8018.17407\n",
      "Name: BLOCK, dtype: float64\n",
      "==================================\n",
      "MEAN_HIGH_LOT:\n",
      " BOROUGH\n",
      "Brooklyn    327.076923\n",
      "Name: LOT, dtype: float64\n",
      "==================================\n",
      "MEAN_HIGH_RESIDENTIAL UNITS:\n",
      " BOROUGH\n",
      "Manhattan    19.906736\n",
      "Name: RESIDENTIAL UNITS, dtype: float64\n",
      "==================================\n",
      "MEAN_HIGH_COMMERCIAL UNITS:\n",
      " BOROUGH\n",
      "Manhattan    2.236269\n",
      "Name: COMMERCIAL UNITS, dtype: float64\n",
      "==================================\n",
      "MEAN_HIGH_TOTAL UNITS:\n",
      " BOROUGH\n",
      "Manhattan    22.134715\n",
      "Name: TOTAL UNITS, dtype: float64\n",
      "==================================\n",
      "MEAN_HIGH_LAND SQUARE FEET:\n",
      " BOROUGH\n",
      "Staten Island    6340.386035\n",
      "Name: LAND SQUARE FEET, dtype: float64\n",
      "==================================\n",
      "MEAN_HIGH_GROSS SQUARE FEET:\n",
      " BOROUGH\n",
      "Manhattan    35261.449741\n",
      "Name: GROSS SQUARE FEET, dtype: float64\n",
      "==================================\n",
      "MEAN_HIGH_SALE PRICE:\n",
      " BOROUGH\n",
      "Manhattan    1.920741e+07\n",
      "Name: SALE PRICE, dtype: float64\n",
      "==================================\n"
     ]
    }
   ],
   "source": [
    "print('MEAN_HIGH_BLOCK:\\n',bl_mean.head(1))\n",
    "print('==================================')\n",
    "print('MEAN_HIGH_LOT:\\n',lot_mean.head(1))\n",
    "print('==================================')\n",
    "print('MEAN_HIGH_RESIDENTIAL UNITS:\\n',ru_mean.head(1))\n",
    "print('==================================')\n",
    "print('MEAN_HIGH_COMMERCIAL UNITS:\\n',cu_mean.head(1))\n",
    "print('==================================')\n",
    "print('MEAN_HIGH_TOTAL UNITS:\\n',tu_mean.head(1))\n",
    "print('==================================')\n",
    "print('MEAN_HIGH_LAND SQUARE FEET:\\n',lsf_mean.head(1))\n",
    "print('==================================')\n",
    "print('MEAN_HIGH_GROSS SQUARE FEET:\\n',gsf_mean.head(1))\n",
    "print('==================================')\n",
    "print('MEAN_HIGH_SALE PRICE:\\n',sp_mean.head(1))\n",
    "print('==================================')"
   ]
  },
  {
   "cell_type": "markdown",
   "id": "9af85536",
   "metadata": {},
   "source": [
    "**Kesimpulan:**\n",
    "\n",
    "Berdasarkan data pada nomor 3, dapat ditarik kesimpulan bahwa wilayah Manhattan memiliki nilai mean tertinggi untuk RESIDENTIAL UNITS, COMMERCIAL UNITS, TOTAL UNITS, GROSS SQUARE FEET, dan Price Sale"
   ]
  },
  {
   "cell_type": "markdown",
   "id": "4a193849",
   "metadata": {},
   "source": [
    "---\n",
    "# B. Measure of Central Tendency : Median (P)"
   ]
  },
  {
   "cell_type": "markdown",
   "id": "7d3875af",
   "metadata": {},
   "source": [
    "**Question:**\n",
    "1. Menghitung nilai Median pada Sale Price\n",
    "2. Mencari nilai Median dari setiap Borough berdasarkan Sale Price\n",
    "3. Wilayah mana saja yang memiliki nilai median tertinggi jika berdasarkan kolom Land Square Feet, Gross Square Feet dan Sale Price?"
   ]
  },
  {
   "cell_type": "markdown",
   "id": "ff0059a4",
   "metadata": {},
   "source": [
    "**Pre-procesing:** Menggunakan data dan variabel yang sama pada saat mencari Mean (No 2 A)"
   ]
  },
  {
   "cell_type": "markdown",
   "id": "7619158b",
   "metadata": {},
   "source": [
    "**Implement statistical method**"
   ]
  },
  {
   "cell_type": "code",
   "execution_count": 20,
   "id": "da7eb0e1",
   "metadata": {},
   "outputs": [
    {
     "name": "stdout",
     "output_type": "stream",
     "text": [
      "1. Nilai Median pada Sale Price:  483000.0\n",
      "==========================================\n",
      "2. Nilai Median pada setiap Borough\n",
      "Manhattan     :  6500000.0\n",
      "Bronx         :  274897.0\n",
      "Brooklyn      :  425000.0\n",
      "Queens        :  635000.0\n",
      "Staten Island :  485000.0\n"
     ]
    }
   ],
   "source": [
    "# SOLUSI NO 1\n",
    "median_sp = df_nyc['SALE PRICE'].median()\n",
    "print('1. Nilai Median pada Sale Price: ', median_sp)\n",
    "print('==========================================')\n",
    "\n",
    "# SOLUSI NO 2\n",
    "print('2. Nilai Median pada setiap Borough')\n",
    "print('Manhattan     : ', Manhattan.median())\n",
    "print('Bronx         : ', Bronx.median())\n",
    "print('Brooklyn      : ', Brooklyn.median())\n",
    "print('Queens        : ', Queens.median())\n",
    "print('Staten Island : ', StateIs.median())"
   ]
  },
  {
   "cell_type": "code",
   "execution_count": 21,
   "id": "dfc6e702",
   "metadata": {},
   "outputs": [
    {
     "name": "stdout",
     "output_type": "stream",
     "text": [
      "\n",
      "3. Nilai Median setiap Borough berdasarkan masing-masing kolom\n"
     ]
    },
    {
     "data": {
      "text/html": [
       "<div>\n",
       "<style scoped>\n",
       "    .dataframe tbody tr th:only-of-type {\n",
       "        vertical-align: middle;\n",
       "    }\n",
       "\n",
       "    .dataframe tbody tr th {\n",
       "        vertical-align: top;\n",
       "    }\n",
       "\n",
       "    .dataframe thead th {\n",
       "        text-align: right;\n",
       "    }\n",
       "</style>\n",
       "<table border=\"1\" class=\"dataframe\">\n",
       "  <thead>\n",
       "    <tr style=\"text-align: right;\">\n",
       "      <th></th>\n",
       "      <th>BLOCK</th>\n",
       "      <th>LOT</th>\n",
       "      <th>RESIDENTIAL UNITS</th>\n",
       "      <th>COMMERCIAL UNITS</th>\n",
       "      <th>TOTAL UNITS</th>\n",
       "      <th>LAND SQUARE FEET</th>\n",
       "      <th>GROSS SQUARE FEET</th>\n",
       "      <th>SALE PRICE</th>\n",
       "    </tr>\n",
       "    <tr>\n",
       "      <th>BOROUGH</th>\n",
       "      <th></th>\n",
       "      <th></th>\n",
       "      <th></th>\n",
       "      <th></th>\n",
       "      <th></th>\n",
       "      <th></th>\n",
       "      <th></th>\n",
       "      <th></th>\n",
       "    </tr>\n",
       "  </thead>\n",
       "  <tbody>\n",
       "    <tr>\n",
       "      <th>Bronx</th>\n",
       "      <td>4177.5</td>\n",
       "      <td>47.0</td>\n",
       "      <td>1.0</td>\n",
       "      <td>0.0</td>\n",
       "      <td>1.0</td>\n",
       "      <td>2375.0</td>\n",
       "      <td>1764.0</td>\n",
       "      <td>274897.0</td>\n",
       "    </tr>\n",
       "    <tr>\n",
       "      <th>Brooklyn</th>\n",
       "      <td>4547.0</td>\n",
       "      <td>50.0</td>\n",
       "      <td>1.0</td>\n",
       "      <td>0.0</td>\n",
       "      <td>1.0</td>\n",
       "      <td>1833.0</td>\n",
       "      <td>1560.0</td>\n",
       "      <td>425000.0</td>\n",
       "    </tr>\n",
       "    <tr>\n",
       "      <th>Manhattan</th>\n",
       "      <td>1415.0</td>\n",
       "      <td>35.0</td>\n",
       "      <td>4.0</td>\n",
       "      <td>0.0</td>\n",
       "      <td>6.0</td>\n",
       "      <td>2469.0</td>\n",
       "      <td>7535.0</td>\n",
       "      <td>6500000.0</td>\n",
       "    </tr>\n",
       "    <tr>\n",
       "      <th>Queens</th>\n",
       "      <td>8839.0</td>\n",
       "      <td>36.0</td>\n",
       "      <td>1.0</td>\n",
       "      <td>0.0</td>\n",
       "      <td>1.0</td>\n",
       "      <td>2775.0</td>\n",
       "      <td>1620.0</td>\n",
       "      <td>635000.0</td>\n",
       "    </tr>\n",
       "    <tr>\n",
       "      <th>Staten Island</th>\n",
       "      <td>3234.0</td>\n",
       "      <td>49.0</td>\n",
       "      <td>1.0</td>\n",
       "      <td>0.0</td>\n",
       "      <td>1.0</td>\n",
       "      <td>3400.0</td>\n",
       "      <td>1541.0</td>\n",
       "      <td>485000.0</td>\n",
       "    </tr>\n",
       "  </tbody>\n",
       "</table>\n",
       "</div>"
      ],
      "text/plain": [
       "                BLOCK   LOT  RESIDENTIAL UNITS  COMMERCIAL UNITS  TOTAL UNITS  \\\n",
       "BOROUGH                                                                         \n",
       "Bronx          4177.5  47.0                1.0               0.0          1.0   \n",
       "Brooklyn       4547.0  50.0                1.0               0.0          1.0   \n",
       "Manhattan      1415.0  35.0                4.0               0.0          6.0   \n",
       "Queens         8839.0  36.0                1.0               0.0          1.0   \n",
       "Staten Island  3234.0  49.0                1.0               0.0          1.0   \n",
       "\n",
       "               LAND SQUARE FEET  GROSS SQUARE FEET  SALE PRICE  \n",
       "BOROUGH                                                         \n",
       "Bronx                    2375.0             1764.0    274897.0  \n",
       "Brooklyn                 1833.0             1560.0    425000.0  \n",
       "Manhattan                2469.0             7535.0   6500000.0  \n",
       "Queens                   2775.0             1620.0    635000.0  \n",
       "Staten Island            3400.0             1541.0    485000.0  "
      ]
     },
     "execution_count": 21,
     "metadata": {},
     "output_type": "execute_result"
    }
   ],
   "source": [
    "# SOLUSI NO 3\n",
    "print('')\n",
    "print('3. Nilai Median setiap Borough berdasarkan masing-masing kolom')\n",
    "median_b = df_nyc.groupby('BOROUGH').median()\n",
    "median_b"
   ]
  },
  {
   "cell_type": "markdown",
   "id": "76dff165",
   "metadata": {},
   "source": [
    "**Kesimpulan:**\n",
    "\n",
    "Secara keseluruhan, dapat ditarik kesimpulan bahwa wilayah Manhattan memiliki nilai median tertinggi pada Total Units, Gross Square Feet, dan Sale Price. Wilayah Queens memiliki nilai median tertinggi pada Block, sedangkan Wilayah Brooklyn pada LOT, dan Wilayah Staten Island pada Land Square Feet."
   ]
  },
  {
   "cell_type": "markdown",
   "id": "f1b6f213",
   "metadata": {},
   "source": [
    "# C. Measure of Central Tendency: Modus (P)"
   ]
  },
  {
   "attachments": {
    "image-5.png": {
     "image/png": "[encoded data removed]"
    }
   },
   "cell_type": "markdown",
   "id": "30deaceb",
   "metadata": {},
   "source": [
    "**Question:**\n",
    "Mencari modus pada setiap kolom yang memiliki tipe data category:\n",
    "![image-5.png](attachment:image-5.png)"
   ]
  },
  {
   "cell_type": "markdown",
   "id": "6033336d",
   "metadata": {},
   "source": [
    "**Pre-Processing**"
   ]
  },
  {
   "cell_type": "code",
   "execution_count": 22,
   "id": "876977cd",
   "metadata": {},
   "outputs": [],
   "source": [
    "# Untuk menampung semua data berdasarkan masing-masing kolom\n",
    "col_bor = df_nyc.BOROUGH\n",
    "col_neigh = df_nyc.NEIGHBORHOOD\n",
    "col_bcc = df_nyc['BUILDING CLASS CATEGORY']\n",
    "col_tcp = df_nyc['TAX CLASS AT PRESENT']\n",
    "col_bcp = df_nyc['BUILDING CLASS AT PRESENT']\n",
    "col_add = df_nyc.ADDRESS\n",
    "col_zip = df_nyc['ZIP CODE']\n",
    "col_year = df_nyc['YEAR BUILT']\n",
    "col_tcts = df_nyc['TAX CLASS AT TIME OF SALE']\n",
    "col_bcts = df_nyc['BUILDING CLASS AT TIME OF SALE']"
   ]
  },
  {
   "cell_type": "markdown",
   "id": "88c8f19f",
   "metadata": {},
   "source": [
    "**Implement statistical method**"
   ]
  },
  {
   "cell_type": "code",
   "execution_count": 23,
   "id": "9a7347d9",
   "metadata": {},
   "outputs": [
    {
     "name": "stdout",
     "output_type": "stream",
     "text": [
      "======= Menampilkan modus dari masing-masing kolom =======\n",
      "\n",
      "Borough                         : Brooklyn\n",
      "Neighborhood                    : BEDFORD STUYVESANT\n",
      "Building Class Category         : 01 ONE FAMILY DWELLINGS                    \n",
      "Tax Class at Present            : 1\n",
      "Building Class at Present       : A1\n",
      "Address                         : 429 KENT AVENUE\n",
      "Zip Code                        : 11201\n",
      "Year Built                      : 1920\n",
      "Tax Class at Time of Sale       : 1\n",
      "Building Class at Time of Sale  : A1\n"
     ]
    }
   ],
   "source": [
    "print(\"======= Menampilkan modus dari masing-masing kolom =======\")\n",
    "print('')\n",
    "print(\"Borough                         :\" , statistics.mode(col_bor))\n",
    "print(\"Neighborhood                    :\" , statistics.mode(col_neigh))\n",
    "print(\"Building Class Category         :\" , statistics.mode(col_bcc))\n",
    "print(\"Tax Class at Present            :\" , statistics.mode(col_tcp))\n",
    "print(\"Building Class at Present       :\" , statistics.mode(col_bcp))\n",
    "print(\"Address                         :\" , statistics.mode(col_add))\n",
    "print(\"Zip Code                        :\" , statistics.mode(col_zip)) \n",
    "print(\"Year Built                      :\" , statistics.mode(col_year)) \n",
    "print(\"Tax Class at Time of Sale       :\" , statistics.mode(col_tcts))\n",
    "print(\"Building Class at Time of Sale  :\" , statistics.mode(col_bcts))"
   ]
  },
  {
   "cell_type": "markdown",
   "id": "f5da35cb",
   "metadata": {},
   "source": [
    "**Conclusion:**\n",
    "\n",
    "Dapat ditarik kesimpulan bahwa setiap kolom memiliki nilai modusnya masing-masing (Nilai yang paling sering muncul). Sebagai contoh yaitu Brooklyn merupakan wilayah yang sering atau paling banyak muncul dikolom Borough."
   ]
  },
  {
   "cell_type": "markdown",
   "id": "e98fd5e2",
   "metadata": {},
   "source": [
    "# D. Measure of Spread: Range (N)"
   ]
  },
  {
   "cell_type": "markdown",
   "id": "98b9e988",
   "metadata": {},
   "source": [
    "**Question:**\n",
    "\n",
    "Carilah masing-masing nilai range pada Sale Price berdasarkan kolom Borough!\n"
   ]
  },
  {
   "cell_type": "markdown",
   "id": "cd8af847",
   "metadata": {},
   "source": [
    "**Pre-Processing**"
   ]
  },
  {
   "cell_type": "code",
   "execution_count": 24,
   "id": "50d9059e",
   "metadata": {},
   "outputs": [
    {
     "data": {
      "text/plain": [
       "2210000000.0"
      ]
     },
     "execution_count": 24,
     "metadata": {},
     "output_type": "execute_result"
    }
   ],
   "source": [
    "# Range pada kolom Sale Price\n",
    "range_sp = np.ptp(df_nyc['SALE PRICE'])\n",
    "range_sp"
   ]
  },
  {
   "cell_type": "markdown",
   "id": "83608ada",
   "metadata": {},
   "source": [
    "**Implement statistical method**"
   ]
  },
  {
   "cell_type": "code",
   "execution_count": 25,
   "id": "4d87a858",
   "metadata": {},
   "outputs": [
    {
     "data": {
      "text/plain": [
       "BOROUGH\n",
       "Bronx            1.100000e+08\n",
       "Brooklyn         3.450000e+08\n",
       "Manhattan        2.210000e+09\n",
       "Queens           2.575000e+08\n",
       "Staten Island    1.190000e+07\n",
       "dtype: float64"
      ]
     },
     "execution_count": 25,
     "metadata": {},
     "output_type": "execute_result"
    }
   ],
   "source": [
    "# Range Sale Price berdasarkan masing-masing Borough\n",
    "range_br = df_nyc.groupby('BOROUGH').apply(lambda x: x['SALE PRICE'].max() - x['SALE PRICE'].min())\n",
    "range_br"
   ]
  },
  {
   "cell_type": "markdown",
   "id": "76b41e7c",
   "metadata": {},
   "source": [
    "**Conclusion:**\n",
    "\n",
    "Nilai Range Sale Price tertinggi ada di Manhattan, sedangkan range terendah ada di Staten Island. Nilai keduanya memiliki perbedaan yang cukup jauh. Berbeda jika kita melihat range Sale Price pada wilayah Bronx dan Queens, keduanya memiliki nilai range yang tidak terlalu jauh."
   ]
  },
  {
   "cell_type": "markdown",
   "id": "469eb043",
   "metadata": {},
   "source": [
    "# E. Measure of Spread: Variance (P)"
   ]
  },
  {
   "cell_type": "markdown",
   "id": "02e69cde",
   "metadata": {},
   "source": [
    "**Question:**<p>\n",
    "Hitunglah nilai variance berdasarkan masing-masing Borough!"
   ]
  },
  {
   "cell_type": "markdown",
   "id": "a8092335",
   "metadata": {},
   "source": [
    "**Pre-Processing**"
   ]
  },
  {
   "cell_type": "code",
   "execution_count": 26,
   "id": "b95fec51",
   "metadata": {},
   "outputs": [],
   "source": [
    "var_bor = df_nyc.groupby('BOROUGH')"
   ]
  },
  {
   "cell_type": "markdown",
   "id": "aee99a78",
   "metadata": {},
   "source": [
    "**Implement statistical method**"
   ]
  },
  {
   "cell_type": "code",
   "execution_count": 27,
   "id": "e51ce5ba",
   "metadata": {},
   "outputs": [
    {
     "name": "stderr",
     "output_type": "stream",
     "text": [
      "C:\\Users\\ASUS\\AppData\\Local\\Temp/ipykernel_15996/2437314371.py:2: FutureWarning: Dropping of nuisance columns in DataFrame reductions (with 'numeric_only=None') is deprecated; in a future version this will raise TypeError.  Select only valid columns before calling the reduction.\n",
      "  df_nyc.var()\n"
     ]
    },
    {
     "data": {
      "text/plain": [
       "BLOCK                1.177704e+07\n",
       "LOT                  2.407803e+05\n",
       "RESIDENTIAL UNITS    2.969413e+02\n",
       "COMMERCIAL UNITS     1.184959e+02\n",
       "TOTAL UNITS          4.203279e+02\n",
       "LAND SQUARE FEET     9.401231e+08\n",
       "GROSS SQUARE FEET    8.591605e+08\n",
       "SALE PRICE           1.820359e+14\n",
       "dtype: float64"
      ]
     },
     "execution_count": 27,
     "metadata": {},
     "output_type": "execute_result"
    }
   ],
   "source": [
    "# Variance untuk seluruh data berdasarkan masing-masing kolom\n",
    "df_nyc.var()"
   ]
  },
  {
   "cell_type": "code",
   "execution_count": 28,
   "id": "6288e3ca",
   "metadata": {},
   "outputs": [
    {
     "data": {
      "text/html": [
       "<div>\n",
       "<style scoped>\n",
       "    .dataframe tbody tr th:only-of-type {\n",
       "        vertical-align: middle;\n",
       "    }\n",
       "\n",
       "    .dataframe tbody tr th {\n",
       "        vertical-align: top;\n",
       "    }\n",
       "\n",
       "    .dataframe thead th {\n",
       "        text-align: right;\n",
       "    }\n",
       "</style>\n",
       "<table border=\"1\" class=\"dataframe\">\n",
       "  <thead>\n",
       "    <tr style=\"text-align: right;\">\n",
       "      <th></th>\n",
       "      <th>BLOCK</th>\n",
       "      <th>LOT</th>\n",
       "      <th>RESIDENTIAL UNITS</th>\n",
       "      <th>COMMERCIAL UNITS</th>\n",
       "      <th>TOTAL UNITS</th>\n",
       "      <th>LAND SQUARE FEET</th>\n",
       "      <th>GROSS SQUARE FEET</th>\n",
       "      <th>SALE PRICE</th>\n",
       "    </tr>\n",
       "    <tr>\n",
       "      <th>BOROUGH</th>\n",
       "      <th></th>\n",
       "      <th></th>\n",
       "      <th></th>\n",
       "      <th></th>\n",
       "      <th></th>\n",
       "      <th></th>\n",
       "      <th></th>\n",
       "      <th></th>\n",
       "    </tr>\n",
       "  </thead>\n",
       "  <tbody>\n",
       "    <tr>\n",
       "      <th>Bronx</th>\n",
       "      <td>1.116755e+06</td>\n",
       "      <td>574149.535826</td>\n",
       "      <td>498.684024</td>\n",
       "      <td>0.771532</td>\n",
       "      <td>514.454709</td>\n",
       "      <td>3.375209e+08</td>\n",
       "      <td>8.683572e+08</td>\n",
       "      <td>7.803693e+12</td>\n",
       "    </tr>\n",
       "    <tr>\n",
       "      <th>Brooklyn</th>\n",
       "      <td>7.292089e+06</td>\n",
       "      <td>278239.700043</td>\n",
       "      <td>73.990465</td>\n",
       "      <td>2.744317</td>\n",
       "      <td>76.881881</td>\n",
       "      <td>7.994821e+07</td>\n",
       "      <td>2.242642e+08</td>\n",
       "      <td>1.583969e+13</td>\n",
       "    </tr>\n",
       "    <tr>\n",
       "      <th>Manhattan</th>\n",
       "      <td>3.486518e+05</td>\n",
       "      <td>9707.891422</td>\n",
       "      <td>4570.101251</td>\n",
       "      <td>194.844534</td>\n",
       "      <td>4748.886397</td>\n",
       "      <td>2.003158e+08</td>\n",
       "      <td>1.227212e+10</td>\n",
       "      <td>8.042303e+15</td>\n",
       "    </tr>\n",
       "    <tr>\n",
       "      <th>Queens</th>\n",
       "      <td>1.893168e+07</td>\n",
       "      <td>9315.805885</td>\n",
       "      <td>374.115268</td>\n",
       "      <td>483.102656</td>\n",
       "      <td>863.831001</td>\n",
       "      <td>1.645631e+09</td>\n",
       "      <td>1.392988e+09</td>\n",
       "      <td>1.378343e+13</td>\n",
       "    </tr>\n",
       "    <tr>\n",
       "      <th>Staten Island</th>\n",
       "      <td>5.623890e+06</td>\n",
       "      <td>9318.899742</td>\n",
       "      <td>8.314707</td>\n",
       "      <td>6.413254</td>\n",
       "      <td>14.543160</td>\n",
       "      <td>4.361289e+09</td>\n",
       "      <td>2.516135e+08</td>\n",
       "      <td>2.268238e+11</td>\n",
       "    </tr>\n",
       "  </tbody>\n",
       "</table>\n",
       "</div>"
      ],
      "text/plain": [
       "                      BLOCK            LOT  RESIDENTIAL UNITS  \\\n",
       "BOROUGH                                                         \n",
       "Bronx          1.116755e+06  574149.535826         498.684024   \n",
       "Brooklyn       7.292089e+06  278239.700043          73.990465   \n",
       "Manhattan      3.486518e+05    9707.891422        4570.101251   \n",
       "Queens         1.893168e+07    9315.805885         374.115268   \n",
       "Staten Island  5.623890e+06    9318.899742           8.314707   \n",
       "\n",
       "               COMMERCIAL UNITS  TOTAL UNITS  LAND SQUARE FEET  \\\n",
       "BOROUGH                                                          \n",
       "Bronx                  0.771532   514.454709      3.375209e+08   \n",
       "Brooklyn               2.744317    76.881881      7.994821e+07   \n",
       "Manhattan            194.844534  4748.886397      2.003158e+08   \n",
       "Queens               483.102656   863.831001      1.645631e+09   \n",
       "Staten Island          6.413254    14.543160      4.361289e+09   \n",
       "\n",
       "               GROSS SQUARE FEET    SALE PRICE  \n",
       "BOROUGH                                         \n",
       "Bronx               8.683572e+08  7.803693e+12  \n",
       "Brooklyn            2.242642e+08  1.583969e+13  \n",
       "Manhattan           1.227212e+10  8.042303e+15  \n",
       "Queens              1.392988e+09  1.378343e+13  \n",
       "Staten Island       2.516135e+08  2.268238e+11  "
      ]
     },
     "execution_count": 28,
     "metadata": {},
     "output_type": "execute_result"
    }
   ],
   "source": [
    "# Variance berdasarkan masing-masing borough/wilayah\n",
    "var_bor = var_bor.var(ddof=1)\n",
    "var_bor"
   ]
  },
  {
   "cell_type": "markdown",
   "id": "47d23891",
   "metadata": {},
   "source": [
    "**Conclusion:**<p>\n",
    "    Berdasarkan tabel variance diatas:<p> \n",
    "        1. Bronx memiliki nilai variance tertinggi di LOT<p>\n",
    "        2. Manhattan memiliki nilai variance tertinggi di Residential Units, Total Units, Gross Square Feet dan Sale Price<p>\n",
    "        3. Queens memiliki nilai variance tertinggi di Block dan Commercial Units<p>\n",
    "        4. Staten Island memiliki nilai variance tertinggi di Land Square Feet<p>"
   ]
  },
  {
   "cell_type": "markdown",
   "id": "4ede56f1",
   "metadata": {},
   "source": [
    "# F. Measure of Spread: Standard Deviation (P)"
   ]
  },
  {
   "cell_type": "markdown",
   "id": "c4082c6a",
   "metadata": {},
   "source": [
    "**Question:** <p>\n",
    "Carilah nilai Standar Deviasi berdasarkan masing-masing Borough!"
   ]
  },
  {
   "cell_type": "markdown",
   "id": "edc3590f",
   "metadata": {},
   "source": [
    "**Implement statistical method**"
   ]
  },
  {
   "cell_type": "code",
   "execution_count": 29,
   "id": "e203a114",
   "metadata": {},
   "outputs": [
    {
     "data": {
      "text/plain": [
       "BLOCK                7.460360e+06\n",
       "LOT                  2.510952e+05\n",
       "RESIDENTIAL UNITS    1.947719e+03\n",
       "COMMERCIAL UNITS     2.102184e+02\n",
       "TOTAL UNITS          1.989643e+03\n",
       "LAND SQUARE FEET     1.810527e+09\n",
       "GROSS SQUARE FEET    5.204732e+09\n",
       "SALE PRICE           3.592423e+15\n",
       "dtype: float64"
      ]
     },
     "execution_count": 29,
     "metadata": {},
     "output_type": "execute_result"
    }
   ],
   "source": [
    "# Standar Deviasi dapat diperoleh dari hasil variance dipangkatkan 0.5\n",
    "# std_bor = var_bor ** 0.5\n",
    "std_bor = var_bor.std(ddof=1)\n",
    "std_bor"
   ]
  },
  {
   "cell_type": "code",
   "execution_count": 30,
   "id": "15c1b50a",
   "metadata": {},
   "outputs": [
    {
     "data": {
      "text/plain": [
       "BLOCK                7.460360e+06\n",
       "LOT                  2.510952e+05\n",
       "RESIDENTIAL UNITS    1.947719e+03\n",
       "COMMERCIAL UNITS     2.102184e+02\n",
       "TOTAL UNITS          1.989643e+03\n",
       "LAND SQUARE FEET     1.810527e+09\n",
       "GROSS SQUARE FEET    5.204732e+09\n",
       "SALE PRICE           3.592423e+15\n",
       "dtype: float64"
      ]
     },
     "execution_count": 30,
     "metadata": {},
     "output_type": "execute_result"
    }
   ],
   "source": [
    "np.std(var_bor, ddof=1)"
   ]
  },
  {
   "cell_type": "markdown",
   "id": "e252bebc",
   "metadata": {},
   "source": [
    "**Conclusion:** <p>\n",
    "    Nilai standar deviasi tertinggi ada di kolom Sale Price, karena pada kasus ini kita menghitung standar deviasi untuk seluruh data numerik berdasarkan Borough. "
   ]
  },
  {
   "cell_type": "markdown",
   "id": "73bfd2f2",
   "metadata": {},
   "source": [
    "# G. Probability Distribution"
   ]
  },
  {
   "cell_type": "markdown",
   "id": "f8b815f6",
   "metadata": {},
   "source": [
    "**Question:**<p>\n",
    "    Bagaimana Distribusi Probabilitas Sale Price di Manhattan?"
   ]
  },
  {
   "cell_type": "markdown",
   "id": "83f611d7",
   "metadata": {},
   "source": [
    "**Pre-processing**"
   ]
  },
  {
   "cell_type": "code",
   "execution_count": 31,
   "id": "494f225a",
   "metadata": {},
   "outputs": [],
   "source": [
    "bor = df_nyc.groupby('BOROUGH')\n",
    "df_manhattan = bor.get_group('Manhattan')"
   ]
  },
  {
   "cell_type": "markdown",
   "id": "3e299a37",
   "metadata": {},
   "source": [
    "**Implement statistical method**"
   ]
  },
  {
   "cell_type": "code",
   "execution_count": 32,
   "id": "a9c1928e",
   "metadata": {},
   "outputs": [
    {
     "name": "stderr",
     "output_type": "stream",
     "text": [
      "C:\\Users\\ASUS\\anaconda3\\lib\\site-packages\\seaborn\\distributions.py:2619: FutureWarning: `distplot` is a deprecated function and will be removed in a future version. Please adapt your code to use either `displot` (a figure-level function with similar flexibility) or `histplot` (an axes-level function for histograms).\n",
      "  warnings.warn(msg, FutureWarning)\n"
     ]
    },
    {
     "data": {
      "text/plain": [
       "[Text(0.5, 0, 'SALE PRICE'),\n",
       " Text(0, 0.5, 'Frequency'),\n",
       " Text(0.5, 1.0, 'Distribution of Sale Price in Manhattan')]"
      ]
     },
     "execution_count": 32,
     "metadata": {},
     "output_type": "execute_result"
    },
    {
     "data": {
      "image/png": "[encoded data removed]",
      "text/plain": [
       "<Figure size 1080x1080 with 1 Axes>"
      ]
     },
     "metadata": {},
     "output_type": "display_data"
    }
   ],
   "source": [
    "plt.figure(figsize=(15, 15), facecolor='white')\n",
    "\n",
    "ax = sns.distplot(df_manhattan['SALE PRICE'],\n",
    "                  kde=True,\n",
    "                  color='green',\n",
    "                  hist_kws={\"linewidth\": 16,\n",
    "                            'alpha': 1,\n",
    "                            'color': 'skyblue'}\n",
    "                 )\n",
    "\n",
    "ax.set(xlabel='SALE PRICE',\n",
    "       ylabel='Frequency',\n",
    "       title='Distribution of Sale Price in Manhattan')"
   ]
  },
  {
   "cell_type": "markdown",
   "id": "e0cc1a89",
   "metadata": {},
   "source": [
    "Selanjutnya coba menggunakan data Sale Price dengan range 100.000 - 90.000.000, yang bertujuan untuk membatasi panjang dari histogram dan grafik line distribusinya."
   ]
  },
  {
   "cell_type": "code",
   "execution_count": 33,
   "id": "5006f3d7",
   "metadata": {},
   "outputs": [
    {
     "name": "stderr",
     "output_type": "stream",
     "text": [
      "C:\\Users\\ASUS\\anaconda3\\lib\\site-packages\\seaborn\\distributions.py:2619: FutureWarning: `distplot` is a deprecated function and will be removed in a future version. Please adapt your code to use either `displot` (a figure-level function with similar flexibility) or `histplot` (an axes-level function for histograms).\n",
      "  warnings.warn(msg, FutureWarning)\n"
     ]
    },
    {
     "data": {
      "text/plain": [
       "[Text(0.5, 0, 'SALE PRICE'),\n",
       " Text(0, 0.5, 'Frequency'),\n",
       " Text(0.5, 1.0, 'Distribution of Sale Price in Manhattan')]"
      ]
     },
     "execution_count": 33,
     "metadata": {},
     "output_type": "execute_result"
    },
    {
     "data": {
      "image/png": "[encoded data removed]",
      "text/plain": [
       "<Figure size 1008x576 with 1 Axes>"
      ]
     },
     "metadata": {},
     "output_type": "display_data"
    }
   ],
   "source": [
    "rangebor = df_manhattan[(df_manhattan['SALE PRICE'] > 100000) & (df_manhattan['SALE PRICE'] < 90000000)]\n",
    "\n",
    "plt.figure(figsize=(14, 8), facecolor='white')\n",
    "ax = sns.distplot(rangebor['SALE PRICE'],\n",
    "                  kde=True,\n",
    "                  color='green',\n",
    "                  hist_kws={\"linewidth\": 16,\n",
    "                            'alpha': 1,\n",
    "                            'color': 'skyblue'}\n",
    "                 )\n",
    "\n",
    "ax.set(xlabel='SALE PRICE',\n",
    "       ylabel='Frequency',\n",
    "       title='Distribution of Sale Price in Manhattan')"
   ]
  },
  {
   "cell_type": "markdown",
   "id": "3e1c0178",
   "metadata": {},
   "source": [
    "Setelah kita menggunakan range pada data sale price, selanjutnya kita mencoba mencari grafik distribusi yang cocok berdasarkan gambar diatas."
   ]
  },
  {
   "cell_type": "code",
   "execution_count": 34,
   "id": "5fc2c606",
   "metadata": {},
   "outputs": [
    {
     "name": "stderr",
     "output_type": "stream",
     "text": [
      "C:\\Users\\ASUS\\anaconda3\\lib\\site-packages\\seaborn\\distributions.py:2619: FutureWarning: `distplot` is a deprecated function and will be removed in a future version. Please adapt your code to use either `displot` (a figure-level function with similar flexibility) or `histplot` (an axes-level function for histograms).\n",
      "  warnings.warn(msg, FutureWarning)\n"
     ]
    },
    {
     "data": {
      "text/plain": [
       "[Text(0.5, 0, 'SALE PRICE'),\n",
       " Text(0, 0.5, 'Frequency'),\n",
       " Text(0.5, 1.0, 'Exponential Distribution of Sale Price in Manhattan')]"
      ]
     },
     "execution_count": 34,
     "metadata": {},
     "output_type": "execute_result"
    },
    {
     "data": {
      "image/png": "[encoded data removed]",
      "text/plain": [
       "<Figure size 720x576 with 1 Axes>"
      ]
     },
     "metadata": {},
     "output_type": "display_data"
    }
   ],
   "source": [
    "# Mengimport library untuk mencari distribusi yang cocok\n",
    "from scipy.stats import expon\n",
    "\n",
    "plt.figure(figsize=(10, 8), facecolor='white')\n",
    "dt_dist = expon.rvs(rangebor['SALE PRICE'])\n",
    "ax = sns.distplot(dt_dist, kde=True, bins=100, color='darkblue',  hist_kws={\"linewidth\": 16, 'alpha': 1, 'color' : 'skyblue'})\n",
    "ax.set(xlabel='SALE PRICE', ylabel='Frequency', title='Exponential Distribution of Sale Price in Manhattan')"
   ]
  },
  {
   "cell_type": "markdown",
   "id": "c868f41b",
   "metadata": {},
   "source": [
    "**Conclusion:**\n",
    "\n",
    "Distribusi Sale Price di Manhattan mengikuti Distribusi Eksponential, karena bentuk histogram dan grafik line distribusinya mengikuti dataset yang digunakan"
   ]
  },
  {
   "cell_type": "markdown",
   "id": "cea615e7",
   "metadata": {},
   "source": [
    "# H. Confidence Intervals"
   ]
  },
  {
   "cell_type": "markdown",
   "id": "920ed6a2",
   "metadata": {},
   "source": [
    "**Question:** <p>\n",
    "    Bagaimana membuat Confidence Intervals dari Mean Sale Price di Manhattan?"
   ]
  },
  {
   "cell_type": "markdown",
   "id": "7b0d8435",
   "metadata": {},
   "source": [
    "**Pre-processing**"
   ]
  },
  {
   "cell_type": "code",
   "execution_count": 35,
   "id": "e8088348",
   "metadata": {},
   "outputs": [
    {
     "data": {
      "text/html": [
       "<div>\n",
       "<style scoped>\n",
       "    .dataframe tbody tr th:only-of-type {\n",
       "        vertical-align: middle;\n",
       "    }\n",
       "\n",
       "    .dataframe tbody tr th {\n",
       "        vertical-align: top;\n",
       "    }\n",
       "\n",
       "    .dataframe thead tr th {\n",
       "        text-align: left;\n",
       "    }\n",
       "\n",
       "    .dataframe thead tr:last-of-type th {\n",
       "        text-align: right;\n",
       "    }\n",
       "</style>\n",
       "<table border=\"1\" class=\"dataframe\">\n",
       "  <thead>\n",
       "    <tr>\n",
       "      <th></th>\n",
       "      <th colspan=\"3\" halign=\"left\">SALE PRICE</th>\n",
       "    </tr>\n",
       "    <tr>\n",
       "      <th></th>\n",
       "      <th>mean</th>\n",
       "      <th>std</th>\n",
       "      <th>size</th>\n",
       "    </tr>\n",
       "    <tr>\n",
       "      <th>BOROUGH</th>\n",
       "      <th></th>\n",
       "      <th></th>\n",
       "      <th></th>\n",
       "    </tr>\n",
       "  </thead>\n",
       "  <tbody>\n",
       "    <tr>\n",
       "      <th>Bronx</th>\n",
       "      <td>5.946771e+05</td>\n",
       "      <td>2.793509e+06</td>\n",
       "      <td>6994</td>\n",
       "    </tr>\n",
       "    <tr>\n",
       "      <th>Brooklyn</th>\n",
       "      <td>8.411462e+05</td>\n",
       "      <td>3.979911e+06</td>\n",
       "      <td>23491</td>\n",
       "    </tr>\n",
       "    <tr>\n",
       "      <th>Manhattan</th>\n",
       "      <td>1.920741e+07</td>\n",
       "      <td>8.967889e+07</td>\n",
       "      <td>965</td>\n",
       "    </tr>\n",
       "    <tr>\n",
       "      <th>Queens</th>\n",
       "      <td>9.107072e+05</td>\n",
       "      <td>3.712604e+06</td>\n",
       "      <td>11053</td>\n",
       "    </tr>\n",
       "    <tr>\n",
       "      <th>Staten Island</th>\n",
       "      <td>5.284856e+05</td>\n",
       "      <td>4.762602e+05</td>\n",
       "      <td>5041</td>\n",
       "    </tr>\n",
       "  </tbody>\n",
       "</table>\n",
       "</div>"
      ],
      "text/plain": [
       "                 SALE PRICE                     \n",
       "                       mean           std   size\n",
       "BOROUGH                                         \n",
       "Bronx          5.946771e+05  2.793509e+06   6994\n",
       "Brooklyn       8.411462e+05  3.979911e+06  23491\n",
       "Manhattan      1.920741e+07  8.967889e+07    965\n",
       "Queens         9.107072e+05  3.712604e+06  11053\n",
       "Staten Island  5.284856e+05  4.762602e+05   5041"
      ]
     },
     "execution_count": 35,
     "metadata": {},
     "output_type": "execute_result"
    }
   ],
   "source": [
    "# Untuk mendapatkan mean, std dan size berdasarkan masing-masing borough\n",
    "df_CI = df_nyc.groupby(\"BOROUGH\").agg({\"SALE PRICE\":[np.mean, np.std, np.size]})\n",
    "df_CI"
   ]
  },
  {
   "cell_type": "code",
   "execution_count": 36,
   "id": "d7a00048",
   "metadata": {},
   "outputs": [
    {
     "data": {
      "text/plain": [
       "965"
      ]
     },
     "execution_count": 36,
     "metadata": {},
     "output_type": "execute_result"
    }
   ],
   "source": [
    "# Untuk mencari banyaknya wilayah Manhattan \n",
    "count_manhattan = df_nyc.BOROUGH == 'Manhattan'\n",
    "count_manhattan = count_manhattan.sum()\n",
    "count_manhattan"
   ]
  },
  {
   "cell_type": "markdown",
   "id": "ca0eb3fd",
   "metadata": {},
   "source": [
    "**Implement statistical method**"
   ]
  },
  {
   "cell_type": "code",
   "execution_count": 37,
   "id": "546c347f",
   "metadata": {},
   "outputs": [],
   "source": [
    "mean_manhattan = 1.920741e+07\n",
    "std_manhattan = 8.967889e+07\t\n",
    "z = 1.96\n",
    "se = std_manhattan / np.sqrt(count_manhattan)"
   ]
  },
  {
   "cell_type": "code",
   "execution_count": 38,
   "id": "85883371",
   "metadata": {},
   "outputs": [
    {
     "name": "stdout",
     "output_type": "stream",
     "text": [
      "Mean Manhattan      :  19207410.0\n",
      "Standar Deviasi     :  89678890.0\n",
      "Banyaknya Manhattan :  965\n",
      "Z-Score             :  1.96\n",
      "standar error       :  2886865.613264464\n"
     ]
    }
   ],
   "source": [
    "print('Mean Manhattan      : ', mean_manhattan)\n",
    "print('Standar Deviasi     : ', std_manhattan)\n",
    "print('Banyaknya Manhattan : ', count_manhattan)\n",
    "print('Z-Score             : ', z)\n",
    "print('standar error       : ', se)"
   ]
  },
  {
   "cell_type": "code",
   "execution_count": 39,
   "id": "30a7939a",
   "metadata": {},
   "outputs": [
    {
     "name": "stdout",
     "output_type": "stream",
     "text": [
      "Lower limit of Confidence Interval:  13549153.398\n",
      "Upper limit of Confidence Interval:  24865666.602\n"
     ]
    }
   ],
   "source": [
    "print('Lower limit of Confidence Interval: ', round(mean_manhattan - z * se, 3))\n",
    "print('Upper limit of Confidence Interval: ', round(mean_manhattan + z * se, 3))"
   ]
  },
  {
   "cell_type": "markdown",
   "id": "0ff025d6",
   "metadata": {},
   "source": [
    "**Conclusion:** <p>\n",
    "Diperoleh hasil Confidence Interval untuk rata-rata SALE PRICE di Wilayah Manhattan yaitu antara 13549153.398 dan 24865666.602"
   ]
  },
  {
   "cell_type": "markdown",
   "id": "6d2a99e9",
   "metadata": {},
   "source": [
    "# I. Hypothesis Testing"
   ]
  },
  {
   "cell_type": "markdown",
   "id": "f7ac98ed",
   "metadata": {},
   "source": [
    "**Question:** <p>\n",
    "    Dalam hypotesis testing, ada dua masalah yang dicari bukti kebenerannya: <p>\n",
    "    1. Dengan mempertimbangkan wilayah Manhattan, apakah wilayah Bronx memiliki indeks rata-rata yang lebih tinggi daripada Manhattan? <p>\n",
    "    2. Jika pada data Neighborhood hanya memilih Woodlawn dengan Resident Unitnya = 1 dan Total Unitnya = 1, apakah LAND SQUARE FEET dan GROSS SQUARE FEET pada data Woodlawn merupakan dua sample independent? <p>"
   ]
  },
  {
   "cell_type": "markdown",
   "id": "9230bc85",
   "metadata": {},
   "source": [
    "**Pre-processing**"
   ]
  },
  {
   "cell_type": "code",
   "execution_count": 40,
   "id": "3bab3975",
   "metadata": {},
   "outputs": [],
   "source": [
    "# Mengambil semua data berdasarkan wilayah yang dipilih\n",
    "manhatt = df_nyc[df_nyc[\"BOROUGH\"] == \"Manhattan\"]\n",
    "brnx = df_nyc[df_nyc[\"BOROUGH\"] == \"Bronx\"]"
   ]
  },
  {
   "cell_type": "markdown",
   "id": "866c6b13",
   "metadata": {},
   "source": [
    "**Implement statistical method**"
   ]
  },
  {
   "cell_type": "code",
   "execution_count": 41,
   "id": "3cf86eaf",
   "metadata": {},
   "outputs": [],
   "source": [
    "# Manhattan\n",
    "len_mnht = len(manhatt)\n",
    "mean_mnht = manhatt['SALE PRICE'].mean()\n",
    "std_mnht = manhatt['SALE PRICE'].std()\n",
    "\n",
    "# Bronx \n",
    "len_brnx = len(brnx)\n",
    "mean_brnx = brnx['SALE PRICE'].mean()\n",
    "std_brnx = brnx['SALE PRICE'].std()"
   ]
  },
  {
   "cell_type": "code",
   "execution_count": 42,
   "id": "ff41cae7",
   "metadata": {},
   "outputs": [
    {
     "data": {
      "text/html": [
       "<div>\n",
       "<style scoped>\n",
       "    .dataframe tbody tr th:only-of-type {\n",
       "        vertical-align: middle;\n",
       "    }\n",
       "\n",
       "    .dataframe tbody tr th {\n",
       "        vertical-align: top;\n",
       "    }\n",
       "\n",
       "    .dataframe thead th {\n",
       "        text-align: right;\n",
       "    }\n",
       "</style>\n",
       "<table border=\"1\" class=\"dataframe\">\n",
       "  <thead>\n",
       "    <tr style=\"text-align: right;\">\n",
       "      <th></th>\n",
       "      <th>Borough</th>\n",
       "      <th>Length_Bor</th>\n",
       "      <th>Mean_Bor</th>\n",
       "      <th>Std_Bor</th>\n",
       "    </tr>\n",
       "  </thead>\n",
       "  <tbody>\n",
       "    <tr>\n",
       "      <th>0</th>\n",
       "      <td>Manhattan</td>\n",
       "      <td>965</td>\n",
       "      <td>1.920741e+07</td>\n",
       "      <td>8.967889e+07</td>\n",
       "    </tr>\n",
       "    <tr>\n",
       "      <th>1</th>\n",
       "      <td>Bronx</td>\n",
       "      <td>6994</td>\n",
       "      <td>5.946771e+05</td>\n",
       "      <td>2.793509e+06</td>\n",
       "    </tr>\n",
       "  </tbody>\n",
       "</table>\n",
       "</div>"
      ],
      "text/plain": [
       "     Borough  Length_Bor      Mean_Bor       Std_Bor\n",
       "0  Manhattan         965  1.920741e+07  8.967889e+07\n",
       "1      Bronx        6994  5.946771e+05  2.793509e+06"
      ]
     },
     "execution_count": 42,
     "metadata": {},
     "output_type": "execute_result"
    }
   ],
   "source": [
    "d = {'Borough': ['Manhattan', 'Bronx'],\n",
    "     'Length_Bor': [len_mnht, len_brnx],\n",
    "     'Mean_Bor': [mean_mnht, mean_brnx],\n",
    "     'Std_Bor': [std_mnht, std_brnx]\n",
    "     }\n",
    "df_HT = pd.DataFrame(data=d)\n",
    "df_HT"
   ]
  },
  {
   "cell_type": "code",
   "execution_count": 43,
   "id": "a0cefa73",
   "metadata": {},
   "outputs": [
    {
     "data": {
      "text/plain": [
       "(17.303347103240743, 4.438368811878268e-67)"
      ]
     },
     "execution_count": 43,
     "metadata": {},
     "output_type": "execute_result"
    }
   ],
   "source": [
    "sm.stats.ztest(manhatt[\"SALE PRICE\"].dropna(), \n",
    "brnx[\"SALE PRICE\"].dropna(),alternative='two-sided')"
   ]
  },
  {
   "cell_type": "markdown",
   "id": "95ff827c",
   "metadata": {},
   "source": [
    "**Conclusion:**\n",
    "\n",
    "Karena p-value (4.43e-67) sangat kecil, kita dapat **reject the Null hypothesis** bahwa indeks rata-rata wilayah Bronx lebih besar dari Manhattan. Alternative=\"two-sided\" digunakan dalam z-test karena di sini memeriksa ketidaksamaan."
   ]
  },
  {
   "cell_type": "code",
   "execution_count": 44,
   "id": "f2a30d64",
   "metadata": {},
   "outputs": [
    {
     "data": {
      "image/png": "[encoded data removed]",
      "text/plain": [
       "<Figure size 864x432 with 1 Axes>"
      ]
     },
     "metadata": {},
     "output_type": "display_data"
    },
    {
     "data": {
      "image/png": "[encoded data removed]",
      "text/plain": [
       "<Figure size 864x432 with 1 Axes>"
      ]
     },
     "metadata": {},
     "output_type": "display_data"
    }
   ],
   "source": [
    "plt.figure(figsize=(12,6))\n",
    "plt.title(\"Sale Price Manhattan\", fontsize=16)\n",
    "plt.hist(manhatt[\"SALE PRICE\"].dropna(), edgecolor='k',color='pink', bins=25)\n",
    "plt.show()\n",
    "\n",
    "plt.figure(figsize=(12,6))\n",
    "plt.title(\"Sale Price Bronx\",fontsize=16)\n",
    "plt.hist(brnx[\"SALE PRICE\"].dropna(), edgecolor='k', color='blue', bins=25)\n",
    "plt.show()"
   ]
  },
  {
   "cell_type": "markdown",
   "id": "d8edb48e",
   "metadata": {},
   "source": [
    "**Statistical Hypothesis Test Cheat sheet**"
   ]
  },
  {
   "cell_type": "markdown",
   "id": "559f1e7c",
   "metadata": {},
   "source": [
    "**Correlation Tests** <p>\n",
    "This section lists statistical tests that you can use to check if two samples are related. <p>\n",
    "**Pearson's Correlation Coefficient** <p>\n",
    "Tests whether two samples have a linear relationship. <p>\n",
    "**Assumptions** <p>\n",
    "     • Observations in each sample are independent and identically distributed (iid). <p>\n",
    "     • Observations in each sample are normally distributed. <p>\n",
    "     • Observations in each sample have the same variance. <p>\n",
    "**Interpretation** <p>\n",
    "     • HO: the two samples are independent. <p>\n",
    "     • H1: there is a dependency between the samples. <p>"
   ]
  },
  {
   "cell_type": "code",
   "execution_count": 45,
   "id": "e5cf5ff0",
   "metadata": {},
   "outputs": [],
   "source": [
    "# mengambil seluruh data berdasarkan kolom neighborhood = Woodlawn\n",
    "df_woodlawn = df_nyc[df_nyc.NEIGHBORHOOD == 'WOODLAWN']"
   ]
  },
  {
   "cell_type": "code",
   "execution_count": 46,
   "id": "3c35bf19",
   "metadata": {},
   "outputs": [
    {
     "data": {
      "text/html": [
       "<div>\n",
       "<style scoped>\n",
       "    .dataframe tbody tr th:only-of-type {\n",
       "        vertical-align: middle;\n",
       "    }\n",
       "\n",
       "    .dataframe tbody tr th {\n",
       "        vertical-align: top;\n",
       "    }\n",
       "\n",
       "    .dataframe thead th {\n",
       "        text-align: right;\n",
       "    }\n",
       "</style>\n",
       "<table border=\"1\" class=\"dataframe\">\n",
       "  <thead>\n",
       "    <tr style=\"text-align: right;\">\n",
       "      <th></th>\n",
       "      <th>BOROUGH</th>\n",
       "      <th>NEIGHBORHOOD</th>\n",
       "      <th>BUILDING CLASS CATEGORY</th>\n",
       "      <th>TAX CLASS AT PRESENT</th>\n",
       "      <th>BLOCK</th>\n",
       "      <th>LOT</th>\n",
       "      <th>BUILDING CLASS AT PRESENT</th>\n",
       "      <th>ADDRESS</th>\n",
       "      <th>ZIP CODE</th>\n",
       "      <th>RESIDENTIAL UNITS</th>\n",
       "      <th>COMMERCIAL UNITS</th>\n",
       "      <th>TOTAL UNITS</th>\n",
       "      <th>LAND SQUARE FEET</th>\n",
       "      <th>GROSS SQUARE FEET</th>\n",
       "      <th>YEAR BUILT</th>\n",
       "      <th>TAX CLASS AT TIME OF SALE</th>\n",
       "      <th>BUILDING CLASS AT TIME OF SALE</th>\n",
       "      <th>SALE PRICE</th>\n",
       "      <th>SALE DATE</th>\n",
       "    </tr>\n",
       "  </thead>\n",
       "  <tbody>\n",
       "    <tr>\n",
       "      <th>25270</th>\n",
       "      <td>Bronx</td>\n",
       "      <td>WOODLAWN</td>\n",
       "      <td>01 ONE FAMILY DWELLINGS</td>\n",
       "      <td>1</td>\n",
       "      <td>3363</td>\n",
       "      <td>65</td>\n",
       "      <td>A1</td>\n",
       "      <td>4218 HERKIMER PLACE</td>\n",
       "      <td>10470</td>\n",
       "      <td>1</td>\n",
       "      <td>0</td>\n",
       "      <td>1</td>\n",
       "      <td>2500.0</td>\n",
       "      <td>1397.0</td>\n",
       "      <td>1935</td>\n",
       "      <td>1</td>\n",
       "      <td>A1</td>\n",
       "      <td>455000.0</td>\n",
       "      <td>2016-09-21 00:00:00</td>\n",
       "    </tr>\n",
       "    <tr>\n",
       "      <th>25271</th>\n",
       "      <td>Bronx</td>\n",
       "      <td>WOODLAWN</td>\n",
       "      <td>01 ONE FAMILY DWELLINGS</td>\n",
       "      <td>1</td>\n",
       "      <td>3365</td>\n",
       "      <td>64</td>\n",
       "      <td>A1</td>\n",
       "      <td>83 EAST 233RD STRET</td>\n",
       "      <td>10470</td>\n",
       "      <td>1</td>\n",
       "      <td>0</td>\n",
       "      <td>1</td>\n",
       "      <td>2675.0</td>\n",
       "      <td>2675.0</td>\n",
       "      <td>1920</td>\n",
       "      <td>1</td>\n",
       "      <td>A1</td>\n",
       "      <td>765000.0</td>\n",
       "      <td>2017-04-17 00:00:00</td>\n",
       "    </tr>\n",
       "    <tr>\n",
       "      <th>25272</th>\n",
       "      <td>Bronx</td>\n",
       "      <td>WOODLAWN</td>\n",
       "      <td>01 ONE FAMILY DWELLINGS</td>\n",
       "      <td>1</td>\n",
       "      <td>3369</td>\n",
       "      <td>12</td>\n",
       "      <td>A1</td>\n",
       "      <td>124 EAST 235 STREET</td>\n",
       "      <td>10470</td>\n",
       "      <td>1</td>\n",
       "      <td>0</td>\n",
       "      <td>1</td>\n",
       "      <td>2500.0</td>\n",
       "      <td>1537.0</td>\n",
       "      <td>1925</td>\n",
       "      <td>1</td>\n",
       "      <td>A1</td>\n",
       "      <td>0.0</td>\n",
       "      <td>2017-02-01 00:00:00</td>\n",
       "    </tr>\n",
       "    <tr>\n",
       "      <th>25273</th>\n",
       "      <td>Bronx</td>\n",
       "      <td>WOODLAWN</td>\n",
       "      <td>01 ONE FAMILY DWELLINGS</td>\n",
       "      <td>1</td>\n",
       "      <td>3370</td>\n",
       "      <td>55</td>\n",
       "      <td>A1</td>\n",
       "      <td>111 EAST 235 STREET</td>\n",
       "      <td>10470</td>\n",
       "      <td>1</td>\n",
       "      <td>0</td>\n",
       "      <td>1</td>\n",
       "      <td>2500.0</td>\n",
       "      <td>1224.0</td>\n",
       "      <td>1920</td>\n",
       "      <td>1</td>\n",
       "      <td>A1</td>\n",
       "      <td>370000.0</td>\n",
       "      <td>2017-04-26 00:00:00</td>\n",
       "    </tr>\n",
       "    <tr>\n",
       "      <th>25274</th>\n",
       "      <td>Bronx</td>\n",
       "      <td>WOODLAWN</td>\n",
       "      <td>01 ONE FAMILY DWELLINGS</td>\n",
       "      <td>1</td>\n",
       "      <td>3373</td>\n",
       "      <td>26</td>\n",
       "      <td>A1</td>\n",
       "      <td>135 EAST 238TH STREET</td>\n",
       "      <td>10470</td>\n",
       "      <td>1</td>\n",
       "      <td>0</td>\n",
       "      <td>1</td>\n",
       "      <td>2500.0</td>\n",
       "      <td>1964.0</td>\n",
       "      <td>1925</td>\n",
       "      <td>1</td>\n",
       "      <td>A1</td>\n",
       "      <td>405600.0</td>\n",
       "      <td>2017-03-08 00:00:00</td>\n",
       "    </tr>\n",
       "  </tbody>\n",
       "</table>\n",
       "</div>"
      ],
      "text/plain": [
       "      BOROUGH NEIGHBORHOOD                      BUILDING CLASS CATEGORY  \\\n",
       "25270   Bronx     WOODLAWN  01 ONE FAMILY DWELLINGS                       \n",
       "25271   Bronx     WOODLAWN  01 ONE FAMILY DWELLINGS                       \n",
       "25272   Bronx     WOODLAWN  01 ONE FAMILY DWELLINGS                       \n",
       "25273   Bronx     WOODLAWN  01 ONE FAMILY DWELLINGS                       \n",
       "25274   Bronx     WOODLAWN  01 ONE FAMILY DWELLINGS                       \n",
       "\n",
       "      TAX CLASS AT PRESENT  BLOCK  LOT BUILDING CLASS AT PRESENT  \\\n",
       "25270                    1   3363   65                        A1   \n",
       "25271                    1   3365   64                        A1   \n",
       "25272                    1   3369   12                        A1   \n",
       "25273                    1   3370   55                        A1   \n",
       "25274                    1   3373   26                        A1   \n",
       "\n",
       "                     ADDRESS ZIP CODE  RESIDENTIAL UNITS  COMMERCIAL UNITS  \\\n",
       "25270    4218 HERKIMER PLACE    10470                  1                 0   \n",
       "25271    83 EAST 233RD STRET    10470                  1                 0   \n",
       "25272    124 EAST 235 STREET    10470                  1                 0   \n",
       "25273    111 EAST 235 STREET    10470                  1                 0   \n",
       "25274  135 EAST 238TH STREET    10470                  1                 0   \n",
       "\n",
       "       TOTAL UNITS  LAND SQUARE FEET  GROSS SQUARE FEET YEAR BUILT  \\\n",
       "25270            1            2500.0             1397.0       1935   \n",
       "25271            1            2675.0             2675.0       1920   \n",
       "25272            1            2500.0             1537.0       1925   \n",
       "25273            1            2500.0             1224.0       1920   \n",
       "25274            1            2500.0             1964.0       1925   \n",
       "\n",
       "      TAX CLASS AT TIME OF SALE BUILDING CLASS AT TIME OF SALE  SALE PRICE  \\\n",
       "25270                         1                             A1    455000.0   \n",
       "25271                         1                             A1    765000.0   \n",
       "25272                         1                             A1         0.0   \n",
       "25273                         1                             A1    370000.0   \n",
       "25274                         1                             A1    405600.0   \n",
       "\n",
       "                 SALE DATE  \n",
       "25270  2016-09-21 00:00:00  \n",
       "25271  2017-04-17 00:00:00  \n",
       "25272  2017-02-01 00:00:00  \n",
       "25273  2017-04-26 00:00:00  \n",
       "25274  2017-03-08 00:00:00  "
      ]
     },
     "execution_count": 46,
     "metadata": {},
     "output_type": "execute_result"
    }
   ],
   "source": [
    "# data Woodlawn selanjutnya di filter berdasarkan kategori tertentu\n",
    "df_woodlawn = df_woodlawn[(df_woodlawn['RESIDENTIAL UNITS'] == 1) &\n",
    "                    (df_woodlawn['TOTAL UNITS'] == 1) &\n",
    "                    (df_woodlawn['LAND SQUARE FEET']) &\n",
    "                    (df_woodlawn['GROSS SQUARE FEET'])]\n",
    "df_woodlawn.head()"
   ]
  },
  {
   "cell_type": "code",
   "execution_count": 47,
   "id": "62253020",
   "metadata": {},
   "outputs": [
    {
     "name": "stdout",
     "output_type": "stream",
     "text": [
      "stat=-0.0184, p=0.9354\n",
      "Probably independent\n"
     ]
    }
   ],
   "source": [
    "# Example of the Pearson's Correlation test\n",
    "from scipy.stats import pearsonr\n",
    "data1 = df_woodlawn['LAND SQUARE FEET']\n",
    "data2 = df_woodlawn['GROSS SQUARE FEET']\n",
    "stat, p = pearsonr(data1, data2)\n",
    "print('stat=%.4f, p=%.4f' % (stat, p))\n",
    "if p > 0.05:\n",
    "    print('Probably independent') \n",
    "else:\n",
    "    print('Probably dependent')"
   ]
  },
  {
   "cell_type": "markdown",
   "id": "3f8bd793",
   "metadata": {},
   "source": [
    "**Conclusion:**<p>\n",
    "    Menurut hypothesis diawal, apakah Land Square Feet dan Gross Square Feet termasuk kedalam dua sampel yang independent jika menggunakan data Woodlawn yang telah difilter?\n",
    "    **Jawabannya** adalah iya, kedua sample tersebut adalah independent. Karena nilai P yang diperoleh itu lebih dari nilai 0.05 atau 5%. <p>"
   ]
  }
 ],
 "metadata": {
  "kernelspec": {
   "display_name": "Python 3 (ipykernel)",
   "language": "python",
   "name": "python3"
  },
  "language_info": {
   "codemirror_mode": {
    "name": "ipython",
    "version": 3
   },
   "file_extension": ".py",
   "mimetype": "text/x-python",
   "name": "python",
   "nbconvert_exporter": "python",
   "pygments_lexer": "ipython3",
   "version": "3.9.7"
  },
  "toc": {
   "base_numbering": 1,
   "nav_menu": {},
   "number_sections": true,
   "sideBar": true,
   "skip_h1_title": false,
   "title_cell": "Table of Contents",
   "title_sidebar": "Contents",
   "toc_cell": false,
   "toc_position": {},
   "toc_section_display": true,
   "toc_window_display": true
  }
 },
 "nbformat": 4,
 "nbformat_minor": 5
}
