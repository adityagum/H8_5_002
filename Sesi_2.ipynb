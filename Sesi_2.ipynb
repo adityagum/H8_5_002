{
 "cells": [
  {
   "cell_type": "markdown",
   "id": "77659712",
   "metadata": {},
   "source": [
    "Conditions, Control Flow and Looping"
   ]
  },
  {
   "cell_type": "markdown",
   "id": "e546e52d",
   "metadata": {},
   "source": [
    "# Conditional "
   ]
  },
  {
   "cell_type": "code",
   "execution_count": 1,
   "id": "89c2bf26",
   "metadata": {},
   "outputs": [
    {
     "name": "stdout",
     "output_type": "stream",
     "text": [
      "Yes\n",
      "Yes\n",
      "Yes\n"
     ]
    }
   ],
   "source": [
    "x = 0\n",
    "y = 5\n",
    "\n",
    "if x < y:\n",
    "    print('Yes')\n",
    "    \n",
    "if y < x:\n",
    "    print('Yes')\n",
    "    \n",
    "if x:\n",
    "    print('Yes')\n",
    "    \n",
    "if y:\n",
    "    print('Yes')\n",
    "    \n",
    "if 'aul' in 'grault':\n",
    "    print('Yes')\n",
    "    \n",
    "if 'quux' in ['foo', 'bar', 'baz']:\n",
    "    print('Yes')"
   ]
  },
  {
   "cell_type": "code",
   "execution_count": 2,
   "id": "bd6f4623",
   "metadata": {},
   "outputs": [
    {
     "name": "stdout",
     "output_type": "stream",
     "text": [
      "Expression was true\n",
      "Executing statement in suite\n",
      "...\n",
      "Done\n",
      "After conditional\n"
     ]
    }
   ],
   "source": [
    "if 'bar' in ['bar', 'baz', 'qux']:\n",
    "    print('Expression was true')\n",
    "    print('Executing statement in suite')\n",
    "    print('...')\n",
    "    print('Done')\n",
    "    \n",
    "print('After conditional')"
   ]
  },
  {
   "cell_type": "code",
   "execution_count": 3,
   "id": "ca658ce5",
   "metadata": {},
   "outputs": [
    {
     "name": "stdout",
     "output_type": "stream",
     "text": [
      "Outer conidition is true\n",
      "Between inner conditions\n",
      "Inner condition 2\n",
      "End of outer condition\n",
      "After conditional\n"
     ]
    }
   ],
   "source": [
    "if 'foo' in ['foo', 'baz', 'qux']:\n",
    "    print('Outer conidition is true')\n",
    "    \n",
    "    if 10 > 20:\n",
    "        print('Inner condition 1')\n",
    "        \n",
    "    print('Between inner conditions')\n",
    "    \n",
    "    if 10 < 20:\n",
    "        print('Inner condition 2')\n",
    "        \n",
    "    print('End of outer condition')\n",
    "print('After conditional')"
   ]
  },
  {
   "cell_type": "markdown",
   "id": "ccc58f25",
   "metadata": {},
   "source": [
    "# Else and Elif Clauses"
   ]
  },
  {
   "cell_type": "code",
   "execution_count": 4,
   "id": "b41b1f09",
   "metadata": {},
   "outputs": [
    {
     "name": "stdout",
     "output_type": "stream",
     "text": [
      "(second suite)\n",
      "x is large\n"
     ]
    }
   ],
   "source": [
    "x = 100 \n",
    "\n",
    "if x < 50:\n",
    "    print('(First suite)')\n",
    "    print('x is small')\n",
    "else:\n",
    "    print('(second suite)')\n",
    "    print('x is large')"
   ]
  },
  {
   "cell_type": "code",
   "execution_count": 5,
   "id": "e1e3812b",
   "metadata": {},
   "outputs": [
    {
     "name": "stdout",
     "output_type": "stream",
     "text": [
      "Uang tidak cukup\n"
     ]
    }
   ],
   "source": [
    "hargaBuku = 20000\n",
    "hargaMajalah = 5000\n",
    "uang = 2000 \n",
    "\n",
    "if uang > hargaBuku:\n",
    "    print('Beli Buku')\n",
    "elif uang > hargaMajalah:\n",
    "    print('Beli majalah')\n",
    "else:\n",
    "    print('Uang tidak cukup')"
   ]
  },
  {
   "cell_type": "code",
   "execution_count": 6,
   "id": "63cad5aa",
   "metadata": {},
   "outputs": [
    {
     "name": "stdout",
     "output_type": "stream",
     "text": [
      "Hello Xander\n"
     ]
    }
   ],
   "source": [
    "# name = 'Hacktiv8'\n",
    "# name = 'Xander'\n",
    "name = 'XANDER'\n",
    "\n",
    "if name == 'Fred':\n",
    "    print('Hello Fred')\n",
    "elif name == 'Xander' or name == 'XANDER':\n",
    "    print('Hello Xander')\n",
    "elif name == 'Hacktiv8':\n",
    "    print('Hello Hacktiv8')\n",
    "elif name == 'Arnold':\n",
    "    print('Hello Arnold')\n",
    "else:\n",
    "    print(\"I don't know who you are!\")\n",
    "\n"
   ]
  },
  {
   "cell_type": "code",
   "execution_count": 7,
   "id": "925fbe66",
   "metadata": {},
   "outputs": [
    {
     "name": "stdout",
     "output_type": "stream",
     "text": [
      "foo\n"
     ]
    }
   ],
   "source": [
    "if 'a' in 'bar':\n",
    "    print('foo')\n",
    "elif 1/0:\n",
    "    print('This wont happen')\n",
    "elif var:\n",
    "    print('This wont either')"
   ]
  },
  {
   "cell_type": "markdown",
   "id": "14142835",
   "metadata": {},
   "source": [
    "# One-Line if Statements"
   ]
  },
  {
   "cell_type": "code",
   "execution_count": 8,
   "id": "3180695b",
   "metadata": {},
   "outputs": [
    {
     "name": "stdout",
     "output_type": "stream",
     "text": [
      "1\n",
      "2\n",
      "3\n"
     ]
    }
   ],
   "source": [
    "if 'f' in 'foo' : print('1'), print('2'), print('3')"
   ]
  },
  {
   "cell_type": "code",
   "execution_count": 9,
   "id": "e8c732cc",
   "metadata": {},
   "outputs": [
    {
     "name": "stdout",
     "output_type": "stream",
     "text": [
      "corge\n",
      "grault\n"
     ]
    }
   ],
   "source": [
    "x = 3\n",
    "if x == 1: print('foo'); print('bar'); print('baz')\n",
    "elif x == 2: print('qux'); print('quux')\n",
    "else: print('corge'); print('grault')"
   ]
  },
  {
   "cell_type": "code",
   "execution_count": 1,
   "id": "239b19b0",
   "metadata": {},
   "outputs": [
    {
     "name": "stdout",
     "output_type": "stream",
     "text": [
      "corge\n",
      "grault\n"
     ]
    }
   ],
   "source": [
    "x = 3\n",
    "if x == 1:\n",
    "    print('foo')\n",
    "    print('bar')\n",
    "    print('baz')\n",
    "elif x == 2:\n",
    "    print('qux')\n",
    "    print('quux')\n",
    "else:\n",
    "    print('corge')\n",
    "    print('grault')\n"
   ]
  },
  {
   "cell_type": "markdown",
   "id": "fcbe265c",
   "metadata": {},
   "source": [
    "# Conditional Expressions (Ternary Operator)"
   ]
  },
  {
   "cell_type": "code",
   "execution_count": 4,
   "id": "c316ad94",
   "metadata": {},
   "outputs": [
    {
     "name": "stdout",
     "output_type": "stream",
     "text": [
      "Lets go to the beach\n",
      "Lets go to the Library\n"
     ]
    }
   ],
   "source": [
    "raining = not False\n",
    "print('Lets go to the', 'beach' if raining else 'Library')\n",
    "\n",
    "raining = False\n",
    "print('Lets go to the', 'beach' if raining else 'Library')"
   ]
  },
  {
   "cell_type": "code",
   "execution_count": 3,
   "id": "5055fdd5",
   "metadata": {},
   "outputs": [
    {
     "data": {
      "text/plain": [
       "'teen'"
      ]
     },
     "execution_count": 3,
     "metadata": {},
     "output_type": "execute_result"
    }
   ],
   "source": [
    "age = 12\n",
    "s = 'teen' if age < 21 else 'adult'\n",
    "s"
   ]
  },
  {
   "cell_type": "code",
   "execution_count": 6,
   "id": "84a94d46",
   "metadata": {},
   "outputs": [
    {
     "data": {
      "text/plain": [
       "'no'"
      ]
     },
     "execution_count": 6,
     "metadata": {},
     "output_type": "execute_result"
    }
   ],
   "source": [
    "'yes' if ('qux' in ['foo', 'bar', 'baz']) else 'no'"
   ]
  },
  {
   "cell_type": "code",
   "execution_count": 10,
   "id": "a2523942",
   "metadata": {},
   "outputs": [
    {
     "name": "stdout",
     "output_type": "stream",
     "text": [
      "foo\n",
      "foo\n"
     ]
    }
   ],
   "source": [
    "if True:\n",
    "    print('foo')\n",
    "\n",
    "if True:\n",
    "    pass\n",
    "print('foo')"
   ]
  },
  {
   "cell_type": "markdown",
   "id": "0685b1b2",
   "metadata": {},
   "source": [
    "# Python While Loops"
   ]
  },
  {
   "cell_type": "code",
   "execution_count": 11,
   "id": "3fe0aa0f",
   "metadata": {},
   "outputs": [
    {
     "name": "stdout",
     "output_type": "stream",
     "text": [
      "4\n",
      "3\n",
      "2\n",
      "1\n",
      "0\n"
     ]
    }
   ],
   "source": [
    "n = 5\n",
    "while n > 0:\n",
    "    n -= 1\n",
    "    print(n)"
   ]
  },
  {
   "cell_type": "code",
   "execution_count": 12,
   "id": "223d3157",
   "metadata": {},
   "outputs": [
    {
     "name": "stdout",
     "output_type": "stream",
     "text": [
      "2\n",
      "4\n",
      "6\n",
      "8\n"
     ]
    }
   ],
   "source": [
    "n = 0\n",
    "while n < 7:\n",
    "    n += 2\n",
    "    print(n)"
   ]
  },
  {
   "cell_type": "code",
   "execution_count": 13,
   "id": "b4562f71",
   "metadata": {},
   "outputs": [
    {
     "name": "stdout",
     "output_type": "stream",
     "text": [
      "9\n",
      "8\n",
      "7\n",
      "6\n",
      "5\n",
      "Loop ended\n"
     ]
    }
   ],
   "source": [
    "n = 10\n",
    "while n > 0:\n",
    "    n -= 1\n",
    "    if n == 4:\n",
    "        break;\n",
    "    print(n)\n",
    "print('Loop ended')"
   ]
  },
  {
   "cell_type": "code",
   "execution_count": 14,
   "id": "ad63340e",
   "metadata": {},
   "outputs": [
    {
     "name": "stdout",
     "output_type": "stream",
     "text": [
      "9\n",
      "8\n",
      "7\n",
      "6\n",
      "4\n",
      "3\n",
      "2\n",
      "1\n",
      "0\n",
      "Loop ended\n"
     ]
    }
   ],
   "source": [
    "n = 10\n",
    "while n > 0:\n",
    "    n -= 1\n",
    "    if n == 5:\n",
    "        continue;\n",
    "    print(n)\n",
    "print('Loop ended')"
   ]
  },
  {
   "cell_type": "code",
   "execution_count": 15,
   "id": "2ded896e",
   "metadata": {},
   "outputs": [
    {
     "name": "stdout",
     "output_type": "stream",
     "text": [
      "4\n",
      "3\n",
      "2\n",
      "1\n",
      "0\n",
      "Loop ended\n"
     ]
    }
   ],
   "source": [
    "n = 5\n",
    "while n > 0:\n",
    "    n -= 1\n",
    "    print(n)\n",
    "else:\n",
    "    print('Loop ended')"
   ]
  },
  {
   "cell_type": "code",
   "execution_count": 16,
   "id": "e1c537fc",
   "metadata": {},
   "outputs": [
    {
     "name": "stdout",
     "output_type": "stream",
     "text": [
      "Loop ended\n"
     ]
    }
   ],
   "source": [
    "n = 5\n",
    "while n > 6:\n",
    "    n -= 1\n",
    "    print(n)\n",
    "    if n == 5:\n",
    "        break; \n",
    "#Bisa menggunakan Else juga\n",
    "print('Loop ended')"
   ]
  },
  {
   "cell_type": "markdown",
   "id": "dd6e1ee9",
   "metadata": {},
   "source": [
    "# Nested While Loops"
   ]
  },
  {
   "cell_type": "code",
   "execution_count": 19,
   "id": "b95188b4",
   "metadata": {},
   "outputs": [
    {
     "name": "stdout",
     "output_type": "stream",
     "text": [
      "36\n",
      "mother\n"
     ]
    }
   ],
   "source": [
    "age = 36\n",
    "print(age)\n",
    "gender = 'FFFFFF'\n",
    "\n",
    "if age < 18:\n",
    "    if gender == 'M':\n",
    "        print('son')\n",
    "    else:\n",
    "        print('daughter')\n",
    "elif age >= 18 and age < 65:\n",
    "    if gender == 'M':\n",
    "        print('father')\n",
    "    else:\n",
    "        print('mother')\n",
    "else:\n",
    "    if gender == 'M':\n",
    "        print('grandfather')\n",
    "    else:\n",
    "        print('grandmother')"
   ]
  },
  {
   "cell_type": "code",
   "execution_count": 22,
   "id": "6bf0675b",
   "metadata": {},
   "outputs": [
    {
     "name": "stdout",
     "output_type": "stream",
     "text": [
      "foo\n",
      "> baz\n",
      "> abc\n",
      "> def\n",
      "> qux\n",
      "> abc\n",
      "> def\n",
      "hah\n",
      "> baz\n",
      "> abc\n",
      "> def\n",
      "> qux\n",
      "> abc\n",
      "> def\n"
     ]
    }
   ],
   "source": [
    "a = ['foo', 'hah']\n",
    "\n",
    "while len(a):\n",
    "    print(a.pop(0))\n",
    "    \n",
    "    b = ['baz', 'qux']\n",
    "    \n",
    "    while len(b):\n",
    "        print('>', b.pop(0))\n",
    "        \n",
    "        c = ['abc', 'def']\n",
    "    \n",
    "        while len(c):\n",
    "            print('>', c.pop(0))"
   ]
  },
  {
   "cell_type": "markdown",
   "id": "93b135bb",
   "metadata": {},
   "source": [
    "# Python For Loop"
   ]
  },
  {
   "cell_type": "code",
   "execution_count": 24,
   "id": "a2b7db22",
   "metadata": {},
   "outputs": [
    {
     "name": "stdout",
     "output_type": "stream",
     "text": [
      "foo\n",
      "bar\n",
      "baz\n"
     ]
    }
   ],
   "source": [
    "a = ['foo', 'bar', 'baz']\n",
    "for i in a:\n",
    "    print(i)\n",
    "\n"
   ]
  },
  {
   "cell_type": "code",
   "execution_count": 28,
   "id": "a3d39faa",
   "metadata": {},
   "outputs": [
    {
     "name": "stdout",
     "output_type": "stream",
     "text": [
      "1\n",
      "2\n",
      "3\n"
     ]
    }
   ],
   "source": [
    "d = {'foo': 1, 'bar': 2, 'baz': 3}\n",
    "for k in d:  \n",
    "    print(d[k])\n",
    "\n"
   ]
  },
  {
   "cell_type": "code",
   "execution_count": 27,
   "id": "adb2569a",
   "metadata": {},
   "outputs": [
    {
     "name": "stdout",
     "output_type": "stream",
     "text": [
      "('foo', 1)\n",
      "('bar', 2)\n",
      "('baz', 3)\n"
     ]
    }
   ],
   "source": [
    "d = {'foo': 1, 'bar': 2, 'baz': 3}\n",
    "for k in d.items():\n",
    "    print(k)\n",
    "\n"
   ]
  },
  {
   "cell_type": "code",
   "execution_count": 32,
   "id": "436d5718",
   "metadata": {},
   "outputs": [
    {
     "name": "stdout",
     "output_type": "stream",
     "text": [
      "0\n",
      "1\n",
      "2\n",
      "3\n",
      "4\n"
     ]
    }
   ],
   "source": [
    "x = range(5)\n",
    "for n in x:\n",
    "    print(n)"
   ]
  },
  {
   "cell_type": "code",
   "execution_count": 34,
   "id": "6f32b613",
   "metadata": {},
   "outputs": [
    {
     "name": "stdout",
     "output_type": "stream",
     "text": [
      "foo\n"
     ]
    }
   ],
   "source": [
    "for i in ['foo', 'bar', 'baz', 'qux']:\n",
    "    if 'b' in i:\n",
    "        break\n",
    "    (print(i))"
   ]
  },
  {
   "cell_type": "code",
   "execution_count": 36,
   "id": "a15af20d",
   "metadata": {},
   "outputs": [
    {
     "name": "stdout",
     "output_type": "stream",
     "text": [
      "foo\n",
      "qux\n"
     ]
    }
   ],
   "source": [
    "for i in ['foo', 'bar', 'baz', 'qux']:\n",
    "    if 'b' in i:\n",
    "        continue\n",
    "    (print(i))"
   ]
  },
  {
   "cell_type": "markdown",
   "id": "3e9c4a8e",
   "metadata": {},
   "source": [
    "# The Else Clauses"
   ]
  },
  {
   "cell_type": "code",
   "execution_count": 39,
   "id": "5d73c62c",
   "metadata": {},
   "outputs": [
    {
     "name": "stdout",
     "output_type": "stream",
     "text": [
      "Ketikkan temperatur yang ingin dikonversi, eg. 45F, 120C: 45F\n",
      "Temperaturenya adalah 7 derajat\n"
     ]
    }
   ],
   "source": [
    "temp = input(\"Ketikkan temperatur yang ingin dikonversi, eg. 45F, 120C: \")\n",
    "# misalkan temp yang diinputkan adalah \"45F\" atau \"120C\"\n",
    "degree = int(temp[:-1])\n",
    "#degree= int( temp[:-1] )\n",
    "# temp[:-1] sama artinya dengan temp[0:-1]\n",
    "i_con = temp[-1]\n",
    "\n",
    "if i_con == 'C':\n",
    "    result = int(round((9*degree) / 5+32))\n",
    "elif i_con == 'F':\n",
    "    result = int(round((degree - 32) * 5 / 9))\n",
    "else:\n",
    "    print('Masukan input yang benar')\n",
    "    \n",
    "print('Temperaturenya adalah', result, 'derajat')"
   ]
  },
  {
   "cell_type": "code",
   "execution_count": 21,
   "id": "0945f963",
   "metadata": {},
   "outputs": [
    {
     "name": "stdout",
     "output_type": "stream",
     "text": [
      "Ketikan karakter : stop\n",
      "stop\n"
     ]
    }
   ],
   "source": [
    "while True:\n",
    "    msg = input('Ketikan karakter : ').lower()\n",
    "    print(msg)\n",
    "    if msg == 'stop':\n",
    "        break"
   ]
  },
  {
   "cell_type": "code",
   "execution_count": null,
   "id": "65b407d9",
   "metadata": {},
   "outputs": [],
   "source": []
  }
 ],
 "metadata": {
  "kernelspec": {
   "display_name": "Python 3 (ipykernel)",
   "language": "python",
   "name": "python3"
  },
  "language_info": {
   "codemirror_mode": {
    "name": "ipython",
    "version": 3
   },
   "file_extension": ".py",
   "mimetype": "text/x-python",
   "name": "python",
   "nbconvert_exporter": "python",
   "pygments_lexer": "ipython3",
   "version": "3.9.7"
  },
  "toc": {
   "base_numbering": 1,
   "nav_menu": {},
   "number_sections": true,
   "sideBar": true,
   "skip_h1_title": false,
   "title_cell": "Table of Contents",
   "title_sidebar": "Contents",
   "toc_cell": false,
   "toc_position": {},
   "toc_section_display": true,
   "toc_window_display": false
  }
 },
 "nbformat": 4,
 "nbformat_minor": 5
}
