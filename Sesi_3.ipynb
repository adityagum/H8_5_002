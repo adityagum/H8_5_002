{
 "cells": [
  {
   "cell_type": "markdown",
   "id": "2be3682f",
   "metadata": {},
   "source": [
    "Function, Basic Modul and Package"
   ]
  },
  {
   "cell_type": "markdown",
   "id": "6c4a3632",
   "metadata": {},
   "source": [
    "# Function"
   ]
  },
  {
   "cell_type": "code",
   "execution_count": 5,
   "id": "39f4d3ab",
   "metadata": {},
   "outputs": [],
   "source": [
    "def function_name(parameters):\n",
    "    'docstring'\n",
    "    statement(s)"
   ]
  },
  {
   "cell_type": "code",
   "execution_count": 7,
   "id": "0f1b99b0",
   "metadata": {},
   "outputs": [],
   "source": [
    "def my_function(p, l):\n",
    "    'Function untuk menghitung luas persegi panjang'\n",
    "    print(p * l)"
   ]
  },
  {
   "cell_type": "code",
   "execution_count": 8,
   "id": "a7174ea7",
   "metadata": {},
   "outputs": [
    {
     "name": "stdout",
     "output_type": "stream",
     "text": [
      "8\n"
     ]
    }
   ],
   "source": [
    "my_function(2,4)"
   ]
  },
  {
   "cell_type": "code",
   "execution_count": 11,
   "id": "f18ace83",
   "metadata": {},
   "outputs": [
    {
     "name": "stdout",
     "output_type": "stream",
     "text": [
      "Im first call to user defined function!\n"
     ]
    }
   ],
   "source": [
    "def printme(str):\n",
    "    'This prints a passed string into this function'\n",
    "    print(str)\n",
    "    return;\n",
    "\n",
    "printme('Im first call to user defined function!')"
   ]
  },
  {
   "cell_type": "markdown",
   "id": "3f6394f1",
   "metadata": {},
   "source": [
    "# Pass by reference vs value"
   ]
  },
  {
   "cell_type": "code",
   "execution_count": 12,
   "id": "bc86978f",
   "metadata": {},
   "outputs": [],
   "source": [
    "def changeme(mylist):\n",
    "    'This changes a passed list into this function'\n",
    "    mylist.append([1,2,3,4]);\n",
    "    print('Values inside the function: ', mylist)\n",
    "    return"
   ]
  },
  {
   "cell_type": "code",
   "execution_count": 13,
   "id": "cfff7339",
   "metadata": {},
   "outputs": [
    {
     "name": "stdout",
     "output_type": "stream",
     "text": [
      "Values inside the function:  [10, 20, 30, [1, 2, 3, 4]]\n",
      "Values outside the function:  [10, 20, 30, [1, 2, 3, 4]]\n"
     ]
    }
   ],
   "source": [
    "mylist = [10, 20,30];\n",
    "changeme(mylist);\n",
    "print('Values outside the function: ',mylist)"
   ]
  },
  {
   "cell_type": "code",
   "execution_count": 14,
   "id": "47ed7031",
   "metadata": {},
   "outputs": [],
   "source": [
    "def changeme(mylist):\n",
    "    'This changes a passed list into this function'\n",
    "    mylist = [1,2,3,4];\n",
    "    print('Values inside the function: ', mylist)\n",
    "    return"
   ]
  },
  {
   "cell_type": "code",
   "execution_count": 80,
   "id": "d5571ef8",
   "metadata": {},
   "outputs": [
    {
     "name": "stdout",
     "output_type": "stream",
     "text": [
      "Values inside the function:  [1, 2, 3, 4]\n",
      "Values outside the function:  [10, 20, 30]\n"
     ]
    }
   ],
   "source": [
    "mylist = [10, 20,30];\n",
    "changeme(mylist);\n",
    "print('Values outside the function: ',mylist)"
   ]
  },
  {
   "cell_type": "code",
   "execution_count": 82,
   "id": "434a791b",
   "metadata": {},
   "outputs": [],
   "source": [
    "#Menggunakan copy()\n",
    "def changeme(mylist):\n",
    "    'This changes a passed list into this function'\n",
    "    mylist.append([1,2,3,4]);\n",
    "    print('Values inside the function: ', mylist)\n",
    "    return"
   ]
  },
  {
   "cell_type": "code",
   "execution_count": 83,
   "id": "97c6e5b2",
   "metadata": {},
   "outputs": [
    {
     "name": "stdout",
     "output_type": "stream",
     "text": [
      "Values inside the function:  [10, 20, 30, [1, 2, 3, 4]]\n",
      "Values outside the function:  [10, 20, 30]\n"
     ]
    }
   ],
   "source": [
    "mylist = [10, 20,30];\n",
    "changeme(mylist.copy());\n",
    "print('Values outside the function: ',mylist)"
   ]
  },
  {
   "cell_type": "code",
   "execution_count": 84,
   "id": "52c0a828",
   "metadata": {},
   "outputs": [
    {
     "name": "stdout",
     "output_type": "stream",
     "text": [
      "8\n",
      "In function squared, num =  64\n",
      "Num after being passed on function::  8\n"
     ]
    }
   ],
   "source": [
    "# pass by value\n",
    "def squared(num):\n",
    "    num *= num # num = num * num\n",
    "    print(\"In function squared, num = \", num)\n",
    "    \n",
    "num = 8\n",
    "print(num)\n",
    "squared(num)\n",
    "print(\"Num after being passed on function:: \", num)\n"
   ]
  },
  {
   "cell_type": "markdown",
   "id": "6e579804",
   "metadata": {},
   "source": [
    "## Required Argument"
   ]
  },
  {
   "cell_type": "code",
   "execution_count": 17,
   "id": "b99248a8",
   "metadata": {},
   "outputs": [],
   "source": [
    "def printme(str):\n",
    "    'This prints a passed string into this function'\n",
    "    print(str)\n",
    "    return;"
   ]
  },
  {
   "cell_type": "code",
   "execution_count": 18,
   "id": "bbea7e8e",
   "metadata": {},
   "outputs": [
    {
     "ename": "TypeError",
     "evalue": "printme() missing 1 required positional argument: 'str'",
     "output_type": "error",
     "traceback": [
      "\u001b[1;31m---------------------------------------------------------------------------\u001b[0m",
      "\u001b[1;31mTypeError\u001b[0m                                 Traceback (most recent call last)",
      "\u001b[1;32m~\\AppData\\Local\\Temp/ipykernel_21208/1080563845.py\u001b[0m in \u001b[0;36m<module>\u001b[1;34m\u001b[0m\n\u001b[1;32m----> 1\u001b[1;33m \u001b[0mprintme\u001b[0m\u001b[1;33m(\u001b[0m\u001b[1;33m)\u001b[0m\u001b[1;33m\u001b[0m\u001b[1;33m\u001b[0m\u001b[0m\n\u001b[0m",
      "\u001b[1;31mTypeError\u001b[0m: printme() missing 1 required positional argument: 'str'"
     ]
    }
   ],
   "source": [
    "printme()"
   ]
  },
  {
   "cell_type": "markdown",
   "id": "fa8c1362",
   "metadata": {},
   "source": [
    "## Keyword arguments"
   ]
  },
  {
   "cell_type": "code",
   "execution_count": 64,
   "id": "6d1d6d4d",
   "metadata": {},
   "outputs": [],
   "source": [
    "def printme(str):\n",
    "    'This prints a passed string into this function'\n",
    "    print(str)\n",
    "    return;"
   ]
  },
  {
   "cell_type": "code",
   "execution_count": 65,
   "id": "62df66c5",
   "metadata": {},
   "outputs": [
    {
     "name": "stdout",
     "output_type": "stream",
     "text": [
      "Hacktiv8\n"
     ]
    }
   ],
   "source": [
    "printme(str = 'Hacktiv8')"
   ]
  },
  {
   "cell_type": "code",
   "execution_count": 78,
   "id": "8679823b",
   "metadata": {},
   "outputs": [],
   "source": [
    "def printINT(int):\n",
    "    'This prints a passed string into this function'\n",
    "    print(int)\n",
    "    return;"
   ]
  },
  {
   "cell_type": "code",
   "execution_count": 79,
   "id": "54f2546a",
   "metadata": {},
   "outputs": [
    {
     "name": "stdout",
     "output_type": "stream",
     "text": [
      "Hello World\n"
     ]
    }
   ],
   "source": [
    "printINT('Hello World')"
   ]
  },
  {
   "cell_type": "code",
   "execution_count": 62,
   "id": "66132e8a",
   "metadata": {},
   "outputs": [],
   "source": [
    "def printme(age, nama):\n",
    "    'This prints a passed string into this function'\n",
    "    print('Name: ', nama)\n",
    "    print('Age: ', age)\n",
    "    return;"
   ]
  },
  {
   "cell_type": "code",
   "execution_count": 60,
   "id": "9697fdd6",
   "metadata": {},
   "outputs": [
    {
     "name": "stdout",
     "output_type": "stream",
     "text": [
      "Name:  David\n",
      "Age:  8\n"
     ]
    }
   ],
   "source": [
    "printme(age = 8, nama = 'David')"
   ]
  },
  {
   "cell_type": "markdown",
   "id": "3e0483b2",
   "metadata": {},
   "source": [
    "## Default Argument"
   ]
  },
  {
   "cell_type": "code",
   "execution_count": 89,
   "id": "2eca94e2",
   "metadata": {},
   "outputs": [],
   "source": [
    "def printme(nama, age = 26):\n",
    "    'This prints a passed string into this function'\n",
    "    print('Name: ', nama)\n",
    "    print('Age: ', age)\n",
    "    return;"
   ]
  },
  {
   "cell_type": "code",
   "execution_count": 90,
   "id": "4f6b175c",
   "metadata": {},
   "outputs": [
    {
     "name": "stdout",
     "output_type": "stream",
     "text": [
      "Name:  Budi\n",
      "Age:  26\n"
     ]
    }
   ],
   "source": [
    "printme('Budi')"
   ]
  },
  {
   "cell_type": "code",
   "execution_count": 91,
   "id": "33064083",
   "metadata": {},
   "outputs": [
    {
     "name": "stdout",
     "output_type": "stream",
     "text": [
      "Name:  hacktiv8\n",
      "Age:  50\n",
      "Name:  hacktiv\n",
      "Age:  26\n"
     ]
    }
   ],
   "source": [
    "printme(nama= 'hacktiv8', age=50)\n",
    "printme(nama= 'hacktiv')"
   ]
  },
  {
   "cell_type": "markdown",
   "id": "e3555fc9",
   "metadata": {},
   "source": [
    "## Variable Length Arguments"
   ]
  },
  {
   "cell_type": "code",
   "execution_count": 96,
   "id": "37418059",
   "metadata": {},
   "outputs": [],
   "source": [
    "def printinfo(arg1, *vartuple):\n",
    "    'This prints a passed string into this function'\n",
    "    print('Output is: ')\n",
    "    print(arg1)\n",
    "    for var in vartuple:\n",
    "          print(var)\n",
    "    return;"
   ]
  },
  {
   "cell_type": "code",
   "execution_count": 99,
   "id": "5f6cc167",
   "metadata": {},
   "outputs": [
    {
     "name": "stdout",
     "output_type": "stream",
     "text": [
      "Output is: \n",
      "10\n",
      "Output is: \n",
      "70\n",
      "60\n",
      "50\n",
      "a\n"
     ]
    }
   ],
   "source": [
    "printinfo(10)\n",
    "printinfo(70,60,50,'a')"
   ]
  },
  {
   "cell_type": "code",
   "execution_count": 102,
   "id": "ff50fe59",
   "metadata": {},
   "outputs": [],
   "source": [
    "# def buy(cusname, **items):\n",
    "#     'This prints a passed string into this function'\n",
    "#     print('Output is: ')\n",
    "#     print(cusname)\n",
    "#     for var in items:\n",
    "#           print(var)\n",
    "#     return;"
   ]
  },
  {
   "cell_type": "code",
   "execution_count": 104,
   "id": "2d4af553",
   "metadata": {},
   "outputs": [
    {
     "name": "stdout",
     "output_type": "stream",
     "text": [
      "Output is: \n",
      "Ani\n",
      "items\n"
     ]
    }
   ],
   "source": [
    "# buy('Ani', items = ('egg', 'melon', 'gula', 'mangga', 'sabun'))"
   ]
  },
  {
   "cell_type": "markdown",
   "id": "5d638d33",
   "metadata": {},
   "source": [
    "# The Anonymous Functions"
   ]
  },
  {
   "cell_type": "code",
   "execution_count": 55,
   "id": "df7f1bcd",
   "metadata": {},
   "outputs": [],
   "source": [
    "sum = lambda arg1, arg2: arg1 + arg2;\n",
    "\n",
    "def sum(arg1, arg2):\n",
    "    return arg1 + arg2"
   ]
  },
  {
   "cell_type": "code",
   "execution_count": 56,
   "id": "a22ff11b",
   "metadata": {},
   "outputs": [
    {
     "name": "stdout",
     "output_type": "stream",
     "text": [
      "Value of total:  25\n",
      "Value of total:  30\n"
     ]
    }
   ],
   "source": [
    "print(\"Value of total: \", sum(5,20))\n",
    "print(\"Value of total: \", sum(10,20))"
   ]
  },
  {
   "cell_type": "code",
   "execution_count": 121,
   "id": "bab4c1be",
   "metadata": {},
   "outputs": [],
   "source": [
    "def sum(arg1, arg2):\n",
    "    total = arg1 + arg2\n",
    "    total2 = total + arg1\n",
    "    print('Inside the function: ', total)\n",
    "    return total2"
   ]
  },
  {
   "cell_type": "code",
   "execution_count": 122,
   "id": "0fafe949",
   "metadata": {},
   "outputs": [
    {
     "name": "stdout",
     "output_type": "stream",
     "text": [
      "Inside the function:  30\n",
      "Outside the function:  40\n"
     ]
    }
   ],
   "source": [
    "total = sum(10,20)\n",
    "print('Outside the function: ', total)"
   ]
  },
  {
   "cell_type": "code",
   "execution_count": 123,
   "id": "4a14b2e1",
   "metadata": {},
   "outputs": [
    {
     "name": "stdout",
     "output_type": "stream",
     "text": [
      "Inside the function :  40\n",
      "a = 50\n",
      "b = 40\n",
      "c = 1000\n"
     ]
    }
   ],
   "source": [
    "def sum(arg1, arg2):                       \t# 10, 20\n",
    "# Add both the parameters and return them.\n",
    "    total = arg1 + arg2                    \t# total(func-level var) = 30\n",
    "    total2 = total + arg1                  \t# total2 = 40\n",
    "    print(\"Inside the function : \", total) \t# 30\n",
    "    return total2, total, 1000             \t# 40, 30, 1000\n",
    "\n",
    "(a, b, c) = sum(10, 30)\n",
    "print(\"a =\", a)\n",
    "print(\"b =\", b)\n",
    "print(\"c =\", c)\n"
   ]
  },
  {
   "cell_type": "markdown",
   "id": "583a7c64",
   "metadata": {},
   "source": [
    "# Scope Variable"
   ]
  },
  {
   "cell_type": "markdown",
   "id": "2a8b9b35",
   "metadata": {},
   "source": [
    "## Global vs Local Variables"
   ]
  },
  {
   "cell_type": "code",
   "execution_count": 118,
   "id": "70003e6a",
   "metadata": {},
   "outputs": [],
   "source": [
    "hasil = 0;\n",
    "\n",
    "def sum(arg1, arg2):\n",
    "    total = arg1 + arg2\n",
    "    print('Inside the function local total: ', total)\n",
    "    return total;"
   ]
  },
  {
   "cell_type": "code",
   "execution_count": 119,
   "id": "1c3d46ad",
   "metadata": {},
   "outputs": [
    {
     "name": "stdout",
     "output_type": "stream",
     "text": [
      "Inside the function local total:  30\n",
      "Outside the function:  0\n"
     ]
    }
   ],
   "source": [
    "sum(10,20)\n",
    "print('Outside the function: ', total)"
   ]
  },
  {
   "cell_type": "code",
   "execution_count": 124,
   "id": "c8d4d19e",
   "metadata": {},
   "outputs": [],
   "source": [
    "jk = 20\n",
    "\n",
    "def jumlahhewan():\n",
    "    jumlahanj = 30\n",
    "    return jk + jumlahanj\n",
    "\n",
    "def jumken():\n",
    "    return jk + jk"
   ]
  },
  {
   "cell_type": "code",
   "execution_count": 126,
   "id": "4536faad",
   "metadata": {},
   "outputs": [
    {
     "name": "stdout",
     "output_type": "stream",
     "text": [
      "50\n",
      "40\n"
     ]
    }
   ],
   "source": [
    "print(jumlahhewan())\n",
    "print(jumken())"
   ]
  },
  {
   "cell_type": "markdown",
   "id": "9a8014dc",
   "metadata": {},
   "source": [
    "# Python Modules"
   ]
  },
  {
   "cell_type": "code",
   "execution_count": 128,
   "id": "3f2bd639",
   "metadata": {},
   "outputs": [],
   "source": [
    "import mod"
   ]
  },
  {
   "cell_type": "code",
   "execution_count": 129,
   "id": "8b1a4572",
   "metadata": {},
   "outputs": [
    {
     "name": "stdout",
     "output_type": "stream",
     "text": [
      "Hacktiv8-PTP Python for Data Science\n"
     ]
    }
   ],
   "source": [
    "print(mod.s)"
   ]
  },
  {
   "cell_type": "code",
   "execution_count": 130,
   "id": "8a48faee",
   "metadata": {},
   "outputs": [
    {
     "name": "stdout",
     "output_type": "stream",
     "text": [
      "[100, 200, 300]\n"
     ]
    }
   ],
   "source": [
    "print(mod.a)"
   ]
  },
  {
   "cell_type": "code",
   "execution_count": 133,
   "id": "6d2de57b",
   "metadata": {},
   "outputs": [
    {
     "name": "stdout",
     "output_type": "stream",
     "text": [
      "arg = ['quux', 'corge', 'grault']\n"
     ]
    }
   ],
   "source": [
    "mod.foo(['quux', 'corge', 'grault'])"
   ]
  },
  {
   "cell_type": "code",
   "execution_count": 135,
   "id": "33cf8ea3",
   "metadata": {},
   "outputs": [],
   "source": [
    "x = mod.Foo()"
   ]
  },
  {
   "cell_type": "code",
   "execution_count": 136,
   "id": "a03ee36d",
   "metadata": {},
   "outputs": [
    {
     "data": {
      "text/plain": [
       "<mod.Foo at 0x249832db640>"
      ]
     },
     "execution_count": 136,
     "metadata": {},
     "output_type": "execute_result"
    }
   ],
   "source": [
    "x"
   ]
  },
  {
   "cell_type": "code",
   "execution_count": 138,
   "id": "44ebf513",
   "metadata": {},
   "outputs": [
    {
     "data": {
      "text/plain": [
       "['U:\\\\Aditya Gumilar\\\\Course Or Bootcamp\\\\Studi Independen Hacktiv8\\\\PYTN-KS05',\n",
       " 'C:\\\\Users\\\\ASUS\\\\anaconda3\\\\python39.zip',\n",
       " 'C:\\\\Users\\\\ASUS\\\\anaconda3\\\\DLLs',\n",
       " 'C:\\\\Users\\\\ASUS\\\\anaconda3\\\\lib',\n",
       " 'C:\\\\Users\\\\ASUS\\\\anaconda3',\n",
       " '',\n",
       " 'C:\\\\Users\\\\ASUS\\\\AppData\\\\Roaming\\\\Python\\\\Python39\\\\site-packages',\n",
       " 'C:\\\\Users\\\\ASUS\\\\anaconda3\\\\lib\\\\site-packages',\n",
       " 'C:\\\\Users\\\\ASUS\\\\anaconda3\\\\lib\\\\site-packages\\\\locket-0.2.1-py3.9.egg',\n",
       " 'C:\\\\Users\\\\ASUS\\\\anaconda3\\\\lib\\\\site-packages\\\\win32',\n",
       " 'C:\\\\Users\\\\ASUS\\\\anaconda3\\\\lib\\\\site-packages\\\\win32\\\\lib',\n",
       " 'C:\\\\Users\\\\ASUS\\\\anaconda3\\\\lib\\\\site-packages\\\\Pythonwin',\n",
       " 'C:\\\\Users\\\\ASUS\\\\anaconda3\\\\lib\\\\site-packages\\\\IPython\\\\extensions',\n",
       " 'C:\\\\Users\\\\ASUS\\\\.ipython']"
      ]
     },
     "execution_count": 138,
     "metadata": {},
     "output_type": "execute_result"
    }
   ],
   "source": [
    "import sys\n",
    "sys.path"
   ]
  },
  {
   "cell_type": "code",
   "execution_count": 139,
   "id": "d2730a75",
   "metadata": {},
   "outputs": [
    {
     "data": {
      "text/plain": [
       "'U:\\\\Aditya Gumilar\\\\Course Or Bootcamp\\\\Studi Independen Hacktiv8\\\\PYTN-KS05\\\\mod.py'"
      ]
     },
     "execution_count": 139,
     "metadata": {},
     "output_type": "execute_result"
    }
   ],
   "source": [
    "mod.__file__"
   ]
  },
  {
   "cell_type": "code",
   "execution_count": 141,
   "id": "8640ec13",
   "metadata": {},
   "outputs": [
    {
     "data": {
      "text/plain": [
       "'C:\\\\Users\\\\ASUS\\\\anaconda3\\\\lib\\\\re.py'"
      ]
     },
     "execution_count": 141,
     "metadata": {},
     "output_type": "execute_result"
    }
   ],
   "source": [
    "import re\n",
    "re.__file__"
   ]
  },
  {
   "cell_type": "markdown",
   "id": "98fcad60",
   "metadata": {},
   "source": [
    "# The Import Statement"
   ]
  },
  {
   "cell_type": "code",
   "execution_count": 142,
   "id": "c80a5583",
   "metadata": {},
   "outputs": [
    {
     "data": {
      "text/plain": [
       "<module 'mod' from 'U:\\\\Aditya Gumilar\\\\Course Or Bootcamp\\\\Studi Independen Hacktiv8\\\\PYTN-KS05\\\\mod.py'>"
      ]
     },
     "execution_count": 142,
     "metadata": {},
     "output_type": "execute_result"
    }
   ],
   "source": [
    "mod"
   ]
  },
  {
   "cell_type": "code",
   "execution_count": 143,
   "id": "c903abad",
   "metadata": {},
   "outputs": [
    {
     "name": "stdout",
     "output_type": "stream",
     "text": [
      "Hacktiv8-PTP Python for Data Science\n",
      "arg = quux\n",
      "None\n"
     ]
    }
   ],
   "source": [
    "print(mod.s)\n",
    "print(mod.foo('quux'))"
   ]
  },
  {
   "cell_type": "markdown",
   "id": "8d1a5a12",
   "metadata": {},
   "source": [
    "## from nama_modul import nama"
   ]
  },
  {
   "cell_type": "code",
   "execution_count": 144,
   "id": "3a402dfa",
   "metadata": {},
   "outputs": [
    {
     "data": {
      "text/plain": [
       "'Hacktiv8-PTP Python for Data Science'"
      ]
     },
     "execution_count": 144,
     "metadata": {},
     "output_type": "execute_result"
    }
   ],
   "source": [
    "from mod import s, foo\n",
    "s"
   ]
  },
  {
   "cell_type": "code",
   "execution_count": 146,
   "id": "34652040",
   "metadata": {},
   "outputs": [
    {
     "name": "stdout",
     "output_type": "stream",
     "text": [
      "arg = quux\n"
     ]
    }
   ],
   "source": [
    "foo('quux')"
   ]
  },
  {
   "cell_type": "code",
   "execution_count": 147,
   "id": "a3fd3fca",
   "metadata": {},
   "outputs": [
    {
     "data": {
      "text/plain": [
       "<mod.Foo at 0x24983ae5280>"
      ]
     },
     "execution_count": 147,
     "metadata": {},
     "output_type": "execute_result"
    }
   ],
   "source": [
    "from mod import Foo\n",
    "x = Foo()\n",
    "x"
   ]
  },
  {
   "cell_type": "code",
   "execution_count": 148,
   "id": "289e92d8",
   "metadata": {},
   "outputs": [
    {
     "data": {
      "text/plain": [
       "['foo', 'bar', 'baz']"
      ]
     },
     "execution_count": 148,
     "metadata": {},
     "output_type": "execute_result"
    }
   ],
   "source": [
    "a = ['foo', 'bar', 'baz']\n",
    "a"
   ]
  },
  {
   "cell_type": "code",
   "execution_count": 150,
   "id": "93848a7c",
   "metadata": {},
   "outputs": [
    {
     "data": {
      "text/plain": [
       "[100, 200, 300]"
      ]
     },
     "execution_count": 150,
     "metadata": {},
     "output_type": "execute_result"
    }
   ],
   "source": [
    "from mod import a\n",
    "a"
   ]
  },
  {
   "cell_type": "markdown",
   "id": "83bfd9be",
   "metadata": {},
   "source": [
    "## From modul import *"
   ]
  },
  {
   "cell_type": "code",
   "execution_count": 152,
   "id": "b32f0f27",
   "metadata": {},
   "outputs": [
    {
     "data": {
      "text/plain": [
       "'Hacktiv8-PTP Python for Data Science'"
      ]
     },
     "execution_count": 152,
     "metadata": {},
     "output_type": "execute_result"
    }
   ],
   "source": [
    "from mod import *\n",
    "s"
   ]
  },
  {
   "cell_type": "code",
   "execution_count": 153,
   "id": "a6570788",
   "metadata": {},
   "outputs": [
    {
     "data": {
      "text/plain": [
       "[100, 200, 300]"
      ]
     },
     "execution_count": 153,
     "metadata": {},
     "output_type": "execute_result"
    }
   ],
   "source": [
    "a"
   ]
  },
  {
   "cell_type": "code",
   "execution_count": 156,
   "id": "4c30ac9a",
   "metadata": {},
   "outputs": [
    {
     "name": "stdout",
     "output_type": "stream",
     "text": [
      "<function foo at 0x000002498329FE50>\n"
     ]
    }
   ],
   "source": [
    "print(foo)"
   ]
  },
  {
   "cell_type": "code",
   "execution_count": 157,
   "id": "674d2415",
   "metadata": {},
   "outputs": [
    {
     "name": "stdout",
     "output_type": "stream",
     "text": [
      "<class 'mod.Foo'>\n"
     ]
    }
   ],
   "source": [
    "print(Foo)"
   ]
  },
  {
   "cell_type": "markdown",
   "id": "c621409e",
   "metadata": {},
   "source": [
    "## from modul import name as name"
   ]
  },
  {
   "cell_type": "code",
   "execution_count": 159,
   "id": "50846506",
   "metadata": {},
   "outputs": [
    {
     "data": {
      "text/plain": [
       "'foo'"
      ]
     },
     "execution_count": 159,
     "metadata": {},
     "output_type": "execute_result"
    }
   ],
   "source": [
    "s = 'foo'\n",
    "a = ['foo', 'bar', 'baz']\n",
    "\n",
    "from mod import s as string, a as alist\n",
    "s"
   ]
  },
  {
   "cell_type": "code",
   "execution_count": 160,
   "id": "53f587ac",
   "metadata": {},
   "outputs": [
    {
     "data": {
      "text/plain": [
       "'Hacktiv8-PTP Python for Data Science'"
      ]
     },
     "execution_count": 160,
     "metadata": {},
     "output_type": "execute_result"
    }
   ],
   "source": [
    "string"
   ]
  },
  {
   "cell_type": "code",
   "execution_count": 161,
   "id": "a219a13a",
   "metadata": {},
   "outputs": [
    {
     "data": {
      "text/plain": [
       "['foo', 'bar', 'baz']"
      ]
     },
     "execution_count": 161,
     "metadata": {},
     "output_type": "execute_result"
    }
   ],
   "source": [
    "a"
   ]
  },
  {
   "cell_type": "code",
   "execution_count": 162,
   "id": "931a4a60",
   "metadata": {},
   "outputs": [
    {
     "data": {
      "text/plain": [
       "[100, 200, 300]"
      ]
     },
     "execution_count": 162,
     "metadata": {},
     "output_type": "execute_result"
    }
   ],
   "source": [
    "alist"
   ]
  },
  {
   "cell_type": "code",
   "execution_count": 163,
   "id": "a0423166",
   "metadata": {},
   "outputs": [],
   "source": [
    "# Bisa digunakan juga import modul as modul_nama_baru"
   ]
  },
  {
   "cell_type": "markdown",
   "id": "89bfbee0",
   "metadata": {},
   "source": [
    "## import modul menggunakan fungsi"
   ]
  },
  {
   "cell_type": "code",
   "execution_count": 165,
   "id": "e1e3e2df",
   "metadata": {},
   "outputs": [],
   "source": [
    "def bar():\n",
    "    from mod import foo\n",
    "    foo('corge')"
   ]
  },
  {
   "cell_type": "code",
   "execution_count": 166,
   "id": "bf2feb5b",
   "metadata": {},
   "outputs": [
    {
     "name": "stdout",
     "output_type": "stream",
     "text": [
      "arg = corge\n"
     ]
    }
   ],
   "source": [
    "bar()"
   ]
  },
  {
   "cell_type": "code",
   "execution_count": 167,
   "id": "c26f6525",
   "metadata": {},
   "outputs": [],
   "source": [
    "# Pada python 3 tidak mengizinkan syntax import * secara sembarangan dari dalam suatu fungsi"
   ]
  },
  {
   "cell_type": "code",
   "execution_count": 169,
   "id": "7d8a0f77",
   "metadata": {},
   "outputs": [],
   "source": [
    "# Sebagai tambahan, try statement dengan klausa except importError dapat digunakan untuk melindungi dari upaya import yang gagal"
   ]
  },
  {
   "cell_type": "code",
   "execution_count": 170,
   "id": "7b597b03",
   "metadata": {},
   "outputs": [
    {
     "data": {
      "text/plain": [
       "['Foo',\n",
       " 'In',\n",
       " 'Out',\n",
       " '_',\n",
       " '_125',\n",
       " '_134',\n",
       " '_136',\n",
       " '_138',\n",
       " '_139',\n",
       " '_141',\n",
       " '_142',\n",
       " '_144',\n",
       " '_145',\n",
       " '_147',\n",
       " '_148',\n",
       " '_150',\n",
       " '_152',\n",
       " '_153',\n",
       " '_154',\n",
       " '_155',\n",
       " '_159',\n",
       " '_160',\n",
       " '_161',\n",
       " '_162',\n",
       " '__',\n",
       " '___',\n",
       " '__builtin__',\n",
       " '__builtins__',\n",
       " '__doc__',\n",
       " '__loader__',\n",
       " '__name__',\n",
       " '__package__',\n",
       " '__spec__',\n",
       " '_dh',\n",
       " '_i',\n",
       " '_i1',\n",
       " '_i10',\n",
       " '_i100',\n",
       " '_i101',\n",
       " '_i102',\n",
       " '_i103',\n",
       " '_i104',\n",
       " '_i105',\n",
       " '_i106',\n",
       " '_i107',\n",
       " '_i108',\n",
       " '_i109',\n",
       " '_i11',\n",
       " '_i110',\n",
       " '_i111',\n",
       " '_i112',\n",
       " '_i113',\n",
       " '_i114',\n",
       " '_i115',\n",
       " '_i116',\n",
       " '_i117',\n",
       " '_i118',\n",
       " '_i119',\n",
       " '_i12',\n",
       " '_i120',\n",
       " '_i121',\n",
       " '_i122',\n",
       " '_i123',\n",
       " '_i124',\n",
       " '_i125',\n",
       " '_i126',\n",
       " '_i127',\n",
       " '_i128',\n",
       " '_i129',\n",
       " '_i13',\n",
       " '_i130',\n",
       " '_i131',\n",
       " '_i132',\n",
       " '_i133',\n",
       " '_i134',\n",
       " '_i135',\n",
       " '_i136',\n",
       " '_i137',\n",
       " '_i138',\n",
       " '_i139',\n",
       " '_i14',\n",
       " '_i140',\n",
       " '_i141',\n",
       " '_i142',\n",
       " '_i143',\n",
       " '_i144',\n",
       " '_i145',\n",
       " '_i146',\n",
       " '_i147',\n",
       " '_i148',\n",
       " '_i149',\n",
       " '_i15',\n",
       " '_i150',\n",
       " '_i151',\n",
       " '_i152',\n",
       " '_i153',\n",
       " '_i154',\n",
       " '_i155',\n",
       " '_i156',\n",
       " '_i157',\n",
       " '_i158',\n",
       " '_i159',\n",
       " '_i16',\n",
       " '_i160',\n",
       " '_i161',\n",
       " '_i162',\n",
       " '_i163',\n",
       " '_i164',\n",
       " '_i165',\n",
       " '_i166',\n",
       " '_i167',\n",
       " '_i168',\n",
       " '_i169',\n",
       " '_i17',\n",
       " '_i170',\n",
       " '_i18',\n",
       " '_i19',\n",
       " '_i2',\n",
       " '_i20',\n",
       " '_i21',\n",
       " '_i22',\n",
       " '_i23',\n",
       " '_i24',\n",
       " '_i25',\n",
       " '_i26',\n",
       " '_i27',\n",
       " '_i28',\n",
       " '_i29',\n",
       " '_i3',\n",
       " '_i30',\n",
       " '_i31',\n",
       " '_i32',\n",
       " '_i33',\n",
       " '_i34',\n",
       " '_i35',\n",
       " '_i36',\n",
       " '_i37',\n",
       " '_i38',\n",
       " '_i39',\n",
       " '_i4',\n",
       " '_i40',\n",
       " '_i41',\n",
       " '_i42',\n",
       " '_i43',\n",
       " '_i44',\n",
       " '_i45',\n",
       " '_i46',\n",
       " '_i47',\n",
       " '_i48',\n",
       " '_i49',\n",
       " '_i5',\n",
       " '_i50',\n",
       " '_i51',\n",
       " '_i52',\n",
       " '_i53',\n",
       " '_i54',\n",
       " '_i55',\n",
       " '_i56',\n",
       " '_i57',\n",
       " '_i58',\n",
       " '_i59',\n",
       " '_i6',\n",
       " '_i60',\n",
       " '_i61',\n",
       " '_i62',\n",
       " '_i63',\n",
       " '_i64',\n",
       " '_i65',\n",
       " '_i66',\n",
       " '_i67',\n",
       " '_i68',\n",
       " '_i69',\n",
       " '_i7',\n",
       " '_i70',\n",
       " '_i71',\n",
       " '_i72',\n",
       " '_i73',\n",
       " '_i74',\n",
       " '_i75',\n",
       " '_i76',\n",
       " '_i77',\n",
       " '_i78',\n",
       " '_i79',\n",
       " '_i8',\n",
       " '_i80',\n",
       " '_i81',\n",
       " '_i82',\n",
       " '_i83',\n",
       " '_i84',\n",
       " '_i85',\n",
       " '_i86',\n",
       " '_i87',\n",
       " '_i88',\n",
       " '_i89',\n",
       " '_i9',\n",
       " '_i90',\n",
       " '_i91',\n",
       " '_i92',\n",
       " '_i93',\n",
       " '_i94',\n",
       " '_i95',\n",
       " '_i96',\n",
       " '_i97',\n",
       " '_i98',\n",
       " '_i99',\n",
       " '_ih',\n",
       " '_ii',\n",
       " '_iii',\n",
       " '_oh',\n",
       " 'a',\n",
       " 'alist',\n",
       " 'autopep8',\n",
       " 'b',\n",
       " 'bar',\n",
       " 'buy',\n",
       " 'c',\n",
       " 'changeme',\n",
       " 'exit',\n",
       " 'foo',\n",
       " 'function_name',\n",
       " 'get_ipython',\n",
       " 'hasil',\n",
       " 'jk',\n",
       " 'json',\n",
       " 'jumken',\n",
       " 'jumlahhewan',\n",
       " 'mod',\n",
       " 'my_function',\n",
       " 'mylist',\n",
       " 'num',\n",
       " 'printINT',\n",
       " 'printinfo',\n",
       " 'printme',\n",
       " 'quit',\n",
       " 're',\n",
       " 's',\n",
       " 'squared',\n",
       " 'string',\n",
       " 'sum',\n",
       " 'sys',\n",
       " 'total',\n",
       " 'x']"
      ]
     },
     "execution_count": 170,
     "metadata": {},
     "output_type": "execute_result"
    }
   ],
   "source": [
    "dir()"
   ]
  },
  {
   "cell_type": "code",
   "execution_count": 171,
   "id": "e1e6507e",
   "metadata": {},
   "outputs": [],
   "source": [
    "# dir() digunakana untuk mengidentifikasi apa yang telah ditambahkan pada namespace."
   ]
  },
  {
   "cell_type": "markdown",
   "id": "19d55714",
   "metadata": {},
   "source": [
    "Menggunakan fact.py"
   ]
  },
  {
   "cell_type": "code",
   "execution_count": 175,
   "id": "aaf015c1",
   "metadata": {},
   "outputs": [
    {
     "data": {
      "text/plain": [
       "720"
      ]
     },
     "execution_count": 175,
     "metadata": {},
     "output_type": "execute_result"
    }
   ],
   "source": [
    "from fact import fact\n",
    "fact(6)"
   ]
  },
  {
   "cell_type": "code",
   "execution_count": 176,
   "id": "ed62fe9b",
   "metadata": {},
   "outputs": [],
   "source": [
    "import mod"
   ]
  },
  {
   "cell_type": "code",
   "execution_count": null,
   "id": "a4659f72",
   "metadata": {},
   "outputs": [],
   "source": []
  },
  {
   "cell_type": "markdown",
   "id": "cc09b63c",
   "metadata": {},
   "source": [
    "# PIP "
   ]
  },
  {
   "cell_type": "code",
   "execution_count": 178,
   "id": "d89faffe",
   "metadata": {},
   "outputs": [
    {
     "name": "stdout",
     "output_type": "stream",
     "text": [
      "pip 21.2.4 from C:\\Users\\ASUS\\anaconda3\\lib\\site-packages\\pip (python 3.9)\n",
      "\n",
      "Note: you may need to restart the kernel to use updated packages.\n"
     ]
    }
   ],
   "source": [
    "pip --version"
   ]
  },
  {
   "cell_type": "code",
   "execution_count": 179,
   "id": "0c68521c",
   "metadata": {},
   "outputs": [
    {
     "name": "stdout",
     "output_type": "stream",
     "text": [
      "Requirement already satisfied: requests in c:\\users\\asus\\anaconda3\\lib\\site-packages (2.26.0)\n",
      "Requirement already satisfied: certifi>=2017.4.17 in c:\\users\\asus\\anaconda3\\lib\\site-packages (from requests) (2021.10.8)\n",
      "Requirement already satisfied: idna<4,>=2.5 in c:\\users\\asus\\anaconda3\\lib\\site-packages (from requests) (3.2)\n",
      "Requirement already satisfied: urllib3<1.27,>=1.21.1 in c:\\users\\asus\\anaconda3\\lib\\site-packages (from requests) (1.26.7)\n",
      "Requirement already satisfied: charset-normalizer~=2.0.0 in c:\\users\\asus\\anaconda3\\lib\\site-packages (from requests) (2.0.4)\n",
      "Note: you may need to restart the kernel to use updated packages.\n"
     ]
    }
   ],
   "source": [
    "pip install requests"
   ]
  },
  {
   "cell_type": "code",
   "execution_count": 180,
   "id": "dbb08210",
   "metadata": {},
   "outputs": [
    {
     "name": "stdout",
     "output_type": "stream",
     "text": [
      "Package                            Version\n",
      "---------------------------------- --------------------\n",
      "alabaster                          0.7.12\n",
      "anaconda-client                    1.9.0\n",
      "anaconda-navigator                 2.1.1\n",
      "anaconda-project                   0.10.1\n",
      "anyio                              2.2.0\n",
      "appdirs                            1.4.4\n",
      "argh                               0.26.2\n",
      "argon2-cffi                        20.1.0\n",
      "arrow                              0.13.1\n",
      "asn1crypto                         1.4.0\n",
      "astroid                            2.4.2\n",
      "astropy                            4.3.1\n",
      "async-generator                    1.10\n",
      "atomicwrites                       1.4.0\n",
      "attrs                              21.2.0\n",
      "autopep8                           1.5.7\n",
      "Babel                              2.9.1\n",
      "backcall                           0.2.0\n",
      "backports.functools-lru-cache      1.6.4\n",
      "backports.shutil-get-terminal-size 1.0.0\n",
      "backports.tempfile                 1.0\n",
      "backports.weakref                  1.0.post1\n",
      "bcrypt                             3.2.0\n",
      "beautifulsoup4                     4.10.0\n",
      "binaryornot                        0.4.4\n",
      "bitarray                           2.3.0\n",
      "bkcharts                           0.2\n",
      "black                              19.10b0\n",
      "bleach                             4.0.0\n",
      "bokeh                              2.4.1\n",
      "boto                               2.49.0\n",
      "Bottleneck                         1.3.2\n",
      "brotlipy                           0.7.0\n",
      "cached-property                    1.5.2\n",
      "certifi                            2021.10.8\n",
      "cffi                               1.14.6\n",
      "chardet                            4.0.0\n",
      "charset-normalizer                 2.0.4\n",
      "click                              8.0.3\n",
      "cloudpickle                        2.0.0\n",
      "clyent                             1.2.2\n",
      "colorama                           0.4.4\n",
      "comtypes                           1.1.10\n",
      "conda                              4.11.0\n",
      "conda-build                        3.21.6\n",
      "conda-content-trust                0+unknown\n",
      "conda-pack                         0.6.0\n",
      "conda-package-handling             1.7.3\n",
      "conda-repo-cli                     1.0.4\n",
      "conda-token                        0.3.0\n",
      "conda-verify                       3.4.2\n",
      "contextlib2                        0.6.0.post1\n",
      "cookiecutter                       1.7.2\n",
      "cryptography                       3.4.8\n",
      "cycler                             0.10.0\n",
      "Cython                             0.29.24\n",
      "cytoolz                            0.11.0\n",
      "daal4py                            2021.3.0\n",
      "dask                               2021.10.0\n",
      "debugpy                            1.4.1\n",
      "decorator                          5.1.0\n",
      "defusedxml                         0.7.1\n",
      "diff-match-patch                   20200713\n",
      "distributed                        2021.10.0\n",
      "docutils                           0.17.1\n",
      "entrypoints                        0.3\n",
      "et-xmlfile                         1.1.0\n",
      "fastcache                          1.1.0\n",
      "filelock                           3.3.1\n",
      "flake8                             3.9.2\n",
      "Flask                              1.1.2\n",
      "fonttools                          4.25.0\n",
      "fsspec                             2021.10.1\n",
      "future                             0.18.2\n",
      "gevent                             21.8.0\n",
      "glob2                              0.7\n",
      "greenlet                           1.1.1\n",
      "h5py                               3.2.1\n",
      "HeapDict                           1.0.1\n",
      "html5lib                           1.1\n",
      "idna                               3.2\n",
      "imagecodecs                        2021.8.26\n",
      "imageio                            2.9.0\n",
      "imagesize                          1.2.0\n",
      "importlib-metadata                 4.8.1\n",
      "inflection                         0.5.1\n",
      "iniconfig                          1.1.1\n",
      "intervaltree                       3.1.0\n",
      "ipykernel                          6.4.1\n",
      "ipython                            7.29.0\n",
      "ipython-genutils                   0.2.0\n",
      "ipywidgets                         7.6.5\n",
      "isort                              5.6.4\n",
      "itsdangerous                       2.0.1\n",
      "jdcal                              1.4.1\n",
      "jedi                               0.18.0\n",
      "Jinja2                             2.11.3\n",
      "jinja2-time                        0.2.0\n",
      "joblib                             1.1.0\n",
      "json5                              0.9.6\n",
      "jsonschema                         3.2.0\n",
      "jupyter                            1.0.0\n",
      "jupyter-client                     6.1.12\n",
      "jupyter-console                    6.4.0\n",
      "jupyter-contrib-core               0.3.3\n",
      "jupyter-contrib-nbextensions       0.5.1\n",
      "jupyter-core                       4.8.1\n",
      "jupyter-highlight-selected-word    0.2.0\n",
      "jupyter-latex-envs                 1.4.6\n",
      "jupyter-nbextensions-configurator  0.4.1\n",
      "jupyter-server                     1.4.1\n",
      "jupyterlab                         3.2.1\n",
      "jupyterlab-pygments                0.1.2\n",
      "jupyterlab-server                  2.8.2\n",
      "jupyterlab-widgets                 1.0.0\n",
      "keyring                            23.1.0\n",
      "kiwisolver                         1.3.1\n",
      "lazy-object-proxy                  1.4.3\n",
      "libarchive-c                       2.9\n",
      "llvmlite                           0.37.0\n",
      "locket                             0.2.1\n",
      "lxml                               4.6.3\n",
      "MarkupSafe                         1.1.1\n",
      "matplotlib                         3.4.3\n",
      "matplotlib-inline                  0.1.2\n",
      "mccabe                             0.6.1\n",
      "menuinst                           1.4.18\n",
      "mistune                            0.8.4\n",
      "mkl-fft                            1.3.1\n",
      "mkl-random                         1.2.2\n",
      "mkl-service                        2.4.0\n",
      "mock                               4.0.3\n",
      "more-itertools                     8.10.0\n",
      "mpmath                             1.2.1\n",
      "msgpack                            1.0.2\n",
      "multipledispatch                   0.6.0\n",
      "munkres                            1.1.4\n",
      "mypy-extensions                    0.4.3\n",
      "navigator-updater                  0.2.1\n",
      "nbclassic                          0.2.6\n",
      "nbclient                           0.5.3\n",
      "nbconvert                          6.1.0\n",
      "nbformat                           5.1.3\n",
      "nest-asyncio                       1.5.1\n",
      "networkx                           2.6.3\n",
      "nltk                               3.6.5\n",
      "nose                               1.3.7\n",
      "notebook                           6.4.5\n",
      "numba                              0.54.1\n",
      "numexpr                            2.7.3\n",
      "numpy                              1.20.3\n",
      "numpydoc                           1.1.0\n",
      "olefile                            0.46\n",
      "openpyxl                           3.0.9\n",
      "packaging                          21.0\n",
      "pandas                             1.3.4\n",
      "pandocfilters                      1.4.3\n",
      "paramiko                           2.7.2\n",
      "parso                              0.8.2\n",
      "partd                              1.2.0\n",
      "path                               16.0.0\n",
      "pathlib2                           2.3.6\n",
      "pathspec                           0.7.0\n",
      "patsy                              0.5.2\n",
      "pep8                               1.7.1\n",
      "pexpect                            4.8.0\n",
      "pickleshare                        0.7.5\n",
      "Pillow                             8.4.0\n",
      "pip                                21.2.4\n",
      "pkginfo                            1.7.1\n",
      "pluggy                             0.13.1\n",
      "ply                                3.11\n",
      "poyo                               0.5.0\n",
      "prometheus-client                  0.11.0\n",
      "prompt-toolkit                     3.0.20\n",
      "psutil                             5.8.0\n",
      "ptyprocess                         0.7.0\n",
      "py                                 1.10.0\n",
      "pycodestyle                        2.7.0\n",
      "pycosat                            0.6.3\n",
      "pycparser                          2.20\n",
      "pycurl                             7.44.1\n",
      "pydocstyle                         6.1.1\n",
      "pyerfa                             2.0.0\n",
      "pyflakes                           2.3.1\n",
      "Pygments                           2.10.0\n",
      "PyJWT                              2.1.0\n",
      "pylint                             2.6.0\n",
      "pyls-spyder                        0.4.0\n",
      "PyNaCl                             1.4.0\n",
      "pyodbc                             4.0.0-unsupported\n",
      "pyOpenSSL                          21.0.0\n",
      "pyparsing                          3.0.4\n",
      "pyreadline                         2.1\n",
      "pyrsistent                         0.18.0\n",
      "PySocks                            1.7.1\n",
      "pytest                             6.2.4\n",
      "python-dateutil                    2.8.2\n",
      "python-lsp-black                   1.0.0\n",
      "python-lsp-jsonrpc                 1.0.0\n",
      "python-lsp-server                  1.2.4\n",
      "python-slugify                     5.0.2\n",
      "pytz                               2021.3\n",
      "PyWavelets                         1.1.1\n",
      "pywin32                            228\n",
      "pywin32-ctypes                     0.2.0\n",
      "pywinpty                           0.5.7\n",
      "PyYAML                             6.0\n",
      "pyzmq                              22.2.1\n",
      "QDarkStyle                         3.0.2\n",
      "qstylizer                          0.1.10\n",
      "QtAwesome                          1.0.2\n",
      "qtconsole                          5.1.1\n",
      "QtPy                               1.10.0\n",
      "regex                              2021.8.3\n",
      "requests                           2.26.0\n",
      "rope                               0.19.0\n",
      "Rtree                              0.9.7\n",
      "ruamel-yaml-conda                  0.15.100\n",
      "scikit-image                       0.18.3\n",
      "scikit-learn                       0.24.2\n",
      "scikit-learn-intelex               2021.20210714.120553\n",
      "scipy                              1.7.1\n",
      "seaborn                            0.11.2\n",
      "Send2Trash                         1.8.0\n",
      "setuptools                         58.0.4\n",
      "simplegeneric                      0.8.1\n",
      "singledispatch                     3.7.0\n",
      "sip                                4.19.13\n",
      "six                                1.15.0\n",
      "sniffio                            1.2.0\n",
      "snowballstemmer                    2.1.0\n",
      "sortedcollections                  2.1.0\n",
      "sortedcontainers                   2.4.0\n",
      "soupsieve                          2.2.1\n",
      "Sphinx                             4.2.0\n",
      "sphinxcontrib-applehelp            1.0.2\n",
      "sphinxcontrib-devhelp              1.0.2\n",
      "sphinxcontrib-htmlhelp             2.0.0\n",
      "sphinxcontrib-jsmath               1.0.1\n",
      "sphinxcontrib-qthelp               1.0.3\n",
      "sphinxcontrib-serializinghtml      1.1.5\n",
      "sphinxcontrib-websupport           1.2.4\n",
      "spyder                             5.1.5\n",
      "spyder-kernels                     2.1.3\n",
      "SQLAlchemy                         1.4.22\n",
      "statsmodels                        0.12.2\n",
      "sympy                              1.9\n",
      "tables                             3.6.1\n",
      "TBB                                0.2\n",
      "tblib                              1.7.0\n",
      "terminado                          0.9.4\n",
      "testpath                           0.5.0\n",
      "text-unidecode                     1.3\n",
      "textdistance                       4.2.1\n",
      "threadpoolctl                      2.2.0\n",
      "three-merge                        0.1.1\n",
      "tifffile                           2021.7.2\n",
      "tinycss                            0.4\n",
      "toml                               0.10.1\n",
      "toolz                              0.11.1\n",
      "tornado                            6.1\n",
      "tqdm                               4.62.3\n",
      "traitlets                          5.1.0\n",
      "typed-ast                          1.4.3\n",
      "typing-extensions                  3.10.0.2\n",
      "ujson                              4.0.2\n",
      "unicodecsv                         0.14.1\n",
      "Unidecode                          1.2.0\n",
      "urllib3                            1.26.7\n",
      "watchdog                           2.1.3\n",
      "wcwidth                            0.2.5\n",
      "webencodings                       0.5.1\n",
      "Werkzeug                           2.0.2\n",
      "wheel                              0.37.0\n",
      "whichcraft                         0.6.1\n",
      "widgetsnbextension                 3.5.1\n",
      "win-inet-pton                      1.1.0\n",
      "win-unicode-console                0.5\n",
      "wincertstore                       0.2\n",
      "wrapt                              1.12.1\n",
      "xlrd                               2.0.1\n",
      "XlsxWriter                         3.0.1\n",
      "xlwings                            0.24.9\n",
      "xlwt                               1.3.0\n",
      "xmltodict                          0.12.0\n",
      "yapf                               0.31.0\n",
      "zict                               2.0.0\n",
      "zipp                               3.6.0\n",
      "zope.event                         4.5.0\n",
      "zope.interface                     5.4.0\n",
      "Note: you may need to restart the kernel to use updated packages.\n"
     ]
    }
   ],
   "source": [
    "pip list"
   ]
  },
  {
   "cell_type": "code",
   "execution_count": 181,
   "id": "518383b0",
   "metadata": {},
   "outputs": [
    {
     "name": "stdout",
     "output_type": "stream",
     "text": [
      "Name: requests\n",
      "Version: 2.26.0\n",
      "Summary: Python HTTP for Humans.\n",
      "Home-page: https://requests.readthedocs.io\n",
      "Author: Kenneth Reitz\n",
      "Author-email: me@kennethreitz.org\n",
      "License: Apache 2.0\n",
      "Location: c:\\users\\asus\\anaconda3\\lib\\site-packages\n",
      "Requires: urllib3, idna, certifi, charset-normalizer\n",
      "Required-by: Sphinx, jupyterlab-server, cookiecutter, conda, conda-repo-cli, conda-build, anaconda-project, anaconda-client\n",
      "Note: you may need to restart the kernel to use updated packages.\n"
     ]
    }
   ],
   "source": [
    "pip show requests"
   ]
  },
  {
   "cell_type": "code",
   "execution_count": null,
   "id": "717e4458",
   "metadata": {},
   "outputs": [],
   "source": []
  }
 ],
 "metadata": {
  "kernelspec": {
   "display_name": "Python 3 (ipykernel)",
   "language": "python",
   "name": "python3"
  },
  "language_info": {
   "codemirror_mode": {
    "name": "ipython",
    "version": 3
   },
   "file_extension": ".py",
   "mimetype": "text/x-python",
   "name": "python",
   "nbconvert_exporter": "python",
   "pygments_lexer": "ipython3",
   "version": "3.9.7"
  },
  "toc": {
   "base_numbering": 1,
   "nav_menu": {},
   "number_sections": true,
   "sideBar": true,
   "skip_h1_title": false,
   "title_cell": "Table of Contents",
   "title_sidebar": "Contents",
   "toc_cell": false,
   "toc_position": {},
   "toc_section_display": true,
   "toc_window_display": false
  }
 },
 "nbformat": 4,
 "nbformat_minor": 5
}
